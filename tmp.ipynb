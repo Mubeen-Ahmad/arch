{
 "cells": [
  {
   "cell_type": "code",
   "execution_count": 5,
   "id": "f42aaa09-689f-4f59-8dcd-1836c9cf19f3",
   "metadata": {
    "tags": []
   },
   "outputs": [],
   "source": [
    "import nbformat\n",
    "from nbconvert import HTMLExporter\n",
    "import os"
   ]
  },
  {
   "cell_type": "code",
   "execution_count": 6,
   "id": "ea85bc25-271b-4d04-ba19-4dc19e55b121",
   "metadata": {
    "tags": []
   },
   "outputs": [],
   "source": [
    "def convert(file):\n",
    "\n",
    "    with open(file, \"r\", encoding=\"utf-8\") as f:\n",
    "        nb_node = nbformat.read(f, as_version=4)\n",
    "\n",
    "    html_exporter = HTMLExporter()\n",
    "    body, _ = html_exporter.from_notebook_node(nb_node)\n",
    "    name = file[::-1].split(\".\",1)[-1][::-1]\n",
    "    with open(f\"./{name}.html\", \"w\", encoding=\"utf-8\") as f:\n",
    "        f.write(body)\n",
    "\n"
   ]
  },
  {
   "cell_type": "code",
   "execution_count": 7,
   "id": "e242b5fd-0ca2-452b-8eff-e081ede98771",
   "metadata": {
    "tags": []
   },
   "outputs": [
    {
     "name": "stdout",
     "output_type": "stream",
     "text": [
      "9.ipynb\n"
     ]
    }
   ],
   "source": [
    "for i in os.listdir():\n",
    "    # if i.endswith(\".ipynb\") and i.startswith(\"tmp\") == False:\n",
    "    if i.endswith(\"9.ipynb\"):\n",
    "        print(i)\n",
    "        convert(i)"
   ]
  },
  {
   "cell_type": "code",
   "execution_count": 9,
   "id": "c503d98a-b46b-4c6b-ad53-3d1167d469e0",
   "metadata": {},
   "outputs": [
    {
     "name": "stdout",
     "output_type": "stream",
     "text": [
      ".     .gitignore\t  .~5.ipynb  2.html   3.ipynb  images\t  tmp_.ipynb\n",
      "..    .ipynb_checkpoints  1.html     2.ipynb  4.html   tmp\n",
      ".git  .virtual_documents  1.ipynb    3.html   4.ipynb  tmp.ipynb\n"
     ]
    }
   ],
   "source": [
    "!ls -a"
   ]
  },
  {
   "cell_type": "code",
   "execution_count": null,
   "id": "8518f401-fb77-4e26-ac73-8a95aea090e5",
   "metadata": {},
   "outputs": [],
   "source": []
  },
  {
   "cell_type": "code",
   "execution_count": 20,
   "id": "50afe3f6-76d7-418f-8f63-6e32bf4f5a6a",
   "metadata": {
    "tags": []
   },
   "outputs": [],
   "source": [
    "import json"
   ]
  },
  {
   "cell_type": "code",
   "execution_count": null,
   "id": "a18cf93d-c817-45ea-908e-d02e0498e3c4",
   "metadata": {
    "tags": []
   },
   "outputs": [],
   "source": []
  },
  {
   "cell_type": "code",
   "execution_count": null,
   "id": "14971595-274b-4a53-a24c-d14c9537b7a5",
   "metadata": {},
   "outputs": [],
   "source": []
  },
  {
   "cell_type": "code",
   "execution_count": 45,
   "id": "3f01aa19-f21c-4ba9-be64-85262751dbfc",
   "metadata": {
    "tags": []
   },
   "outputs": [],
   "source": [
    "with open(file, 'r') as f:\n",
    "    js = json.load(f)\n",
    "\n",
    "# Function to recursively update each dict jo 'url' rakhta hai\n",
    "def add_html_key(obj):\n",
    "    if isinstance(obj, dict):\n",
    "        # Agar 'url' key hai to 'html' key bhi add kar do\n",
    "        if 'url' in obj:\n",
    "            obj['html'] = obj['url'].replace(\"https://nbviewer.org/github/\",\"https://htmlpreview.github.io/?https://github.com/\").replace(\"ipynb\",\"html\")\n",
    "        # Recursively sub-dictionaries ya lists me bhi call karo\n",
    "        for k, v in obj.items():\n",
    "            add_html_key(v)\n",
    "    elif isinstance(obj, list):\n",
    "        for item in obj:\n",
    "            add_html_key(item)\n",
    "\n",
    "# JSON ke root me call kar do\n",
    "add_html_key(js)\n",
    "with open(file, 'w') as f_out:\n",
    "    json.dump(js, f_out, indent=4)"
   ]
  },
  {
   "cell_type": "code",
   "execution_count": 27,
   "id": "d68cc218-2cfe-4b4b-936f-96766c189438",
   "metadata": {
    "tags": []
   },
   "outputs": [
    {
     "data": {
      "text/plain": [
       "{'courses': {'functional_programming': {'topic_name': 'Functional Python Programming',\n",
       "   'description': 'Master the art of writing clean, efficient code using functional paradigms.',\n",
       "   'url': 'functional_programming.html',\n",
       "   'subtopics': {'Function': {'topic_name': 'Function',\n",
       "     'description': '- What is Function<br>- What is return Statement<br>- What is Nested Function<br>- *args and  **kwargs<br>- default Argument',\n",
       "     'url': 'https://nbviewer.org/github/Mubeen-Ahmad/Functional_Programming/blob/main/0.ipynb',\n",
       "     'html': 'html/https://nbviewer.org/github/Mubeen-Ahmad/Functional_Programming/blob/main/0.ipynb'},\n",
       "    'refference': {'topic_name': 'Pass By Value or Refference',\n",
       "     'description': '- Immutable Object (Support as Pass by Value)<br>- mutable Object (Support as Pass by Refference)',\n",
       "     'url': 'https://nbviewer.org/github/Mubeen-Ahmad/Functional_Programming/blob/main/0.1.ipynb',\n",
       "     'html': 'html/https://nbviewer.org/github/Mubeen-Ahmad/Functional_Programming/blob/main/0.1.ipynb'},\n",
       "    'lambda_doc': {'topic_name': 'Lambda Function and Docstring',\n",
       "     'description': '- lambda Anonmyous<br>- What is Docstring<br>- What should be included in a docstring?',\n",
       "     'url': 'https://nbviewer.org/github/Mubeen-Ahmad/Functional_Programming/blob/main/0.2.ipynb',\n",
       "     'html': 'html/https://nbviewer.org/github/Mubeen-Ahmad/Functional_Programming/blob/main/0.2.ipynb'},\n",
       "    'namespace': {'topic_name': 'Namespaces LEGB Rule',\n",
       "     'description': '- Local Scope<br>- Global Scope<br>- Enclosing / Non Local Scope<br>- Built-In Scope<br>- local and global keyword<br>- locals and globals Function',\n",
       "     'url': 'https://nbviewer.org/github/Mubeen-Ahmad/Functional_Programming/blob/main/0.3.ipynb',\n",
       "     'html': 'html/https://nbviewer.org/github/Mubeen-Ahmad/Functional_Programming/blob/main/0.3.ipynb'},\n",
       "    'iter_iterable': {'topic_name': 'Iterables and Iterators',\n",
       "     'description': '- What is Iterable (Sequential Data Types)<br>- Iterators (Convert iterable into Iterator for iterate)<br>- iter() Function (convert iterable to iterator)<br>- next() Function (Iterations)<br>- Sequential Process (User Single Value at 1 time)<br>-  Is All Iterables are Iterators ? (No)<br>- Identify Iterators (with collections.abc.Iterable with isinstance function)<br>- itertools.chain() Method<br>- itertools.permutations() Method<br>- itertools.combinations() Method<br>- itertools.accumulate() Method<br>- itertools.cycle() Method<br>- zip Function<br>- enumerate() Function',\n",
       "     'url': 'https://nbviewer.org/github/Mubeen-Ahmad/Functional_Programming/blob/main/10.ipynb',\n",
       "     'html': 'html/https://nbviewer.org/github/Mubeen-Ahmad/Functional_Programming/blob/main/10.ipynb'},\n",
       "    'Generators': {'topic_name': 'Generators',\n",
       "     'description': '- What is Generators (Special Type of Iterator)<br>- Concept of Yield<br>- Concept of Pause and Resume<br>- Sender and Reciver Concept(.send Method)<br>- next() and .send<br>- Throw Error outside (.throw Method)<br>- Close Generator (.close Method)<br>- Normal Iterators Vs Generators<br>- Generaters Vs Function',\n",
       "     'url': 'https://nbviewer.org/github/Mubeen-Ahmad/Functional_Programming/blob/main/11.ipynb',\n",
       "     'html': 'html/https://nbviewer.org/github/Mubeen-Ahmad/Functional_Programming/blob/main/11.ipynb'},\n",
       "    'Comprehensions ': {'topic_name': 'Comprehensions ',\n",
       "     'description': '- List Comprehensions<br>- Set Comprehensions<br>- Dictionary Comprehensions<br>- Generator Comprehensions',\n",
       "     'url': 'https://nbviewer.org/github/Mubeen-Ahmad/Functional_Programming/blob/main/12.ipynb',\n",
       "     'html': 'html/https://nbviewer.org/github/Mubeen-Ahmad/Functional_Programming/blob/main/12.ipynb'},\n",
       "    'introduction': {'topic_name': 'Introduction of Functional Programming',\n",
       "     'description': '- An overview of Functional programming principles.<br>- Imperative vs Functional Paradigm<br>- Advantages',\n",
       "     'url': 'https://nbviewer.org/github/Mubeen-Ahmad/Functional_Programming/blob/main/1.ipynb',\n",
       "     'html': 'html/https://nbviewer.org/github/Mubeen-Ahmad/Functional_Programming/blob/main/1.ipynb'},\n",
       "    'pure_and_impure_functions': {'topic_name': 'Pure & Impure Function',\n",
       "     'description': '- Pure Function<br>- Impure (Normal) Function',\n",
       "     'url': 'https://nbviewer.org/github/Mubeen-Ahmad/Functional_Programming/blob/main/2.ipynb',\n",
       "     'html': 'html/https://nbviewer.org/github/Mubeen-Ahmad/Functional_Programming/blob/main/2.ipynb'},\n",
       "    'higher_order_functions': {'topic_name': 'First Class & Higher Order Function',\n",
       "     'description': '- First Class Function<br>- Assign Function in the Variable<br>- Higher Order Function<br>- Pass Function as a Argument and Call Function With The Argument<br>- Function Return Other Function and Call it Outside',\n",
       "     'url': 'https://nbviewer.org/github/Mubeen-Ahmad/Functional_Programming/blob/main/3.ipynb',\n",
       "     'html': 'html/https://nbviewer.org/github/Mubeen-Ahmad/Functional_Programming/blob/main/3.ipynb'},\n",
       "    'close_function': {'topic_name': 'Closure Function',\n",
       "     'description': '- What is Closure Function<br> - All Clouser Function is also a Higher Order Function<br>- But All Higher Order Function are Not a Clouser Function',\n",
       "     'url': 'https://nbviewer.org/github/Mubeen-Ahmad/Functional_Programming/blob/main/4.ipynb',\n",
       "     'html': 'html/https://nbviewer.org/github/Mubeen-Ahmad/Functional_Programming/blob/main/4.ipynb'},\n",
       "    'bulitin_hof1': {'topic_name': 'Bulit-In Higher Order Function 1 (Functools) ',\n",
       "     'description': '- Partial Function (Fix Argument Value)<br>- Reduce Function (Single Value Return)<br>- Map Function(Apply operation)<br>- Filter Function(Select True Value)<br>- cmp_to_key Function (Use with Sorted as a Custom Logic)',\n",
       "     'url': 'https://nbviewer.org/github/Mubeen-Ahmad/Functional_Programming/blob/main/5.ipynb',\n",
       "     'html': 'html/https://nbviewer.org/github/Mubeen-Ahmad/Functional_Programming/blob/main/5.ipynb'},\n",
       "    'dec': {'topic_name': 'Decorators ',\n",
       "     'description': '- What is Decorators<br>- @ Syntax<br>- All Decorators is a HOF<br>- But All HOF are Not a Decorators<br>- Where we Used Decorators<br>- Multiple Decorators<br>- Parameters in Decorators (Multi-Level Used only if Parameter required directly in Decorators)<br>- Arags and Kwargs in Decorators Function',\n",
       "     'url': 'https://nbviewer.org/github/Mubeen-Ahmad/Functional_Programming/blob/main/6.ipynb',\n",
       "     'html': 'html/https://nbviewer.org/github/Mubeen-Ahmad/Functional_Programming/blob/main/6.ipynb'},\n",
       "    'bulitin_hof2': {'topic_name': 'Bulit-In Higher Order Function 2 (Functools) ',\n",
       "     'description': '- wraps Function (Copy Metadata of Orignal Function)<br>- singledispatch Function (Change the Function Behavior for Different DataType)<br>- lru_cache Function(Store Recently Use Values)',\n",
       "     'url': 'https://nbviewer.org/github/Mubeen-Ahmad/Functional_Programming/blob/main/7.ipynb',\n",
       "     'html': 'html/https://nbviewer.org/github/Mubeen-Ahmad/Functional_Programming/blob/main/7.ipynb'},\n",
       "    'topic8': {'topic_name': 'Currying and Composition',\n",
       "     'description': '- Curring (Just Divide Multiple Arguments into Nested Functions)<br>- Composition (Just Pass Functions into Single Function and Create a New Function)<br>- Concept of HOF<br>- Concept of  Closure<br>- Concept of Decorator<br>- Concept of Currying<br>- Concept of Composition',\n",
       "     'url': 'https://nbviewer.org/github/Mubeen-Ahmad/Functional_Programming/blob/main/8.ipynb',\n",
       "     'html': 'html/https://nbviewer.org/github/Mubeen-Ahmad/Functional_Programming/blob/main/8.ipynb'},\n",
       "    'topic9': {'topic_name': 'Recursion',\n",
       "     'description': '- What is Recursion<br>- Base Case and Recursive Case<br>- Direct Recursion<br>- InDirect Recursion<br>- Tail Recursion<br>- Tree Recursion<br>- Nested Recursion<br>- Common Mistakes in Recursion',\n",
       "     'url': 'https://nbviewer.org/github/Mubeen-Ahmad/Functional_Programming/blob/main/9.ipynb',\n",
       "     'html': 'html/https://nbviewer.org/github/Mubeen-Ahmad/Functional_Programming/blob/main/9.ipynb'},\n",
       "    'project1': {'topic_name': 'Mini Project',\n",
       "     'description': '- Create a Login System<br>- Manage Tokens and Sessions<br>- Manage Validations With Decorators<br>- Use Generator For Send a Messages',\n",
       "     'url': 'https://nbviewer.org/github/Mubeen-Ahmad/Functional_Programming/blob/main/project1.ipynb',\n",
       "     'html': 'html/https://nbviewer.org/github/Mubeen-Ahmad/Functional_Programming/blob/main/project1.ipynb'}},\n",
       "   'html': 'html/functional_programming.html'},\n",
       "  'dsa': {'topic_name': 'DSA Python',\n",
       "   'description': 'Explore DSA that provides efficient ways to store and process data, covering sorting, searching, recursion, graphs, trees, and optimization algorithms.',\n",
       "   'url': 'dsa.html',\n",
       "   'subtopics': {'t1': {'topic_name': 'Scalar, Vector, Array, and Tensors',\n",
       "     'description': '- What is Scalar (Single Value)<br>- What is Vector (1-D)<br>- What is Array (n-D)<br>- What is Tensors (n-D)',\n",
       "     'url': 'https://nbviewer.org/github/Mubeen-Ahmad/DSA/blob/main/1.ipynb',\n",
       "     'html': 'html/https://nbviewer.org/github/Mubeen-Ahmad/DSA/blob/main/1.ipynb'},\n",
       "    't2': {'topic_name': 'Data Structures and Types',\n",
       "     'description': '- Primitive and Non- Primitive Data Types<br>- Linear Data Structure<br>- Non Linear Data Structures',\n",
       "     'url': 'https://nbviewer.org/github/Mubeen-Ahmad/DSA/blob/main/2.ipynb',\n",
       "     'html': 'html/https://nbviewer.org/github/Mubeen-Ahmad/DSA/blob/main/2.ipynb'},\n",
       "    't3': {'topic_name': 'Arrays Data Structures',\n",
       "     'description': '- Arrays Data Structures<br>- Linear Data Structure<br>- Contiguous Memory Address<br>- Fix (Static) and Dynamic Size Array<br>- Homogeneous vs Non-Homogeneous',\n",
       "     'url': 'https://nbviewer.org/github/Mubeen-Ahmad/DSA/blob/main/3.ipynb',\n",
       "     'html': 'html/https://nbviewer.org/github/Mubeen-Ahmad/DSA/blob/main/3.ipynb'},\n",
       "    't4': {'topic_name': 'Arrays CRUD Operations',\n",
       "     'description': '- Create Array (Insertion in Array)<br>- Read (Traversal in Array)<br>- Update (Modification in Array)<br>- Delete (Remove an Element)',\n",
       "     'url': 'https://nbviewer.org/github/Mubeen-Ahmad/DSA/blob/main/4.ipynb',\n",
       "     'html': 'html/https://nbviewer.org/github/Mubeen-Ahmad/DSA/blob/main/4.ipynb'},\n",
       "    't5': {'topic_name': 'Linked List',\n",
       "     'description': '- What is Linked List(Connect Two or More Nodes)<br>- Static and Dynamic Linked list<br>- Node , Head , Tail<br>-  Example 1 Inserting Node at Start<br>- Example 2 Inserting Node at the End<br>- Example 3 Track and Count Nodes<br>- Example 4 Inserting Node at the Mid',\n",
       "     'url': 'https://nbviewer.org/github/Mubeen-Ahmad/DSA/blob/main/5.ipynb',\n",
       "     'html': 'html/https://nbviewer.org/github/Mubeen-Ahmad/DSA/blob/main/5.ipynb'},\n",
       "    't6': {'topic_name': 'Types of Linked List',\n",
       "     'description': '- Single<br>- Double<br>- Circular',\n",
       "     'url': 'https://nbviewer.org/github/Mubeen-Ahmad/DSA/blob/main/6.ipynb',\n",
       "     'html': 'html/https://nbviewer.org/github/Mubeen-Ahmad/DSA/blob/main/6.ipynb'}},\n",
       "   'html': 'html/dsa.html'},\n",
       "  'deep_learning': {'topic_name': 'Deep Learning',\n",
       "   'description': 'Dive into neural networks and cutting-edge AI techniques.',\n",
       "   'url': 'deep_learning.html',\n",
       "   'html': 'html/deep_learning.html'},\n",
       "  'python': {'topic_name': 'Python for Data Science',\n",
       "   'description': 'Enhance your Python skills for data analysis and visualization.',\n",
       "   'url': 'python.html',\n",
       "   'html': 'html/python.html'}}}"
      ]
     },
     "execution_count": 27,
     "metadata": {},
     "output_type": "execute_result"
    }
   ],
   "source": []
  }
 ],
 "metadata": {
  "kernelspec": {
   "display_name": "Python 3 (ipykernel)",
   "language": "python",
   "name": "python3"
  },
  "language_info": {
   "codemirror_mode": {
    "name": "ipython",
    "version": 3
   },
   "file_extension": ".py",
   "mimetype": "text/x-python",
   "name": "python",
   "nbconvert_exporter": "python",
   "pygments_lexer": "ipython3",
   "version": "3.13.4"
  }
 },
 "nbformat": 4,
 "nbformat_minor": 5
}
