{
 "cells": [
  {
   "cell_type": "markdown",
   "id": "f4a47606-33c8-4dca-99e1-910f25f1be07",
   "metadata": {},
   "source": [
    "<h1 style=\"text-align:center; color:#005bbd; font-size:20px; font-family:Sans-serif; font-style: oblique; text-shadow: 0 0 3px white, 0 0 1px Black;\">\n",
    "Create Directory Commands</h1>"
   ]
  },
  {
   "cell_type": "markdown",
   "id": "e1b6334d-773d-43e3-8bbb-df1e808ff66b",
   "metadata": {},
   "source": [
    "<body style=\"font-family: Sans-serif;\">\n",
    "    <div style=\"color: black; font-size: 15px; font-style: oblique; text-shadow: 0 0 3px white, 0 0 1px black; padding: 20px;\">\n",
    "\n",
    "## Create Directory\n",
    "\n",
    "    mkdir new folder (directory) banata hai.\n"
   ]
  },
  {
   "cell_type": "markdown",
   "id": "dc551ed7-7102-4468-b726-efabc4bbfe7d",
   "metadata": {},
   "source": [
    "<body style=\"font-family: Sans-serif;\">\n",
    "    <div style=\"color: black; font-size: 15px; font-style: oblique; text-shadow: 0 0 3px white, 0 0 1px black; padding: 20px;\">\n",
    "\n",
    "#### For Example\n",
    "- `mkdir myfolder`\n",
    "<img src=\"./images/32.jpg\" style=\"display: block;margin-left: auto; margin-right: auto;width:80%\">\n",
    "\n",
    "- #### Ye current directory mein ek naya folder bana dega jiska naam myfolder hoga\n"
   ]
  },
  {
   "cell_type": "markdown",
   "id": "c9d0ca27-97ea-4474-903f-ed6072a05b1b",
   "metadata": {},
   "source": [
    "<body style=\"font-family: Sans-serif;\">\n",
    "    <div style=\"color: black; font-size: 15px; font-style: oblique; text-shadow: 0 0 3px white, 0 0 1px black; padding: 20px;\">\n",
    "\n",
    "- `mkdir -p folder1/folder2/folder3`\n",
    "- #### Useful jab nested folders banane ho"
   ]
  },
  {
   "cell_type": "code",
   "execution_count": 9,
   "id": "f71b7790-f61a-4874-8ed1-29a789ed8ec7",
   "metadata": {},
   "outputs": [
    {
     "name": "stdout",
     "output_type": "stream",
     "text": [
      "folder1:\n",
      "folder2\n",
      "\n",
      "folder1/folder2:\n",
      "folder3\n",
      "\n",
      "folder1/folder2/folder3:\n"
     ]
    }
   ],
   "source": [
    "mkdir -p folder1/folder2/folder3\n",
    "ls -R folder1"
   ]
  },
  {
   "cell_type": "markdown",
   "id": "ff68d49d-a944-4754-9eda-29b958b2dad8",
   "metadata": {},
   "source": [
    "<body style=\"font-family: Sans-serif;\">\n",
    "    <div style=\"color: black; font-size: 15px; font-style: oblique; text-shadow: 0 0 3px white, 0 0 1px black; padding: 20px;\">\n",
    "\n",
    "- `mkdir -v myfolder (verbose)`\n",
    "- #### Jo bhi folder ban raha hai, wo terminal pe message dikhata hai"
   ]
  },
  {
   "cell_type": "code",
   "execution_count": 11,
   "id": "27aa0663-747a-4b81-b6a9-05afe4f4bdf3",
   "metadata": {},
   "outputs": [
    {
     "name": "stdout",
     "output_type": "stream",
     "text": [
      "mkdir: created directory 'new_folder'\n"
     ]
    }
   ],
   "source": [
    "mkdir -v new_folder"
   ]
  },
  {
   "cell_type": "markdown",
   "id": "b8c0e59e-8f92-466b-a3e1-93c0fc12fdd4",
   "metadata": {},
   "source": [
    "<body style=\"font-family: Sans-serif;\">\n",
    "    <div style=\"color: black; font-size: 15px; font-style: oblique; text-shadow: 0 0 3px white, 0 0 1px black; padding: 20px;\">\n",
    "\n",
    "- `mkdir --mode=755 myfolder (Permissions set karna)`\n",
    "- #### Folder ke sath permissions bhi set kar sakte ho"
   ]
  },
  {
   "cell_type": "markdown",
   "id": "38f14e5f-b543-45e7-b32d-5e14f272a792",
   "metadata": {},
   "source": [
    "<body style=\"font-family: Sans-serif;\">\n",
    "    <div style=\"color: black; font-size: 15px; font-style: oblique; text-shadow: 0 0 3px white, 0 0 1px black; padding: 20px;\">\n",
    "\n",
    "- `mkdir a b c`\n",
    "- #### Create Multiple folders"
   ]
  },
  {
   "cell_type": "code",
   "execution_count": 18,
   "id": "e6d2e174-f940-4977-a707-ca7987ee0c84",
   "metadata": {},
   "outputs": [
    {
     "name": "stdout",
     "output_type": "stream",
     "text": [
      "1.txt\n",
      "Documents\n",
      "My Files\n",
      "a\n",
      "b\n",
      "c\n",
      "code\n",
      "folder1\n",
      "linux\n",
      "myfolder\n",
      "new_folder\n",
      "xyz\n"
     ]
    }
   ],
   "source": [
    "mkdir a b c\n",
    "ls"
   ]
  },
  {
   "cell_type": "markdown",
   "id": "7f87fb1c-9027-4a5a-b44b-36c2577b57b9",
   "metadata": {},
   "source": [
    "<body style=\"font-family: Sans-serif;\">\n",
    "    <div style=\"color: black; font-size: 15px; font-style: oblique; text-shadow: 0 0 3px white, 0 0 1px black; padding: 20px;\">\n",
    "\n",
    "- `mkdir \"This is my folder\"`\n",
    "- #### With spaces in folder name"
   ]
  },
  {
   "cell_type": "code",
   "execution_count": 19,
   "id": "5ecf127b-ffe2-471f-80a5-5b80e5565a75",
   "metadata": {},
   "outputs": [
    {
     "name": "stdout",
     "output_type": "stream",
     "text": [
      "1.txt\n",
      "Documents\n",
      "My Files\n",
      "This is my folder\n",
      "a\n",
      "b\n",
      "c\n",
      "code\n",
      "folder1\n",
      "linux\n",
      "myfolder\n",
      "new_folder\n",
      "xyz\n"
     ]
    }
   ],
   "source": [
    "mkdir \"This is my folder\"\n",
    "ls"
   ]
  },
  {
   "cell_type": "markdown",
   "id": "b3b19414-5dee-471b-b964-651c2e91a74a",
   "metadata": {},
   "source": [
    "<body style=\"font-family: Sans-serif;\">\n",
    "    <div style=\"color: black; font-size: 15px; font-style: oblique; text-shadow: 0 0 3px white, 0 0 1px black; padding: 20px;\">\n",
    "        \n",
    "### Agar folder already exist karta ho, aur aap -p use nahi karte:\n",
    "- `mkdir xyz`"
   ]
  },
  {
   "cell_type": "code",
   "execution_count": 23,
   "id": "a5f29e16-853b-4fd3-8ff8-e35461b8c6b5",
   "metadata": {},
   "outputs": [
    {
     "name": "stdout",
     "output_type": "stream",
     "text": [
      "mkdir: cannot create directory ‘myfolder’: File exists\n"
     ]
    }
   ],
   "source": [
    "mkdir xyz"
   ]
  },
  {
   "cell_type": "markdown",
   "id": "bd1ace97-1be3-447b-a1d3-647369472635",
   "metadata": {},
   "source": [
    "<body style=\"font-family: Sans-serif;\">\n",
    "    <div style=\"color: black; font-size: 15px; font-style: oblique; text-shadow: 0 0 3px white, 0 0 1px black; padding: 20px;\">\n",
    "        \n",
    "### Use -p:\n",
    "- `mkdir -p xyz`"
   ]
  },
  {
   "cell_type": "code",
   "execution_count": 28,
   "id": "b8179004-a71b-485a-a7ea-eb25d5017ead",
   "metadata": {},
   "outputs": [],
   "source": [
    "mkdir -p xyz"
   ]
  },
  {
   "cell_type": "markdown",
   "id": "c0439890-18fb-496d-a7b9-34ebcc1fe4dd",
   "metadata": {},
   "source": [
    "<h1 style=\"text-align:center; color:#005bbd; font-size:20px; font-family:Sans-serif; font-style: oblique; text-shadow: 0 0 3px white, 0 0 1px Black;\">\n",
    "Remove Directory Commands</h1>"
   ]
  },
  {
   "cell_type": "markdown",
   "id": "2314cef2-76b3-4c2d-aba8-5c1cea9894a1",
   "metadata": {},
   "source": [
    "<body style=\"font-family: Sans-serif;\">\n",
    "    <div style=\"color: black; font-size: 15px; font-style: oblique; text-shadow: 0 0 3px white, 0 0 1px black; padding: 20px;\">\n",
    "\n",
    "## Remove Directory\n",
    "\n",
    "    rmdir ka kaam hai khaali (empty) folder ko delete karna.\n"
   ]
  },
  {
   "cell_type": "code",
   "execution_count": 48,
   "id": "833a4903-785b-4a4f-8cdf-276eb0d97e75",
   "metadata": {},
   "outputs": [
    {
     "name": "stdout",
     "output_type": "stream",
     "text": [
      "myfolder1\n",
      "myfolder2\n"
     ]
    }
   ],
   "source": [
    "mkdir myfolder1 myfolder2\n",
    "ls"
   ]
  },
  {
   "cell_type": "markdown",
   "id": "ecf5dea0-268b-4191-8331-9c613e7a1d78",
   "metadata": {},
   "source": [
    "<body style=\"font-family: Sans-serif;\">\n",
    "    <div style=\"color: black; font-size: 15px; font-style: oblique; text-shadow: 0 0 3px white, 0 0 1px black; padding: 20px;\">\n",
    "        \n",
    "### Remove Directory\n",
    "- `rmdir foldername`"
   ]
  },
  {
   "cell_type": "code",
   "execution_count": 49,
   "id": "fbc5af7d-a6d9-43ab-96c3-53a7f8320acf",
   "metadata": {},
   "outputs": [
    {
     "name": "stdout",
     "output_type": "stream",
     "text": [
      "myfolder2\n"
     ]
    }
   ],
   "source": [
    "rmdir myfolder1\n",
    "ls"
   ]
  },
  {
   "cell_type": "markdown",
   "id": "f1179641-eb82-4980-9bda-3847140e3fe6",
   "metadata": {},
   "source": [
    "<body style=\"font-family: Sans-serif;\">\n",
    "    <div style=\"color: black; font-size: 15px; font-style: oblique; text-shadow: 0 0 3px white, 0 0 1px black; padding: 20px;\">\n",
    "    \n",
    "### Agar folder empty nahi hai Error aye ga"
   ]
  },
  {
   "cell_type": "code",
   "execution_count": 58,
   "id": "5ddd86a1-d104-4c88-81e0-d0303c2e5b01",
   "metadata": {},
   "outputs": [
    {
     "name": "stdout",
     "output_type": "stream",
     "text": [
      "myfolder2:\n",
      "data\n",
      "\n",
      "myfolder2/data:\n"
     ]
    }
   ],
   "source": [
    "mkdir myfolder2/data\n",
    "ls -R myfolder2"
   ]
  },
  {
   "cell_type": "markdown",
   "id": "250ea0f4-d101-4a3d-badb-0326f5344c39",
   "metadata": {},
   "source": [
    "<body style=\"font-family: Sans-serif;\">\n",
    "    <div style=\"color: black; font-size: 15px; font-style: oblique; text-shadow: 0 0 3px white, 0 0 1px black; padding: 20px;\">\n",
    "    \n",
    "### Aab folder2 empty nahi hn"
   ]
  },
  {
   "cell_type": "code",
   "execution_count": 65,
   "id": "36e7576f-69c4-4fec-9247-5e714ef69eeb",
   "metadata": {},
   "outputs": [
    {
     "name": "stderr",
     "output_type": "stream",
     "text": [
      "rmdir: failed to remove 'myfolder2': Directory not empty\n"
     ]
    },
    {
     "name": "stdout",
     "output_type": "stream",
     "text": [
      "\n"
     ]
    }
   ],
   "source": [
    "rmdir myfolder2"
   ]
  },
  {
   "cell_type": "markdown",
   "id": "5b46b4c5-3d3f-4370-8ffd-42581ad64b75",
   "metadata": {},
   "source": [
    "<body style=\"font-family: Sans-serif;\">\n",
    "    <div style=\"color: black; font-size: 15px; font-style: oblique; text-shadow: 0 0 3px white, 0 0 1px black; padding: 20px;\">\n",
    "    \n",
    "### Silently ignore Error\n",
    "`rmdir --ignore-fail foldername`\n",
    "\n",
    "#### Agar folder empty na ho to error show nahi karega, silently ignore karega"
   ]
  },
  {
   "cell_type": "code",
   "execution_count": 74,
   "id": "b06cb117-4b88-426a-9437-f046bcc721f4",
   "metadata": {},
   "outputs": [
    {
     "name": "stdout",
     "output_type": "stream",
     "text": [
      "myfolder2\n"
     ]
    }
   ],
   "source": [
    "rmdir --ignore-fail myfolder2\n",
    "ls"
   ]
  },
  {
   "cell_type": "markdown",
   "id": "8f9a5899-0311-4b9f-9180-ed6bc6338eb6",
   "metadata": {},
   "source": [
    "<body style=\"font-family: Sans-serif;\">\n",
    "    <div style=\"color: black; font-size: 15px; font-style: oblique; text-shadow: 0 0 3px white, 0 0 1px black; padding: 20px;\">\n",
    "    \n",
    "### -p Parents Folder Delete\n",
    "`rmdir -p folder1/folder2/folder3`\n",
    "\n",
    "#### Agar folder3 khaali hai, to peechhe ke empty parent folders bhi delete karega\n",
    "#### Note! har folder empty hona chahiye."
   ]
  },
  {
   "cell_type": "code",
   "execution_count": 78,
   "id": "ff9f829b-e380-429c-859d-b70c9f9680b5",
   "metadata": {},
   "outputs": [
    {
     "name": "stdout",
     "output_type": "stream",
     "text": [
      "a:\n",
      "b\n",
      "\n",
      "a/b:\n",
      "c\n",
      "\n",
      "a/b/c:\n"
     ]
    }
   ],
   "source": [
    "mkdir -p a/b/c\n",
    "ls -R a"
   ]
  },
  {
   "cell_type": "code",
   "execution_count": 82,
   "id": "6480999b-4aa9-4bdc-b836-4971d23e3e8c",
   "metadata": {},
   "outputs": [
    {
     "name": "stdout",
     "output_type": "stream",
     "text": [
      "myfolder2\n"
     ]
    }
   ],
   "source": [
    "ls "
   ]
  },
  {
   "cell_type": "markdown",
   "id": "3f15acaf-0872-4e8f-a702-d48f33e03197",
   "metadata": {},
   "source": [
    "<h1 style=\"text-align:center; color:#005bbd; font-size:20px; font-family:Sans-serif; font-style: oblique; text-shadow: 0 0 3px white, 0 0 1px Black;\">\n",
    "Remove Command</h1>"
   ]
  },
  {
   "cell_type": "markdown",
   "id": "205f87e1-3985-477f-9a48-2ec9eae16dbd",
   "metadata": {},
   "source": [
    "<body style=\"font-family: Sans-serif;\">\n",
    "    <div style=\"color: black; font-size: 15px; font-style: oblique; text-shadow: 0 0 3px white, 0 0 1px black; padding: 20px;\">\n",
    "        \n",
    "## Remove Command\n",
    "    Files ya folders permanently delete karta hai (bina recycle bin/trash ke)."
   ]
  },
  {
   "cell_type": "markdown",
   "id": "55556603-c7d8-4edc-b626-8c190f05989d",
   "metadata": {},
   "source": [
    "<body style=\"font-family: Sans-serif;\">\n",
    "    <div style=\"color: black; font-size: 15px; font-style: oblique; text-shadow: 0 0 3px white, 0 0 1px black; padding: 20px;\">\n",
    "\n",
    "#### For Example\n",
    "- `rm -r folder`\n",
    "- `rm filename`\n"
   ]
  },
  {
   "cell_type": "code",
   "execution_count": 89,
   "id": "4c7ddf96-f401-47b9-a83e-f8c256e770ab",
   "metadata": {},
   "outputs": [
    {
     "name": "stdout",
     "output_type": "stream",
     "text": [
      "data.txt\n",
      "myfolder2\n"
     ]
    }
   ],
   "source": [
    "ls"
   ]
  },
  {
   "cell_type": "code",
   "execution_count": 91,
   "id": "8b573ec0-7d3a-4e2b-8d1d-146075f916e7",
   "metadata": {},
   "outputs": [
    {
     "name": "stdout",
     "output_type": "stream",
     "text": [
      "myfolder2\n"
     ]
    }
   ],
   "source": [
    "rm data.txt\n",
    "ls "
   ]
  },
  {
   "cell_type": "code",
   "execution_count": 92,
   "id": "470a42ed-3e3b-4a3e-bf6f-cfa2e69ead2f",
   "metadata": {},
   "outputs": [],
   "source": [
    "rm -r myfolder2\n",
    "ls "
   ]
  },
  {
   "cell_type": "markdown",
   "id": "662a13b8-7aae-49c2-a53b-203f4ca4b55f",
   "metadata": {},
   "source": [
    "<body style=\"font-family: Sans-serif;\">\n",
    "    <div style=\"color: black; font-size: 15px; font-style: oblique; text-shadow: 0 0 3px white, 0 0 1px black; padding: 20px;\">\n",
    "\n",
    "#### Remove None Empty Folder\n",
    "- `rm -r folder`"
   ]
  },
  {
   "cell_type": "code",
   "execution_count": 95,
   "id": "06a2c5c1-9e89-44a4-9d0a-3e77b414ae6e",
   "metadata": {},
   "outputs": [
    {
     "name": "stdout",
     "output_type": "stream",
     "text": [
      ".:\n",
      "a\n",
      "\n",
      "./a:\n",
      "b\n",
      "\n",
      "./a/b:\n",
      "c\n",
      "\n",
      "./a/b/c:\n"
     ]
    }
   ],
   "source": [
    "mkdir -p a/b/c\n",
    "ls -R"
   ]
  },
  {
   "cell_type": "code",
   "execution_count": 96,
   "id": "950e7baf-04d8-4b1b-a1e1-03f368d70b51",
   "metadata": {},
   "outputs": [],
   "source": [
    "rm -r a\n",
    "ls "
   ]
  },
  {
   "cell_type": "markdown",
   "id": "75e608fd-ee35-4926-9993-31774a15ad27",
   "metadata": {},
   "source": [
    "<body style=\"font-family: Sans-serif;\">\n",
    "    <div style=\"color: black; font-size: 15px; font-style: oblique; text-shadow: 0 0 3px white, 0 0 1px black; padding: 20px;\">\n",
    "\n",
    "#### -f or --force\n",
    "- `rm -f filename`\n",
    "#### Error suppress karta hai (agar file nahi ho to bhi Error nahi Dega)"
   ]
  },
  {
   "cell_type": "code",
   "execution_count": 102,
   "id": "fc5c4579-4340-474f-bb29-80308fe221dc",
   "metadata": {},
   "outputs": [
    {
     "name": "stdout",
     "output_type": "stream",
     "text": [
      "data.txt\n"
     ]
    }
   ],
   "source": [
    "touch data.txt\n",
    "ls"
   ]
  },
  {
   "cell_type": "code",
   "execution_count": 104,
   "id": "a2407291-0a17-4288-a376-4afd0fc1f775",
   "metadata": {},
   "outputs": [],
   "source": [
    "rm -f data.txt\n",
    "ls"
   ]
  },
  {
   "cell_type": "markdown",
   "id": "73350a84-24e9-4646-ae30-fba4b9181b44",
   "metadata": {},
   "source": [
    "<body style=\"font-family: Sans-serif;\">\n",
    "    <div style=\"color: black; font-size: 15px; font-style: oblique; text-shadow: 0 0 3px white, 0 0 1px black; padding: 20px;\">\n",
    "\n",
    "#### -rf\n",
    "- `rm -rf name`\n",
    "#### Force + Recursive: bina puchay sab kuch delete kar deta hai\n",
    "#### Note Dangerous for system folders. Use with caution!"
   ]
  },
  {
   "cell_type": "code",
   "execution_count": 109,
   "id": "61633544-5f71-4bd8-ad80-ec7d44730fbd",
   "metadata": {},
   "outputs": [
    {
     "name": "stdout",
     "output_type": "stream",
     "text": [
      ".:\n",
      "os\n",
      "\n",
      "./os:\n",
      "file1\n",
      "\n",
      "./os/file1:\n",
      "file2\n",
      "\n",
      "./os/file1/file2:\n",
      "file3\n",
      "\n",
      "./os/file1/file2/file3:\n"
     ]
    }
   ],
   "source": [
    "mkdir -p os/file1/file2/file3\n",
    "ls -R"
   ]
  },
  {
   "cell_type": "code",
   "execution_count": 110,
   "id": "a46d4cd2-6537-44ec-a662-8cd342339824",
   "metadata": {},
   "outputs": [],
   "source": [
    "rm -rf os\n",
    "ls"
   ]
  },
  {
   "cell_type": "markdown",
   "id": "b0502f2e-e378-4f64-8b7b-24b49847002a",
   "metadata": {},
   "source": [
    "<body style=\"font-family: Sans-serif;\">\n",
    "    <div style=\"color: black; font-size: 15px; font-style: oblique; text-shadow: 0 0 3px white, 0 0 1px black; padding: 20px;\">\n",
    "\n",
    "#### -i (Interactive)\n",
    "- `rm -i filename`\n",
    "#### Har file delete karne se pehle confirm karta hai\n",
    "<img src=\"./images/33.jpg\" style=\"display: block;margin-left: auto; margin-right: auto;width:80%\">\n",
    "\n",
    "#### Note Folder k lye -r Use kro"
   ]
  },
  {
   "cell_type": "code",
   "execution_count": 25,
   "id": "ff282ac8-dbf3-48d2-b05b-b42610c0ee12",
   "metadata": {},
   "outputs": [
    {
     "name": "stdout",
     "output_type": "stream",
     "text": [
      "os\n"
     ]
    }
   ],
   "source": [
    "mkdir -p os/data1/data2\n",
    "ls"
   ]
  },
  {
   "cell_type": "code",
   "execution_count": 26,
   "id": "07392e45-005f-4130-b37d-87c00a1fd43b",
   "metadata": {},
   "outputs": [],
   "source": [
    "rm -r os\n",
    "ls"
   ]
  },
  {
   "cell_type": "markdown",
   "id": "a6a1d6cc-c9ba-4c19-a172-bac5733a54e3",
   "metadata": {},
   "source": [
    "<body style=\"font-family: Sans-serif;\">\n",
    "    <div style=\"color: black; font-size: 15px; font-style: oblique; text-shadow: 0 0 3px white, 0 0 1px black; padding: 20px;\">\n",
    "\n",
    "#### -v (Verbose)\n",
    "- `rm -v name`\n",
    "#### Delete hone waly data ka message deta hai"
   ]
  },
  {
   "cell_type": "code",
   "execution_count": 38,
   "id": "7c8f51f3-d2d1-4cfe-9b43-49c1a8b6b6d2",
   "metadata": {},
   "outputs": [
    {
     "name": "stdout",
     "output_type": "stream",
     "text": [
      "os\n"
     ]
    }
   ],
   "source": [
    "mkdir -p os/data1/data2\n",
    "ls"
   ]
  },
  {
   "cell_type": "code",
   "execution_count": 39,
   "id": "bece1742-f00f-44bc-95a2-b4b3b8b60642",
   "metadata": {},
   "outputs": [
    {
     "name": "stdout",
     "output_type": "stream",
     "text": [
      "removed directory 'os/data1/data2'\n",
      "removed directory 'os/data1'\n",
      "removed directory 'os'\n"
     ]
    }
   ],
   "source": [
    "rm -rv os\n",
    "ls"
   ]
  },
  {
   "cell_type": "markdown",
   "id": "d5f74ece-00a8-4b30-b077-51d68e03eb6e",
   "metadata": {},
   "source": [
    "<h1 style=\"text-align:center; color:#005bbd; font-size:20px; font-family:Sans-serif; font-style: oblique; text-shadow: 0 0 3px white, 0 0 1px Black;\">\n",
    "mkdir Command Mindmap</h1>"
   ]
  },
  {
   "cell_type": "markdown",
   "id": "fd78746f-0b93-4da7-9885-dfd60f911842",
   "metadata": {},
   "source": [
    "<img src=\"./images/40.jpg\" style=\"display: block;margin-left: auto; margin-right: auto;width:100%\">\n"
   ]
  },
  {
   "cell_type": "markdown",
   "id": "3ae1b2f1-3d4b-43ba-b158-e795b544c046",
   "metadata": {},
   "source": [
    "<h1 style=\"text-align:center; color:#005bbd; font-size:20px; font-family:Sans-serif; font-style: oblique; text-shadow: 0 0 3px white, 0 0 1px Black;\">\n",
    "rmdir and rm Command Mindmap</h1>"
   ]
  },
  {
   "attachments": {},
   "cell_type": "markdown",
   "id": "11c0d73e-4e86-4226-99d2-0d6829693e4b",
   "metadata": {},
   "source": [
    "<img src=\"./images/41.jpg\" style=\"display: block;margin-left: auto; margin-right: auto;width:100%\">\n"
   ]
  }
 ],
 "metadata": {
  "kernelspec": {
   "display_name": "Python 3 (ipykernel)",
   "language": "python",
   "name": "python3"
  },
  "language_info": {
   "codemirror_mode": {
    "name": "ipython",
    "version": 3
   },
   "file_extension": ".py",
   "mimetype": "text/x-python",
   "name": "python",
   "nbconvert_exporter": "python",
   "pygments_lexer": "ipython3",
   "version": "3.13.4"
  }
 },
 "nbformat": 4,
 "nbformat_minor": 5
}
