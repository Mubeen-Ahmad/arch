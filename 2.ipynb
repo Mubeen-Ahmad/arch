{
 "cells": [
  {
   "cell_type": "markdown",
   "id": "6b56fb49-bfe7-4cbb-89df-381d78ee05ae",
   "metadata": {},
   "source": [
    "<h1 style=\"text-align:center; color:#005bbd; font-size:20px; font-family:Sans-serif; font-style: oblique; text-shadow: 0 0 3px white, 0 0 1px Black;\">\n",
    "Change Directory Commands</h1>"
   ]
  },
  {
   "cell_type": "markdown",
   "id": "cfe28660-99c8-462c-8a9c-3b242912d4ba",
   "metadata": {},
   "source": [
    "<body style=\"font-family: Sans-serif;\">\n",
    "    <div style=\"color: black; font-size: 15px; font-style: oblique; text-shadow: 0 0 3px white, 0 0 1px black; padding: 20px;\">\n",
    "\n",
    "## Change Directory\n",
    "\n",
    "    cd `<dir>` command ka matlab hota hai \"change directory\" — yaani aap terminal/command line mein ek folder (directory) se doosre folder mein jaane ke liye is command ka use karte ho.\n"
   ]
  },
  {
   "cell_type": "markdown",
   "id": "71c5f495-bb65-4296-b1e3-0dfa71c2f9fc",
   "metadata": {},
   "source": [
    "<body style=\"font-family: Sans-serif;\">\n",
    "    <div style=\"color: black; font-size: 15px; font-style: oblique; text-shadow: 0 0 3px white, 0 0 1px black; padding: 20px;\">\n",
    "\n",
    "#### For Example\n",
    "- `cd Documents`\n",
    "<img src=\"./images/7.jpg\" style=\"display: block;margin-left: auto; margin-right: auto;width:80%\">\n",
    "\n",
    "- #### Ye command aapko current directory se Documents folder ke andar le jaati hai\n"
   ]
  },
  {
   "cell_type": "markdown",
   "id": "5c49b3bd-e2f2-4333-bbf0-e1ec9f3430b4",
   "metadata": {},
   "source": [
    "<body style=\"font-family: Sans-serif;\">\n",
    "    <div style=\"color: black; font-size: 15px; font-style: oblique; text-shadow: 0 0 3px white, 0 0 1px black; padding: 20px;\">\n",
    "\n",
    "#### Move to Parent Directory (1 level up)\n",
    "- `cd ..`\n",
    "<img src=\"./images/8.jpg\" style=\"display: block;margin-left: auto; margin-right: auto;width:80%\">\n",
    "\n",
    "- #### .. ka matlab hota hai ek level upar waale folder mein jaana.\n"
   ]
  },
  {
   "cell_type": "markdown",
   "id": "e60d659b-d137-43e7-b51b-3caf448cdd06",
   "metadata": {},
   "source": [
    "<body style=\"font-family: Sans-serif;\">\n",
    "    <div style=\"color: black; font-size: 15px; font-style: oblique; text-shadow: 0 0 3px white, 0 0 1px black; padding: 20px;\">\n",
    "\n",
    "#### Move to Root Directory (Linux/Unix)\n",
    "- `cd /`\n",
    "<img src=\"./images/9.jpg\" style=\"display: block;margin-left: auto; margin-right: auto;width:80%\">\n",
    "\n",
    "- #### Aapko system ke root (starting point) directory mein le jaata hai.\n"
   ]
  },
  {
   "cell_type": "markdown",
   "id": "668c11c6-3dcc-4af8-a1bc-49bd32a866ad",
   "metadata": {},
   "source": [
    "<body style=\"font-family: Sans-serif;\">\n",
    "    <div style=\"color: black; font-size: 15px; font-style: oblique; text-shadow: 0 0 3px white, 0 0 1px black; padding: 20px;\">\n",
    "\n",
    "#### Move to Home Directory\n",
    "- `cd ~` or `cd`\n",
    "<img src=\"./images/10.jpg\" style=\"display: block;margin-left: auto; margin-right: auto;width:80%\">\n",
    "\n",
    "- #### Aapke user ka home folder (jaise /home/username) mein le jaata hai.\n"
   ]
  },
  {
   "cell_type": "markdown",
   "id": "d96eee3f-9c5f-4888-8581-2aeea74b0858",
   "metadata": {},
   "source": [
    "<body style=\"font-family: Sans-serif;\">\n",
    "    <div style=\"color: black; font-size: 15px; font-style: oblique; text-shadow: 0 0 3px white, 0 0 1px black; padding: 20px;\">\n",
    "\n",
    "#### Absolute Path se directory change karna\n",
    "- `cd /home/user/Documents`\n",
    "<img src=\"./images/11.jpg\" style=\"display: block;margin-left: auto; margin-right: auto;width:80%\">\n",
    "\n",
    "- #### Pura path diya gaya hai, toh wo exact location pe chala jaayega."
   ]
  },
  {
   "cell_type": "markdown",
   "id": "625b6e9d-d7f8-412e-b0ea-f9d36464dce4",
   "metadata": {},
   "source": [
    "<body style=\"font-family: Sans-serif;\">\n",
    "    <div style=\"color: black; font-size: 15px; font-style: oblique; text-shadow: 0 0 3px white, 0 0 1px black; padding: 20px;\">\n",
    "\n",
    "#### Relative Path se directory change karna\n",
    "- `cd folder_name/`\n",
    "<img src=\"./images/12.jpg\" style=\"display: block;margin-left: auto; margin-right: auto;width:80%\">\n",
    "\n",
    "- #### Current folder ke andar etc naam ke folder mein jaake etc folder open karega."
   ]
  },
  {
   "cell_type": "markdown",
   "id": "291b2cc7-0e06-4e21-8635-f69c4ffb824c",
   "metadata": {},
   "source": [
    "<body style=\"font-family: Sans-serif;\">\n",
    "    <div style=\"color: black; font-size: 15px; font-style: oblique; text-shadow: 0 0 3px white, 0 0 1px black; padding: 20px;\">\n",
    "\n",
    "#### Folder names with spaces\n",
    "- `cd \"My Files\"` or `cd My\\ Files`\n",
    "<img src=\"./images/13.jpg\" style=\"display: block;margin-left: auto; margin-right: auto;width:80%\">\n"
   ]
  },
  {
   "cell_type": "markdown",
   "id": "db814b56-dbde-4d88-a4e3-d34283ba6f52",
   "metadata": {},
   "source": [
    "<body style=\"font-family: Sans-serif;\">\n",
    "    <div style=\"color: black; font-size: 15px; font-style: oblique; text-shadow: 0 0 3px white, 0 0 1px black; padding: 20px;\">\n",
    "        \n",
    "❌ Common Errors:\n",
    "\n",
    "    ❗ \"No such file or directory\" – agar wo folder us path pe exist nahi karta.\n",
    "\n",
    "    ❗ Case-sensitive hota hai – Documents aur documents alag-alag samjhe jaate hain (Linux mein).\n",
    "    \n",
    "<img src=\"./images/14.jpg\" style=\"display: block;margin-left: auto; margin-right: auto;width:80%\">\n"
   ]
  },
  {
   "cell_type": "markdown",
   "id": "2a90fd64-d5db-42f9-83d7-4a23bd1968a1",
   "metadata": {},
   "source": [
    "<body style=\"font-family: Sans-serif;\">\n",
    "    <div style=\"color: black; font-size: 15px; font-style: oblique; text-shadow: 0 0 3px white, 0 0 1px black; padding: 20px;\">\n",
    "\n",
    "#### Last Modify\n",
    "- `cd -`\n",
    "<img src=\"./images/15.jpg\" style=\"display: block;margin-left: auto; margin-right: auto;width:80%\">\n",
    "\n",
    "- #### Previous directory - me wapas le jaata hai (jahan se aae thay)"
   ]
  },
  {
   "cell_type": "markdown",
   "id": "4387d2c1-4bdb-4662-89da-dcd9be18a1e3",
   "metadata": {},
   "source": [
    "<h1 style=\"text-align:center; color:#005bbd; font-size:20px; font-family:Sans-serif; font-style: oblique; text-shadow: 0 0 3px white, 0 0 1px Black;\">\n",
    "List Commands</h1>"
   ]
  },
  {
   "cell_type": "markdown",
   "id": "c6697369-c311-4d0b-9268-33c413f70abc",
   "metadata": {},
   "source": [
    "<body style=\"font-family: Sans-serif;\">\n",
    "    <div style=\"color: black; font-size: 15px; font-style: oblique; text-shadow: 0 0 3px white, 0 0 1px black; padding: 20px;\">\n",
    "\n",
    "## List Command\n",
    "    ls ka full form hota hai list. Ye current directory ke andar maujood files aur folders ko list karta hai."
   ]
  },
  {
   "cell_type": "markdown",
   "id": "18574a5b-f544-438d-a84d-53b5a7d61a51",
   "metadata": {},
   "source": [
    "<body style=\"font-family: Sans-serif;\">\n",
    "    <div style=\"color: black; font-size: 15px; font-style: oblique; text-shadow: 0 0 3px white, 0 0 1px black; padding: 20px;\">\n",
    "\n",
    "#### Basic Usage:\n",
    "- `ls`\n",
    "<img src=\"./images/17.jpg\" style=\"display: block;margin-left: auto; margin-right: auto;width:80%\">\n",
    "\n",
    "- #### Sirf current directory ki files/folders dikhaata hai."
   ]
  },
  {
   "cell_type": "markdown",
   "id": "456c9a43-283a-4c01-9441-fc717f267bad",
   "metadata": {},
   "source": [
    "<body style=\"font-family: Sans-serif;\">\n",
    "    <div style=\"color: black; font-size: 15px; font-style: oblique; text-shadow: 0 0 3px white, 0 0 1px black; padding: 20px;\">\n",
    "\n",
    "#### Root Directory List\n",
    "- `ls /`\n",
    "<img src=\"./images/18.jpg\" style=\"display: block;margin-left: auto; margin-right: auto;width:80%\">\n",
    "\n",
    "- #### Root directory (/) ke andar jo bhi files ya folders hain, unko list karega."
   ]
  },
  {
   "cell_type": "markdown",
   "id": "1ff8acc1-8e00-4e2d-b4d5-8a69e2869d1a",
   "metadata": {},
   "source": [
    "<body style=\"font-family: Sans-serif;\">\n",
    "    <div style=\"color: black; font-size: 15px; font-style: oblique; text-shadow: 0 0 3px white, 0 0 1px black; padding: 20px;\">\n",
    "\n",
    "#### Parent Directory List\n",
    "- `ls ..`\n",
    "<img src=\"./images/19.jpg\" style=\"display: block;margin-left: auto; margin-right: auto;width:80%\">\n",
    "\n",
    "- #### Aap jahan ho, uss se 1 level upar wali directory ke andar ki files dikhata hai."
   ]
  },
  {
   "cell_type": "markdown",
   "id": "f13f741f-0d7a-48e5-a3fa-75b60937e5d9",
   "metadata": {},
   "source": [
    "<body style=\"font-family: Sans-serif;\">\n",
    "    <div style=\"color: black; font-size: 15px; font-style: oblique; text-shadow: 0 0 3px white, 0 0 1px black; padding: 20px;\">\n",
    "\n",
    "#### Relative Path\n",
    "- `ls myfolder/subfolder`\n",
    "<img src=\"./images/20.jpg\" style=\"display: block;margin-left: auto; margin-right: auto;width:80%\">\n",
    "\n",
    "- #### Ye command aapke current directory ke andar myfolder/subfolder ke contents show karega."
   ]
  },
  {
   "cell_type": "markdown",
   "id": "5a69fb6a-105f-4f25-9a3d-250c3a78e1ee",
   "metadata": {},
   "source": [
    "<body style=\"font-family: Sans-serif;\">\n",
    "    <div style=\"color: black; font-size: 15px; font-style: oblique; text-shadow: 0 0 3px white, 0 0 1px black; padding: 20px;\">\n",
    "\n",
    "#### Absolute Path\n",
    "- `ls /myfolder/subfolder`\n",
    "<img src=\"./images/21.jpg\" style=\"display: block;margin-left: auto; margin-right: auto;width:80%\">\n",
    "\n",
    "- #### Ye ek absolute path hai (root / se start). Ye command us directory ke andar ki files dikhata hai — chahe tum kisi bhi directory mein ho."
   ]
  },
  {
   "cell_type": "markdown",
   "id": "0d84e36a-2ca5-44a4-acf9-39911480e7ee",
   "metadata": {},
   "source": [
    "<body style=\"font-family: Sans-serif;\">\n",
    "    <div style=\"color: black; font-size: 15px; font-style: oblique; text-shadow: 0 0 3px white, 0 0 1px black; padding: 20px;\">\n",
    "\n",
    "#### ../.. 2 Levels Back (cd,ls both)\n",
    "- `cd ../..`\n",
    "<img src=\"./images/22.jpg\" style=\"display: block;margin-left: auto; margin-right: auto;width:80%\">\n",
    "\n",
    "- #### Agar Aap ../../.., ../../../.. use karo to aur bhi upar ja sakte ho. Lekin root / tak hi ja sakte ho, uske baad aur upar kuch nahi hota.\n"
   ]
  },
  {
   "cell_type": "markdown",
   "id": "c8984e05-f43f-4199-9ecf-2d5fda0bb9dd",
   "metadata": {},
   "source": [
    "<h1 style=\"text-align:center; color:#005bbd; font-size:20px; font-family:Sans-serif; font-style: oblique; text-shadow: 0 0 3px white, 0 0 1px Black;\">\n",
    "ls Parameters</h1>"
   ]
  },
  {
   "cell_type": "markdown",
   "id": "38846ca6-cede-4516-a649-6f4e80dc742e",
   "metadata": {},
   "source": [
    "<body style=\"font-family: Sans-serif;\">\n",
    "    <div style=\"color: black; font-size: 15px; font-style: oblique; text-shadow: 0 0 3px white, 0 0 1px black; padding: 20px;\">\n",
    "\n",
    "- `ls -l`\n",
    "<img src=\"./images/23.jpg\" style=\"display: block;margin-left: auto; margin-right: auto;width:80%\">\n",
    "\n",
    "- #### Long listing format — file permissions, owner, size, date/time, sab dikhata hai.\n"
   ]
  },
  {
   "cell_type": "markdown",
   "id": "ee5eb5b2-c518-40b2-8785-95753caa2817",
   "metadata": {},
   "source": [
    "<body style=\"font-family: Sans-serif;\">\n",
    "    <div style=\"color: black; font-size: 15px; font-style: oblique; text-shadow: 0 0 3px white, 0 0 1px black; padding: 20px;\">\n",
    "\n",
    "- `ls -a`\n",
    "<img src=\"./images/24.jpg\" style=\"display: block;margin-left: auto; margin-right: auto;width:80%\">\n",
    "\n",
    "- #### Hidden files (jo . se shuru hote hain) bhi dikhata hai.\n"
   ]
  },
  {
   "cell_type": "markdown",
   "id": "3a6c75dc-882d-4cb7-84dc-e6104787daf0",
   "metadata": {},
   "source": [
    "<body style=\"font-family: Sans-serif;\">\n",
    "    <div style=\"color: black; font-size: 15px; font-style: oblique; text-shadow: 0 0 3px white, 0 0 1px black; padding: 20px;\">\n",
    "\n",
    "- `ls -la` or `ls -al`\n",
    "<img src=\"./images/25.jpg\" style=\"display: block;margin-left: auto; margin-right: auto;width:80%\">\n",
    "\n",
    "- #### Long listing + hidden files dono ek saath dikhata hai.\n"
   ]
  },
  {
   "cell_type": "markdown",
   "id": "80c474c5-dd1a-4455-8609-791ae987a494",
   "metadata": {},
   "source": [
    "<body style=\"font-family: Sans-serif;\">\n",
    "    <div style=\"color: black; font-size: 15px; font-style: oblique; text-shadow: 0 0 3px white, 0 0 1px black; padding: 20px;\">\n",
    "\n",
    "- `ls -lh`\n",
    "<img src=\"./images/26.jpg\" style=\"display: block;margin-left: auto; margin-right: auto;width:80%\">\n",
    "\n",
    "- #### Human readable sizes dikhata hai (KB, MB, etc.)\n"
   ]
  },
  {
   "cell_type": "markdown",
   "id": "08c962ed-06c5-4919-8f68-396ae6190cf8",
   "metadata": {},
   "source": [
    "<body style=\"font-family: Sans-serif;\">\n",
    "    <div style=\"color: black; font-size: 15px; font-style: oblique; text-shadow: 0 0 3px white, 0 0 1px black; padding: 20px;\">\n",
    "\n",
    "- `ls -lt`\n",
    "<img src=\"./images/27.jpg\" style=\"display: block;margin-left: auto; margin-right: auto;width:80%\">\n",
    "\n",
    "- #### Files ko modification time ke hisaab se sort karta hai (latest sabse upar).\n"
   ]
  },
  {
   "cell_type": "markdown",
   "id": "5d0461b6-c9b9-4c62-bf25-eac6b605165c",
   "metadata": {},
   "source": [
    "<body style=\"font-family: Sans-serif;\">\n",
    "    <div style=\"color: black; font-size: 15px; font-style: oblique; text-shadow: 0 0 3px white, 0 0 1px black; padding: 20px;\">\n",
    "\n",
    "- `ls -ltr`\n",
    "<img src=\"./images/28.jpg\" style=\"display: block;margin-left: auto; margin-right: auto;width:80%\">\n",
    "\n",
    "- #### Oldest file sabse upar aur newest neeche."
   ]
  },
  {
   "cell_type": "markdown",
   "id": "273dbbc4-100a-4ef7-a8bf-3402b9cde1eb",
   "metadata": {},
   "source": [
    "<body style=\"font-family: Sans-serif;\">\n",
    "    <div style=\"color: black; font-size: 15px; font-style: oblique; text-shadow: 0 0 3px white, 0 0 1px black; padding: 20px;\">\n",
    "\n",
    "- `ls -R`\n",
    "<img src=\"./images/29.jpg\" style=\"display: block;margin-left: auto; margin-right: auto;width:80%\">\n",
    "\n",
    "- #### Recursively har folder ke andar ki files bhi dikhata hai."
   ]
  },
  {
   "cell_type": "markdown",
   "id": "52a89644-a34d-4180-a017-cd7721f8adb2",
   "metadata": {},
   "source": [
    "<body style=\"font-family: Sans-serif;\">\n",
    "    <div style=\"color: black; font-size: 15px; font-style: oblique; text-shadow: 0 0 3px white, 0 0 1px black; padding: 20px;\">\n",
    "\n",
    "- `ls -S`\n",
    "<img src=\"./images/30.jpg\" style=\"display: block;margin-left: auto; margin-right: auto;width:80%\">\n",
    "\n",
    "- #### File size ke hisaab se sort karta hai (badi file pehle)."
   ]
  },
  {
   "cell_type": "markdown",
   "id": "76204798-4099-4805-b031-95f560538006",
   "metadata": {},
   "source": [
    "<body style=\"font-family: Sans-serif;\">\n",
    "    <div style=\"color: black; font-size: 15px; font-style: oblique; text-shadow: 0 0 3px white, 0 0 1px black; padding: 20px;\">\n",
    "\n",
    "- `ls -d */`\n",
    "<img src=\"./images/31.jpg\" style=\"display: block;margin-left: auto; margin-right: auto;width:80%\">\n",
    "\n",
    "- #### Sirf folders dikhata hai, files nahi."
   ]
  },
  {
   "cell_type": "markdown",
   "id": "25e83d9b-544d-4751-93ae-14a9b904c04a",
   "metadata": {},
   "source": [
    "<h1 style=\"text-align:center; color:#005bbd; font-size:20px; font-family:Sans-serif; font-style: oblique; text-shadow: 0 0 3px white, 0 0 1px Black;\">\n",
    "cd Command Mindmap</h1>"
   ]
  },
  {
   "attachments": {},
   "cell_type": "markdown",
   "id": "46074755-2121-4676-9a8f-9831adae631d",
   "metadata": {},
   "source": [
    "<img src=\"./images/38.jpg\" style=\"display: block;margin-left: auto; margin-right: auto;width:100%\">"
   ]
  },
  {
   "cell_type": "markdown",
   "id": "bf41f8ba-f262-4c49-b86a-380860c694c7",
   "metadata": {},
   "source": [
    "<h1 style=\"text-align:center; color:#005bbd; font-size:20px; font-family:Sans-serif; font-style: oblique; text-shadow: 0 0 3px white, 0 0 1px Black;\">\n",
    "ls Command Mindmap</h1>"
   ]
  },
  {
   "attachments": {},
   "cell_type": "markdown",
   "id": "40b3ae3f-b2d0-4f07-85a6-8ae362ed3a58",
   "metadata": {},
   "source": [
    "<img src=\"./images/39.jpg\" style=\"display: block;margin-left: auto; margin-right: auto;width:100%\">"
   ]
  }
 ],
 "metadata": {
  "kernelspec": {
   "display_name": "Python 3 (ipykernel)",
   "language": "python",
   "name": "python3"
  },
  "language_info": {
   "codemirror_mode": {
    "name": "ipython",
    "version": 3
   },
   "file_extension": ".py",
   "mimetype": "text/x-python",
   "name": "python",
   "nbconvert_exporter": "python",
   "pygments_lexer": "ipython3",
   "version": "3.13.4"
  }
 },
 "nbformat": 4,
 "nbformat_minor": 5
}
