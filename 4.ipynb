{
 "cells": [
  {
   "cell_type": "markdown",
   "id": "afc5b18d-17cb-4d10-9483-9deb4d573e7d",
   "metadata": {},
   "source": [
    "<h1 style=\"text-align:center; color:#005bbd; font-size:20px; font-family:Sans-serif; font-style: oblique; text-shadow: 0 0 3px white, 0 0 1px Black;\">\n",
    "touch Commands</h1>"
   ]
  },
  {
   "cell_type": "markdown",
   "id": "bb9f8ffd-70bc-43a9-ba25-9992dad904b8",
   "metadata": {},
   "source": [
    "<body style=\"font-family: Sans-serif;\">\n",
    "    <div style=\"color: black; font-size: 15px; font-style: oblique; text-shadow: 0 0 3px white, 0 0 1px black; padding: 20px;\">\n",
    "\n",
    "## touch\n",
    "\n",
    "    touch command se nayi empty file create hoti hai ya phir existing file ka modified time update hota hai.\n"
   ]
  },
  {
   "cell_type": "markdown",
   "id": "366e5096-3c2f-463e-8a42-685b4122f09f",
   "metadata": {},
   "source": [
    "<body style=\"font-family: Sans-serif;\">\n",
    "    <div style=\"color: black; font-size: 15px; font-style: oblique; text-shadow: 0 0 3px white, 0 0 1px black; padding: 20px;\">\n",
    "\n",
    "#### For Example\n",
    "- `touch filename`\n",
    "- #### Agar file nahi hai to ban jayegi\n",
    "- #### Agar file already hai to uska timestamp update ho jayega (modified time)\n"
   ]
  },
  {
   "cell_type": "code",
   "execution_count": 8,
   "id": "78a122a3-5188-40af-871a-0a8a19a9fccb",
   "metadata": {},
   "outputs": [
    {
     "name": "stdout",
     "output_type": "stream",
     "text": [
      "total 8\n",
      "drwxr-xr-x 2 mubeen mubeen 4096 Jun  8 15:03 .\n",
      "drwx---rwx 7 mubeen mubeen 4096 Jun  8 15:02 ..\n",
      "-rw-r--r-- 1 mubeen mubeen    0 Jun  8 15:04 data.txt\n"
     ]
    }
   ],
   "source": [
    "touch data.txt\n",
    "ls -la"
   ]
  },
  {
   "cell_type": "markdown",
   "id": "d4619f37-5748-4f9e-bdf0-dfd8335b69a5",
   "metadata": {},
   "source": [
    "<body style=\"font-family: Sans-serif;\">\n",
    "    <div style=\"color: black; font-size: 15px; font-style: oblique; text-shadow: 0 0 3px white, 0 0 1px black; padding: 20px;\">\n",
    "\n",
    "#### -c\n",
    "- `touch -c filename`\n",
    "- #### Agar file nahi hai to create nahi ho gi\n",
    "- #### Only time update ho ga Agar file already exist karti hai"
   ]
  },
  {
   "cell_type": "code",
   "execution_count": 11,
   "id": "c4f7a8da-3e21-4bdf-b035-8e8e14ef3680",
   "metadata": {},
   "outputs": [
    {
     "name": "stdout",
     "output_type": "stream",
     "text": [
      "-rw-r--r-- 1 mubeen mubeen 0 Jun  8 15:07 data.txt\n"
     ]
    }
   ],
   "source": [
    "ls -la data.txt"
   ]
  },
  {
   "cell_type": "code",
   "execution_count": 12,
   "id": "2e932b2d-530e-4be2-ad57-671e1875d37c",
   "metadata": {},
   "outputs": [
    {
     "name": "stdout",
     "output_type": "stream",
     "text": [
      "-rw-r--r-- 1 mubeen mubeen 0 Jun  8 15:08 data.txt\n"
     ]
    }
   ],
   "source": [
    "touch -c data.txt\n",
    "ls -la data.txt"
   ]
  },
  {
   "cell_type": "markdown",
   "id": "8d5af1e9-f70b-436e-a6a0-8b870ed03222",
   "metadata": {},
   "source": [
    "<body style=\"font-family: Sans-serif;\">\n",
    "    <div style=\"color: black; font-size: 15px; font-style: oblique; text-shadow: 0 0 3px white, 0 0 1px black; padding: 20px;\">\n",
    "\n",
    "#### -a\n",
    "- `touch -a filename`\n",
    "- #### Sirf access time update Hoga, modified time nahi"
   ]
  },
  {
   "cell_type": "code",
   "execution_count": 13,
   "id": "3067e85a-23f3-400c-9871-ede4bdb6858e",
   "metadata": {},
   "outputs": [
    {
     "name": "stdout",
     "output_type": "stream",
     "text": [
      "-rw-r--r-- 1 mubeen mubeen 0 Jun  8 15:08 data.txt\n"
     ]
    }
   ],
   "source": [
    "ls -la data.txt"
   ]
  },
  {
   "cell_type": "code",
   "execution_count": 34,
   "id": "80b8a523-59dc-4168-bb7b-d22d8911f68e",
   "metadata": {},
   "outputs": [
    {
     "name": "stdout",
     "output_type": "stream",
     "text": [
      "-rw-r--r-- 1 mubeen mubeen 0 Jun  8 15:08 data.txt\n"
     ]
    }
   ],
   "source": [
    "touch -a data.txt\n",
    "ls -la data.txt"
   ]
  },
  {
   "cell_type": "markdown",
   "id": "a45b0f23-440a-4b3e-aa66-6ccea3c94e7c",
   "metadata": {},
   "source": [
    "<body style=\"font-family: Sans-serif;\">\n",
    "    <div style=\"color: black; font-size: 15px; font-style: oblique; text-shadow: 0 0 3px white, 0 0 1px black; padding: 20px;\">\n",
    "\n",
    "#### -m\n",
    "- `touch -m filename`\n",
    "- #### Sirf modified time update karo, access time nahi"
   ]
  },
  {
   "cell_type": "code",
   "execution_count": 36,
   "id": "ae0fa704-1fa0-4445-b951-e56da4522dfc",
   "metadata": {},
   "outputs": [
    {
     "name": "stdout",
     "output_type": "stream",
     "text": [
      "-rw-r--r-- 1 mubeen mubeen 0 Jun  8 15:08 data.txt\n"
     ]
    }
   ],
   "source": [
    "ls -la data.txt"
   ]
  },
  {
   "cell_type": "code",
   "execution_count": 37,
   "id": "7b237cb3-20d3-4339-976a-8c9619514bb1",
   "metadata": {},
   "outputs": [
    {
     "name": "stdout",
     "output_type": "stream",
     "text": [
      "-rw-r--r-- 1 mubeen mubeen 0 Jun  8 15:13 data.txt\n"
     ]
    }
   ],
   "source": [
    "touch -m data.txt\n",
    "ls -la data.txt"
   ]
  },
  {
   "cell_type": "markdown",
   "id": "e55bced1-bbba-42a2-bae5-13adad549a12",
   "metadata": {},
   "source": [
    "<body style=\"font-family: Sans-serif;\">\n",
    "    <div style=\"color: black; font-size: 15px; font-style: oblique; text-shadow: 0 0 3px white, 0 0 1px black; padding: 20px;\">\n",
    "\n",
    "#### -t [[CC]YY]MMDDhhmm[.ss]\n",
    "- `touch -t 202506071200.00 filename`\n",
    "- #### Manually koi specific time set karo"
   ]
  },
  {
   "cell_type": "code",
   "execution_count": 39,
   "id": "06d3113b-2a10-4164-8386-962f802dff94",
   "metadata": {},
   "outputs": [
    {
     "name": "stdout",
     "output_type": "stream",
     "text": [
      "-rw-r--r-- 1 mubeen mubeen 0 Jun  8 15:13 data.txt\n"
     ]
    }
   ],
   "source": [
    "ls -la data.txt"
   ]
  },
  {
   "cell_type": "code",
   "execution_count": 40,
   "id": "326deb17-39b1-423e-ab0a-1f61f39c6b93",
   "metadata": {},
   "outputs": [
    {
     "name": "stdout",
     "output_type": "stream",
     "text": [
      "-rw-r--r-- 1 mubeen mubeen 0 Jun  7 12:00 data.txt\n"
     ]
    }
   ],
   "source": [
    "touch -t 202506071200.00 data.txt\n",
    "ls -la data.txt"
   ]
  },
  {
   "cell_type": "markdown",
   "id": "20724a71-7f65-4fc6-93f1-c97b9471c041",
   "metadata": {},
   "source": [
    "<body style=\"font-family: Sans-serif;\">\n",
    "    <div style=\"color: black; font-size: 15px; font-style: oblique; text-shadow: 0 0 3px white, 0 0 1px black; padding: 20px;\">\n",
    "\n",
    "#### -r reference_file\n",
    "- `touch -r file1 file2`\n",
    "- #### Kisi doosri file ka time copy Ho ga"
   ]
  },
  {
   "cell_type": "code",
   "execution_count": 42,
   "id": "c992b40a-7229-401e-bd48-6f1cd0a4c32d",
   "metadata": {},
   "outputs": [
    {
     "name": "stdout",
     "output_type": "stream",
     "text": [
      "total 8\n",
      "drwxr-xr-x 2 mubeen mubeen 4096 Jun  8 15:11 .\n",
      "drwx---rwx 7 mubeen mubeen 4096 Jun  8 15:28 ..\n",
      "-rw-r--r-- 1 mubeen mubeen    0 Jun  7 12:00 data.txt\n",
      "-rw-r--r-- 1 mubeen mubeen    0 Jun  8 15:11 file.txt\n"
     ]
    }
   ],
   "source": [
    "ls -la "
   ]
  },
  {
   "cell_type": "code",
   "execution_count": 48,
   "id": "54abd328-595e-4f15-a194-c788a078b431",
   "metadata": {},
   "outputs": [
    {
     "name": "stdout",
     "output_type": "stream",
     "text": [
      "total 8\n",
      "drwxr-xr-x 2 mubeen mubeen 4096 Jun  8 15:38 .\n",
      "drwx---rwx 7 mubeen mubeen 4096 Jun  8 15:32 ..\n",
      "-rw-r--r-- 1 mubeen mubeen    0 Jun  7 12:00 data.txt\n",
      "-rw-r--r-- 1 mubeen mubeen    0 Jun  7 12:00 file.txt\n",
      "-rw-r--r-- 1 mubeen mubeen    0 Jun  8 15:38 file1.txt\n",
      "-rw-r--r-- 1 mubeen mubeen    0 Jun  8 15:38 file2.txt\n",
      "-rw-r--r-- 1 mubeen mubeen    0 Jun  8 15:38 file3.txt\n"
     ]
    }
   ],
   "source": [
    "touch -r data.txt file.txt\n",
    "ls -la "
   ]
  },
  {
   "cell_type": "markdown",
   "id": "0788f94e-2a97-4a98-b919-2324ee17c396",
   "metadata": {},
   "source": [
    "<body style=\"font-family: Sans-serif;\">\n",
    "    <div style=\"color: black; font-size: 15px; font-style: oblique; text-shadow: 0 0 3px white, 0 0 1px black; padding: 20px;\">\n",
    "\n",
    "#### Create Multuiples Files\n",
    "- `touch file1 file2 file3`"
   ]
  },
  {
   "cell_type": "code",
   "execution_count": 49,
   "id": "c27b8922-eb2e-4f23-8d47-1475da81f430",
   "metadata": {},
   "outputs": [
    {
     "name": "stdout",
     "output_type": "stream",
     "text": [
      "total 8\n",
      "drwxr-xr-x 2 mubeen mubeen 4096 Jun  8 15:38 .\n",
      "drwx---rwx 7 mubeen mubeen 4096 Jun  8 15:32 ..\n",
      "-rw-r--r-- 1 mubeen mubeen    0 Jun  7 12:00 data.txt\n",
      "-rw-r--r-- 1 mubeen mubeen    0 Jun  7 12:00 file.txt\n",
      "-rw-r--r-- 1 mubeen mubeen    0 Jun  8 15:38 file1.txt\n",
      "-rw-r--r-- 1 mubeen mubeen    0 Jun  8 15:38 file2.txt\n",
      "-rw-r--r-- 1 mubeen mubeen    0 Jun  8 15:38 file3.txt\n"
     ]
    }
   ],
   "source": [
    "touch file1.txt file2.txt file3.txt\n",
    "ls -la"
   ]
  },
  {
   "cell_type": "markdown",
   "id": "ba31b55a-72e0-440c-9442-4347df7f2184",
   "metadata": {},
   "source": [
    "<body style=\"font-family: Sans-serif;\">\n",
    "    <div style=\"color: black; font-size: 15px; font-style: oblique; text-shadow: 0 0 3px white, 0 0 1px black; padding: 20px;\">\n",
    "\n",
    "#### Use loop {} create Multiple files\n",
    "- `touch data{1..10}.txt`\n",
    "\n",
    "- #### Ye command data1.txt se file10.txt tak bana degi"
   ]
  },
  {
   "cell_type": "code",
   "execution_count": 3,
   "id": "ba751fb6-88ef-488e-be28-0c7e17ae451f",
   "metadata": {},
   "outputs": [
    {
     "name": "stdout",
     "output_type": "stream",
     "text": [
      "total 8\n",
      "drwxr-xr-x 2 mubeen mubeen 4096 Jun  8 15:38 .\n",
      "drwx---rwx 7 mubeen mubeen 4096 Jun  8 19:38 ..\n",
      "-rw-r--r-- 1 mubeen mubeen    0 Jun  7 12:00 data.txt\n",
      "-rw-r--r-- 1 mubeen mubeen    0 Jun  7 12:00 file.txt\n",
      "-rw-r--r-- 1 mubeen mubeen    0 Jun  8 15:38 file1.txt\n",
      "-rw-r--r-- 1 mubeen mubeen    0 Jun  8 15:38 file2.txt\n",
      "-rw-r--r-- 1 mubeen mubeen    0 Jun  8 15:38 file3.txt\n"
     ]
    }
   ],
   "source": [
    "ls -la"
   ]
  },
  {
   "cell_type": "code",
   "execution_count": 5,
   "id": "fda57e5b-c407-459c-b6fa-6e2e3811cbf6",
   "metadata": {},
   "outputs": [
    {
     "name": "stdout",
     "output_type": "stream",
     "text": [
      "total 8\n",
      "drwxr-xr-x 2 mubeen mubeen 4096 Jun  8 19:42 .\n",
      "drwx---rwx 7 mubeen mubeen 4096 Jun  8 19:41 ..\n",
      "-rw-r--r-- 1 mubeen mubeen    0 Jun  7 12:00 data.txt\n",
      "-rw-r--r-- 1 mubeen mubeen    0 Jun  8 19:42 data1.txt\n",
      "-rw-r--r-- 1 mubeen mubeen    0 Jun  8 19:42 data10.txt\n",
      "-rw-r--r-- 1 mubeen mubeen    0 Jun  8 19:42 data2.txt\n",
      "-rw-r--r-- 1 mubeen mubeen    0 Jun  8 19:42 data3.txt\n",
      "-rw-r--r-- 1 mubeen mubeen    0 Jun  8 19:42 data4.txt\n",
      "-rw-r--r-- 1 mubeen mubeen    0 Jun  8 19:42 data5.txt\n",
      "-rw-r--r-- 1 mubeen mubeen    0 Jun  8 19:42 data6.txt\n",
      "-rw-r--r-- 1 mubeen mubeen    0 Jun  8 19:42 data7.txt\n",
      "-rw-r--r-- 1 mubeen mubeen    0 Jun  8 19:42 data8.txt\n",
      "-rw-r--r-- 1 mubeen mubeen    0 Jun  8 19:42 data9.txt\n",
      "-rw-r--r-- 1 mubeen mubeen    0 Jun  7 12:00 file.txt\n",
      "-rw-r--r-- 1 mubeen mubeen    0 Jun  8 15:38 file1.txt\n",
      "-rw-r--r-- 1 mubeen mubeen    0 Jun  8 15:38 file2.txt\n",
      "-rw-r--r-- 1 mubeen mubeen    0 Jun  8 15:38 file3.txt\n"
     ]
    }
   ],
   "source": [
    "touch data{1..10}.txt\n",
    "ls -la"
   ]
  },
  {
   "cell_type": "markdown",
   "id": "93286c27-f0f2-4eff-925e-7047e0875631",
   "metadata": {},
   "source": [
    "<h1 style=\"text-align:center; color:#005bbd; font-size:20px; font-family:Sans-serif; font-style: oblique; text-shadow: 0 0 3px white, 0 0 1px Black;\">\n",
    "cat Commands With Shell Operators</h1>"
   ]
  },
  {
   "cell_type": "markdown",
   "id": "25559c6a-8494-4eca-b85c-1fc9f0e89a6b",
   "metadata": {},
   "source": [
    "<body style=\"font-family: Sans-serif;\">\n",
    "    <div style=\"color: black; font-size: 15px; font-style: oblique; text-shadow: 0 0 3px white, 0 0 1px black; padding: 20px;\">\n",
    "\n",
    "## cat\n",
    "\n",
    "    cat se file ka content terminal pe dikh sakta hai, nayi file ban sakti hai, ya multiple files ko ek me jod sakte hain\n"
   ]
  },
  {
   "cell_type": "markdown",
   "id": "949d23a8-c66a-4d37-a9a6-634614d480fa",
   "metadata": {},
   "source": [
    "<body style=\"font-family: Sans-serif;\">\n",
    "    <div style=\"color: black; font-size: 15px; font-style: oblique; text-shadow: 0 0 3px white, 0 0 1px black; padding: 20px;\">\n",
    "\n",
    "#### Read Data\n",
    "\n",
    "- `cat > filename`\n",
    "<img src=\"./images/34.jpg\" style=\"display: block;margin-left: auto; margin-right: auto;width:80%\">\n",
    "\n",
    "- #### Ctrl + D Save Data\n",
    "- #### Ctrl + C Exit\n",
    "\n",
    "### Note ! Agar file already exist karti hai to cat > file usko overwrite kar dega."
   ]
  },
  {
   "cell_type": "markdown",
   "id": "4bbc0483-0803-4191-973c-6e8d5d0974a8",
   "metadata": {},
   "source": [
    "<body style=\"font-family: Sans-serif;\">\n",
    "    <div style=\"color: black; font-size: 15px; font-style: oblique; text-shadow: 0 0 3px white, 0 0 1px black; padding: 20px;\">\n",
    "\n",
    "#### Show Data\n",
    "\n",
    "- `cat filename`"
   ]
  },
  {
   "cell_type": "code",
   "execution_count": 7,
   "id": "98181bbc-5a51-43ee-97d1-f543bacffe3d",
   "metadata": {},
   "outputs": [
    {
     "name": "stdout",
     "output_type": "stream",
     "text": [
      "hy my name is mubeen"
     ]
    }
   ],
   "source": [
    "cat data.txt"
   ]
  },
  {
   "cell_type": "markdown",
   "id": "42226f57-807b-42c8-aeb4-456a622702aa",
   "metadata": {},
   "source": [
    "<body style=\"font-family: Sans-serif;\">\n",
    "    <div style=\"color: black; font-size: 15px; font-style: oblique; text-shadow: 0 0 3px white, 0 0 1px black; padding: 20px;\">\n",
    "\n",
    "#### Append Data\n",
    "\n",
    "- `cat >> filename`\n",
    "<img src=\"./images/35.jpg\" style=\"display: block;margin-left: auto; margin-right: auto;width:80%\">\n",
    "\n",
    "- #### Ctrl + D Save Data\n",
    "- #### Ctrl + C Exit\n"
   ]
  },
  {
   "cell_type": "markdown",
   "id": "340fd5c8-37d5-457c-aac7-a754ed3a9258",
   "metadata": {},
   "source": [
    "<body style=\"font-family: Sans-serif;\">\n",
    "    <div style=\"color: black; font-size: 15px; font-style: oblique; text-shadow: 0 0 3px white, 0 0 1px black; padding: 20px;\">\n",
    "\n",
    "#### S2> Error redirect\n",
    "\n",
    "- `cat targetfile 2> logs.txt`\n",
    "- #### Agar targetfile exist nahi karti, to error message logs.txt me chala jayega\n",
    "- #### Agar targetfile hy, to phir blank file logs.txt create ho jai gi\n",
    "- #### Terminal pe koi error message nahi dikhai dega\n",
    "---\n",
    "- #### Note! 2>> Use for Append"
   ]
  },
  {
   "cell_type": "code",
   "execution_count": 15,
   "id": "e9fd32bd-cc01-4d7d-bf22-4a414054dcb8",
   "metadata": {},
   "outputs": [
    {
     "name": "stdout",
     "output_type": "stream",
     "text": [
      "data.txt\n"
     ]
    }
   ],
   "source": [
    "ls"
   ]
  },
  {
   "cell_type": "code",
   "execution_count": 18,
   "id": "bbd627d0-4fec-4aca-b55e-776fb9e7e2ce",
   "metadata": {},
   "outputs": [
    {
     "name": "stderr",
     "output_type": "stream",
     "text": [
      "cat: data1.txt: No such file or directory\n"
     ]
    },
    {
     "name": "stdout",
     "output_type": "stream",
     "text": [
      "\n"
     ]
    }
   ],
   "source": [
    "cat data1.txt "
   ]
  },
  {
   "cell_type": "code",
   "execution_count": 42,
   "id": "ad07dbea-2984-4789-b3e7-f5d725ba4a55",
   "metadata": {},
   "outputs": [
    {
     "name": "stdout",
     "output_type": "stream",
     "text": [
      "data.txt\n",
      "logs.txt\n"
     ]
    }
   ],
   "source": [
    "cat data1.txt 2> logs.txt\n",
    "ls"
   ]
  },
  {
   "cell_type": "code",
   "execution_count": 43,
   "id": "be8dc6eb-b1c1-4077-89bc-eb3dcc7342ed",
   "metadata": {},
   "outputs": [
    {
     "name": "stdout",
     "output_type": "stream",
     "text": [
      "cat: logs.txt: No such file or directory\n"
     ]
    }
   ],
   "source": [
    "cat logs.txt"
   ]
  },
  {
   "cell_type": "markdown",
   "id": "54308289-1a4b-4233-a90b-35cbe905046c",
   "metadata": {},
   "source": [
    "<body style=\"font-family: Sans-serif;\">\n",
    "    <div style=\"color: black; font-size: 15px; font-style: oblique; text-shadow: 0 0 3px white, 0 0 1px black; padding: 20px;\">\n",
    "\n",
    "#### File Exists Example\n"
   ]
  },
  {
   "cell_type": "code",
   "execution_count": 51,
   "id": "055d3bd0-0a8c-42e8-ba51-2be983eea03f",
   "metadata": {},
   "outputs": [
    {
     "name": "stdout",
     "output_type": "stream",
     "text": [
      "data.txt\n",
      "logs.txt\n"
     ]
    }
   ],
   "source": [
    "ls"
   ]
  },
  {
   "cell_type": "code",
   "execution_count": 52,
   "id": "7c55f589-2351-4d73-869e-d30bae3eeb81",
   "metadata": {},
   "outputs": [
    {
     "name": "stdout",
     "output_type": "stream",
     "text": [
      "hy my name is mubeen\n",
      "i like Animes\n",
      "data.txt\n",
      "logs.txt\n",
      "logs2.txt\n"
     ]
    }
   ],
   "source": [
    "cat data.txt 2> logs2.txt\n",
    "ls"
   ]
  },
  {
   "cell_type": "code",
   "execution_count": 53,
   "id": "986d8fbd-9ac1-466c-8d6d-43b1eb1d24ba",
   "metadata": {},
   "outputs": [],
   "source": [
    "cat logs2.txt"
   ]
  },
  {
   "cell_type": "markdown",
   "id": "47b57b5a-aa4a-4481-8064-c823e328e49c",
   "metadata": {},
   "source": [
    "<body style=\"font-family: Sans-serif;\">\n",
    "    <div style=\"color: black; font-size: 15px; font-style: oblique; text-shadow: 0 0 3px white, 0 0 1px black; padding: 20px;\">\n",
    "\n",
    "#### logs2.txt are Blank So Yaha &> useful hy Agar apko blank file nahi chiye\n"
   ]
  },
  {
   "cell_type": "markdown",
   "id": "09cb492e-09c5-45c4-84b6-933187e49717",
   "metadata": {},
   "source": [
    "<body style=\"font-family: Sans-serif;\">\n",
    "    <div style=\"color: black; font-size: 15px; font-style: oblique; text-shadow: 0 0 3px white, 0 0 1px black; padding: 20px;\">\n",
    "\n",
    "#### &> STDOUT + STDERR redirect\n",
    "\n",
    "- `cat targetfile &> logs2.txt`\n",
    "- #### Agar targetfile exist nahi karti, to error message logs.txt me chala jayega\n",
    "- #### Agar targetfile hy, to phir content logs2.txt me chala jayegaa\n",
    "- #### Terminal pe koi error message nahi dikhai dega\n",
    "---\n",
    "- #### Note! &>> Use for Append"
   ]
  },
  {
   "cell_type": "code",
   "execution_count": 56,
   "id": "995d5e94-7c17-4e8d-b0ca-1c36b38466a9",
   "metadata": {},
   "outputs": [
    {
     "name": "stdout",
     "output_type": "stream",
     "text": [
      "data.txt\n",
      "logs.txt\n",
      "logs2.txt\n"
     ]
    }
   ],
   "source": [
    "cat data1.txt 2> logs2.txt\n",
    "ls"
   ]
  },
  {
   "cell_type": "code",
   "execution_count": 57,
   "id": "cec68d17-4bbf-4996-bcc1-098f8772d49e",
   "metadata": {},
   "outputs": [
    {
     "name": "stdout",
     "output_type": "stream",
     "text": [
      "cat: logs1.txt: No such file or directory\n"
     ]
    }
   ],
   "source": [
    "cat logs1.txt"
   ]
  },
  {
   "cell_type": "markdown",
   "id": "858b9ad0-d17c-48aa-bc29-88124f31be64",
   "metadata": {},
   "source": [
    "<body style=\"font-family: Sans-serif;\">\n",
    "    <div style=\"color: black; font-size: 15px; font-style: oblique; text-shadow: 0 0 3px white, 0 0 1px black; padding: 20px;\">\n",
    "\n",
    "#### File Exists Example\n"
   ]
  },
  {
   "cell_type": "code",
   "execution_count": 61,
   "id": "d8356be3-7599-47c4-b670-3e5fbaf8231c",
   "metadata": {},
   "outputs": [
    {
     "name": "stdout",
     "output_type": "stream",
     "text": [
      "data.txt\n",
      "logs.txt\n",
      "logs2.txt\n"
     ]
    }
   ],
   "source": [
    "cat data.txt &> logs2.txt\n",
    "ls"
   ]
  },
  {
   "cell_type": "code",
   "execution_count": 62,
   "id": "35a15725-b0bb-4b1b-9f2b-b7269b993c2f",
   "metadata": {},
   "outputs": [
    {
     "name": "stdout",
     "output_type": "stream",
     "text": [
      "hy my name is mubeen\n",
      "i like Animes\n"
     ]
    }
   ],
   "source": [
    "cat logs2.txt"
   ]
  },
  {
   "cell_type": "markdown",
   "id": "7f5e42ae-5ff6-49f6-a4a9-616347294029",
   "metadata": {},
   "source": [
    "<body style=\"font-family: Sans-serif;\">\n",
    "    <div style=\"color: black; font-size: 15px; font-style: oblique; text-shadow: 0 0 3px white, 0 0 1px black; padding: 20px;\">\n",
    "\n",
    "#### << \n",
    "\n",
    "- `cat << EOF >targetfile EOF`\n",
    "- #### Terminal par tum multi-line input doge jab tak ek end-marker (usually EOF) na aaye.\n",
    "  \n",
    "<img src=\"./images/36.jpg\" style=\"display: block;margin-left: auto; margin-right: auto;width:80%\">\n"
   ]
  },
  {
   "cell_type": "markdown",
   "id": "5295cd24-2586-40d8-8833-177acd8f1966",
   "metadata": {},
   "source": [
    "<body style=\"font-family: Sans-serif;\">\n",
    "    <div style=\"color: black; font-size: 15px; font-style: oblique; text-shadow: 0 0 3px white, 0 0 1px black; padding: 20px;\">\n",
    "\n",
    "#### Real Use \"Store Data in File\"\n",
    "<body style=\"font-family: Sans-serif;\">\n",
    "    <div style=\"color: black; font-size: 15px; font-style: oblique; text-shadow: 0 0 3px white, 0 0 1px black; padding: 20px;\">\n",
    "        \n",
    "<img src=\"./images/37.jpg\" style=\"display: block;margin-left: auto; margin-right: auto;width:80%\">\n",
    "\n"
   ]
  },
  {
   "cell_type": "markdown",
   "id": "96b8eaff-5e64-4a9d-a2fd-eeb30ad6fa68",
   "metadata": {},
   "source": [
    "<body style=\"font-family: Sans-serif;\">\n",
    "    <div style=\"color: black; font-size: 15px; font-style: oblique; text-shadow: 0 0 3px white, 0 0 1px black; padding: 20px;\">\n",
    "\n",
    "#### <<<\n",
    "\n",
    "- `cat <<< \" string \" > targetfile`\n",
    "- #### << sy Terminal par tum multi-line input doge jab tak ek end-marker (usually EOF) na aaye.\n",
    "- #### Lakin <<< Ek single-line string ko input ke roop mein kisi command (jaise cat, grep, sed, etc.) ko dena.\n",
    "  "
   ]
  },
  {
   "cell_type": "code",
   "execution_count": 77,
   "id": "774d0b42-6085-4e22-969b-2114c01d8fcd",
   "metadata": {},
   "outputs": [
    {
     "name": "stdout",
     "output_type": "stream",
     "text": [
      "Single Line Supported\n"
     ]
    }
   ],
   "source": [
    "cat <<< \"Single Line Supported\""
   ]
  },
  {
   "cell_type": "code",
   "execution_count": 79,
   "id": "2a837fc5-2836-424e-9203-d58911a92eb9",
   "metadata": {},
   "outputs": [],
   "source": [
    "cat <<< \"Single Line Supported\" > newdata.txt"
   ]
  },
  {
   "cell_type": "code",
   "execution_count": 80,
   "id": "2dba608a-71d6-494b-a14e-9b1f6cf62e56",
   "metadata": {},
   "outputs": [
    {
     "name": "stdout",
     "output_type": "stream",
     "text": [
      "Single Line Supported\n"
     ]
    }
   ],
   "source": [
    "cat newdata.txt"
   ]
  },
  {
   "cell_type": "markdown",
   "id": "f20780ee-97b2-411a-989e-c4a609c25cc9",
   "metadata": {},
   "source": [
    "<body style=\"font-family: Sans-serif;\">\n",
    "    <div style=\"color: black; font-size: 15px; font-style: oblique; text-shadow: 0 0 3px white, 0 0 1px black; padding: 20px;\">\n",
    "\n",
    "#### noclobber kya hota hai?:\n",
    "- #### Bash shell me ek feature hota hai:\n",
    "    - #### `set -o noclobber`\n",
    "    - #### Agar file already exist karti hai, to > use karke overwrite nahi kar sakta. Shell rokh lega.  "
   ]
  },
  {
   "cell_type": "code",
   "execution_count": 11,
   "id": "a16cb157-3ed4-42e5-b007-381c2f4422ab",
   "metadata": {},
   "outputs": [
    {
     "name": "stdout",
     "output_type": "stream",
     "text": [
      "this is tmp data\n"
     ]
    }
   ],
   "source": [
    "cat force.txt"
   ]
  },
  {
   "cell_type": "code",
   "execution_count": 14,
   "id": "dcb9e8d3-0f78-4a0d-a8a4-ca281231d0d2",
   "metadata": {},
   "outputs": [
    {
     "name": "stderr",
     "output_type": "stream",
     "text": [
      "bash: line 3: force.txt: cannot overwrite existing file\n"
     ]
    },
    {
     "name": "stdout",
     "output_type": "stream",
     "text": [
      "\n"
     ]
    }
   ],
   "source": [
    "set -o noclobber\n",
    "cat <<< \"Hello\" > force.txt"
   ]
  },
  {
   "cell_type": "markdown",
   "id": "06ae6717-ff72-4394-a71a-2f458272c0aa",
   "metadata": {},
   "source": [
    "<body style=\"font-family: Sans-serif;\">\n",
    "    <div style=\"color: black; font-size: 15px; font-style: oblique; text-shadow: 0 0 3px white, 0 0 1px black; padding: 20px;\">\n",
    "\n",
    "#### >|\n",
    "\n",
    "- `cat <<< \" string \" >| targetfile`\n",
    "- #### Forcefully overwrite karega file ko even agar noclobber ON hai.\n",
    "  "
   ]
  },
  {
   "cell_type": "code",
   "execution_count": 16,
   "id": "cc484ef5-79ca-405f-baf8-8bc905c5645d",
   "metadata": {},
   "outputs": [],
   "source": [
    "cat <<< \"Important Data\"  >| force.txt"
   ]
  },
  {
   "cell_type": "code",
   "execution_count": 17,
   "id": "de614090-fb2c-4dc1-9eea-a9a3aff3f931",
   "metadata": {},
   "outputs": [
    {
     "name": "stdout",
     "output_type": "stream",
     "text": [
      "Important Data\n"
     ]
    }
   ],
   "source": [
    "cat force.txt"
   ]
  },
  {
   "cell_type": "markdown",
   "id": "d1ebede9-1273-4162-a1e9-cc29194eb2f8",
   "metadata": {},
   "source": [
    "<!DOCTYPE html>\n",
    "<html>\n",
    "<head>\n",
    "</head>\n",
    "<body>\n",
    "    <table border=\"1\">\n",
    "        <thead>\n",
    "            <tr>\n",
    "                <th>Operator</th>\n",
    "                <th>Use</th>\n",
    "                <th>Example</th>\n",
    "                <th>Explanation</th>\n",
    "            </tr>\n",
    "        </thead>\n",
    "        <tbody>\n",
    "            <tr>\n",
    "                <td><code>&gt;</code></td>\n",
    "                <td><strong>Write / Overwrite</strong></td>\n",
    "                <td><code>cat &lt;&lt;&lt; \"Hello\" &gt; file.txt</code></td>\n",
    "                <td>File ko overwrite karega</td>\n",
    "            </tr>\n",
    "            <tr>\n",
    "                <td><code>&gt;&gt;</code></td>\n",
    "                <td><strong>Append</strong></td>\n",
    "                <td><code>cat &lt;&lt;&lt; \"Hello\" &gt;&gt; file.txt</code></td>\n",
    "                <td>File ke end me naya content jod dega</td>\n",
    "            </tr>\n",
    "            <tr>\n",
    "                <td><code>&lt;</code></td>\n",
    "                <td><strong>Input from file</strong></td>\n",
    "                <td><code>cat &lt; file.txt</code></td>\n",
    "                <td>File ka content input ke tarah use karega</td>\n",
    "            </tr>\n",
    "            <tr>\n",
    "                <td><code>2&gt;</code></td>\n",
    "                <td><strong>STDERR to file (overwrite)</strong></td>\n",
    "                <td><code>command 2&gt; error.txt</code></td>\n",
    "                <td>Sirf error messages file me likhega (overwrite)</td>\n",
    "            </tr>\n",
    "            <tr>\n",
    "                <td><code>2&gt;&gt;</code></td>\n",
    "                <td><strong>STDERR to file (append)</strong></td>\n",
    "                <td><code>command 2&gt;&gt; error.txt</code></td>\n",
    "                <td>Error messages file ke end me jodega</td>\n",
    "            </tr>\n",
    "            <tr>\n",
    "                <td><code>&amp;&gt;</code></td>\n",
    "                <td><strong>STDOUT + STDERR (overwrite)</strong></td>\n",
    "                <td><code>command &amp;&gt; output.txt</code></td>\n",
    "                <td>Dono output aur error file me likhega</td>\n",
    "            </tr>\n",
    "            <tr>\n",
    "                <td><code>&amp;&gt;&gt;</code></td>\n",
    "                <td><strong>STDOUT + STDERR (append)</strong></td>\n",
    "                <td><code>command &amp;&gt;&gt; output.txt</code></td>\n",
    "                <td>Dono ko file ke end me jodega</td>\n",
    "            </tr>\n",
    "            <tr>\n",
    "                <td><code>&lt;&lt;</code></td>\n",
    "                <td><strong>Here Document</strong></td>\n",
    "                <td><code>cat &lt;&lt; EOF ... EOF</code></td>\n",
    "                <td>Multi-line input directly dena (delimiter based)</td>\n",
    "            </tr>\n",
    "            <tr>\n",
    "                <td><code>&lt;&lt;&lt;</code></td>\n",
    "                <td><strong>Here String</strong></td>\n",
    "                <td><code>cat &lt;&lt;&lt; \"Hello\"</code></td>\n",
    "                <td>Single line string ko input banana</td>\n",
    "            </tr>\n",
    "            <tr>\n",
    "                <td><code>&gt;\\|</code></td>\n",
    "                <td><strong>Force overwrite (ignore noclobber)</strong></td>\n",
    "                <td><code>cat &lt;&lt;&lt; \"Hi\" &gt;\\| file.txt</code></td>\n",
    "                <td><code>noclobber</code> enabled ho to bhi overwrite karega</td>\n",
    "            </tr>\n",
    "        </tbody>\n",
    "    </table>\n",
    "</body>\n",
    "</html>"
   ]
  },
  {
   "cell_type": "markdown",
   "id": "46b6bad3-0793-4a71-857d-c3097705d5af",
   "metadata": {},
   "source": [
    "<h1 style=\"text-align:center; color:#005bbd; font-size:20px; font-family:Sans-serif; font-style: oblique; text-shadow: 0 0 3px white, 0 0 1px Black;\">\n",
    "Useful Examples</h1>"
   ]
  },
  {
   "cell_type": "markdown",
   "id": "95a451c6-d871-4264-b82b-afee19702789",
   "metadata": {},
   "source": [
    "<body style=\"font-family: Sans-serif;\">\n",
    "    <div style=\"color: black; font-size: 15px; font-style: oblique; text-shadow: 0 0 3px white, 0 0 1px black; padding: 20px;\">\n",
    "\n",
    "#### Read Multiple Files\n",
    "\n",
    "- `cat file1 file2`\n"
   ]
  },
  {
   "cell_type": "code",
   "execution_count": 110,
   "id": "225d26fa-79b6-4551-8953-77bcc1e0021d",
   "metadata": {},
   "outputs": [],
   "source": [
    "cat <<< \"this is file1 data\" > file1.txt\n",
    "cat <<< \"this is file2 data\" > file2.txt"
   ]
  },
  {
   "cell_type": "code",
   "execution_count": 112,
   "id": "15b0f195-18b2-450f-b709-c6a2be5e91cf",
   "metadata": {},
   "outputs": [
    {
     "name": "stdout",
     "output_type": "stream",
     "text": [
      "this is file1 data\n",
      "this is file2 data\n"
     ]
    }
   ],
   "source": [
    "cat file1.txt file2.txt"
   ]
  },
  {
   "cell_type": "markdown",
   "id": "f54cb42c-2fe3-4b08-92ec-e9160cd96944",
   "metadata": {},
   "source": [
    "<body style=\"font-family: Sans-serif;\">\n",
    "    <div style=\"color: black; font-size: 15px; font-style: oblique; text-shadow: 0 0 3px white, 0 0 1px black; padding: 20px;\">\n",
    "\n",
    "#### File content ek aur file me save karna (redirect):\n",
    "\n",
    "- `cat file1 > file2`\n",
    "- #### file1.txt ka data file2.txt me chala jayega (overwrite karega)"
   ]
  },
  {
   "cell_type": "code",
   "execution_count": 113,
   "id": "97b198b5-9ecc-4758-8edb-81d71108867a",
   "metadata": {},
   "outputs": [],
   "source": [
    "cat file1.txt > file2.txt"
   ]
  },
  {
   "cell_type": "code",
   "execution_count": 114,
   "id": "f079bfac-9f63-44ff-adcb-72fc5132ccc1",
   "metadata": {},
   "outputs": [
    {
     "name": "stdout",
     "output_type": "stream",
     "text": [
      "this is file1 data\n"
     ]
    }
   ],
   "source": [
    "cat file1.txt"
   ]
  },
  {
   "cell_type": "code",
   "execution_count": 115,
   "id": "42e9f9b2-a412-45e9-9e7b-01ae23f56718",
   "metadata": {},
   "outputs": [
    {
     "name": "stdout",
     "output_type": "stream",
     "text": [
      "this is file1 data\n"
     ]
    }
   ],
   "source": [
    "cat file2.txt"
   ]
  },
  {
   "cell_type": "markdown",
   "id": "4d69e310-601d-446d-ad9b-3530f296f7b7",
   "metadata": {},
   "source": [
    "<body style=\"font-family: Sans-serif;\">\n",
    "    <div style=\"color: black; font-size: 15px; font-style: oblique; text-shadow: 0 0 3px white, 0 0 1px black; padding: 20px;\">\n",
    "\n",
    "#### Append Data\n",
    "\n",
    "- `cat file1 >> file2`\n",
    "- #### file1.txt ka data file2.txt ky end pr chala jayega"
   ]
  },
  {
   "cell_type": "code",
   "execution_count": 116,
   "id": "75dae1be-10f3-4821-9504-9849b314c5b7",
   "metadata": {},
   "outputs": [],
   "source": [
    "cat <<< \"this is file2 data\" > file2.txt"
   ]
  },
  {
   "cell_type": "code",
   "execution_count": 117,
   "id": "e769b0fc-c3aa-48d3-98d2-d7f586c6a4b2",
   "metadata": {},
   "outputs": [],
   "source": [
    "cat file1.txt >> file2.txt"
   ]
  },
  {
   "cell_type": "code",
   "execution_count": 118,
   "id": "d4be0465-2739-4ac2-96a8-06495217f626",
   "metadata": {},
   "outputs": [
    {
     "name": "stdout",
     "output_type": "stream",
     "text": [
      "this is file2 data\n",
      "this is file1 data\n"
     ]
    }
   ],
   "source": [
    "cat file2.txt"
   ]
  },
  {
   "cell_type": "markdown",
   "id": "a1d3d08d-b0b0-4542-a2ef-a14db0cf02d9",
   "metadata": {},
   "source": [
    "<body style=\"font-family: Sans-serif;\">\n",
    "    <div style=\"color: black; font-size: 15px; font-style: oblique; text-shadow: 0 0 3px white, 0 0 1px black; padding: 20px;\">\n",
    "\n",
    "#### Merge Data and Save into new file\n",
    "\n",
    "- `cat file1 >> file2`\n",
    "- #### file1.txt ka data file2.txt ky end pr chala jayega"
   ]
  },
  {
   "cell_type": "code",
   "execution_count": 119,
   "id": "bdf753d0-39c0-49b3-b4da-6c46c8196841",
   "metadata": {},
   "outputs": [],
   "source": [
    "cat <<< \"this is file2 data\" > file2.txt"
   ]
  },
  {
   "cell_type": "code",
   "execution_count": 121,
   "id": "ff4e277b-5abe-465f-b454-a0e4676a5f53",
   "metadata": {},
   "outputs": [
    {
     "name": "stdout",
     "output_type": "stream",
     "text": [
      "this is file1 data\n",
      "this is file2 data\n"
     ]
    }
   ],
   "source": [
    "cat file1.txt file2.txt "
   ]
  },
  {
   "cell_type": "code",
   "execution_count": 122,
   "id": "a31d624d-6ac4-4ed7-9160-ad8a11e6306c",
   "metadata": {},
   "outputs": [],
   "source": [
    "cat file1.txt file2.txt > newdata.txt"
   ]
  },
  {
   "cell_type": "code",
   "execution_count": 123,
   "id": "dc6ef56d-a745-4e8c-802f-0c40ae62645b",
   "metadata": {},
   "outputs": [
    {
     "name": "stdout",
     "output_type": "stream",
     "text": [
      "this is file1 data\n",
      "this is file2 data\n"
     ]
    }
   ],
   "source": [
    "cat newdata.txt"
   ]
  },
  {
   "cell_type": "markdown",
   "id": "c87f270a-d4fb-46cb-bc8e-e8f7d375f1dc",
   "metadata": {},
   "source": [
    "<h1 style=\"text-align:center; color:#005bbd; font-size:20px; font-family:Sans-serif; font-style: oblique; text-shadow: 0 0 3px white, 0 0 1px Black;\">\n",
    "Useful Parameters</h1>"
   ]
  },
  {
   "cell_type": "markdown",
   "id": "063b566b-a462-40bd-ae02-fb29de087fa3",
   "metadata": {},
   "source": [
    "<body style=\"font-family: Sans-serif;\">\n",
    "    <div style=\"color: black; font-size: 15px; font-style: oblique; text-shadow: 0 0 3px white, 0 0 1px black; padding: 20px;\">\n",
    "        \n",
    "- `-n`\n",
    "- #### Har line ke saath line number bhi dikhata hai"
   ]
  },
  {
   "cell_type": "code",
   "execution_count": 126,
   "id": "4d9322c4-8fdf-4880-aec8-7e7ff8e7ee21",
   "metadata": {},
   "outputs": [
    {
     "name": "stdout",
     "output_type": "stream",
     "text": [
      "     1\tthis is file1 data\n",
      "     2\tthis is file2 data\n"
     ]
    }
   ],
   "source": [
    "cat -n newdata.txt"
   ]
  },
  {
   "cell_type": "markdown",
   "id": "3f769bab-2bd5-4527-af6c-7244223f26e2",
   "metadata": {},
   "source": [
    "<body style=\"font-family: Sans-serif;\">\n",
    "    <div style=\"color: black; font-size: 15px; font-style: oblique; text-shadow: 0 0 3px white, 0 0 1px black; padding: 20px;\">\n",
    "        \n",
    "- `-b`\n",
    "- #### Sirf non-empty lines pe line number show karta hai"
   ]
  },
  {
   "cell_type": "code",
   "execution_count": 130,
   "id": "fdf69b6d-9742-45aa-98e4-58bc16f3e418",
   "metadata": {},
   "outputs": [
    {
     "name": "stdout",
     "output_type": "stream",
     "text": [
      "     1\tline 1\n",
      "     2\t\n",
      "     3\tline 2\n",
      "     4\tline 3\n",
      "     5\t\n",
      "     6\tline 4\n"
     ]
    }
   ],
   "source": [
    "cat -n ds.txt"
   ]
  },
  {
   "cell_type": "markdown",
   "id": "10078a20-3424-4473-94b6-955bcb416d44",
   "metadata": {},
   "source": [
    "<body style=\"font-family: Sans-serif;\">\n",
    "    <div style=\"color: black; font-size: 15px; font-style: oblique; text-shadow: 0 0 3px white, 0 0 1px black; padding: 20px;\">\n",
    "\n",
    "#### Now use -b"
   ]
  },
  {
   "cell_type": "code",
   "execution_count": 131,
   "id": "b161f483-56cb-4426-a2e4-d627b2db0142",
   "metadata": {},
   "outputs": [
    {
     "name": "stdout",
     "output_type": "stream",
     "text": [
      "     1\tline 1\n",
      "\n",
      "     2\tline 2\n",
      "     3\tline 3\n",
      "\n",
      "     4\tline 4\n"
     ]
    }
   ],
   "source": [
    "cat -b ds.txt"
   ]
  },
  {
   "cell_type": "markdown",
   "id": "a6ed315c-77dd-465a-86ab-46e2503f9eaf",
   "metadata": {},
   "source": [
    "<body style=\"font-family: Sans-serif;\">\n",
    "    <div style=\"color: black; font-size: 15px; font-style: oblique; text-shadow: 0 0 3px white, 0 0 1px black; padding: 20px;\">\n",
    "        \n",
    "- `-s`\n",
    "- Consecutive empty lines ko squeeze (1 line bana deta hai)"
   ]
  },
  {
   "cell_type": "code",
   "execution_count": 134,
   "id": "ca11aa4f-a4f0-4a8c-8e93-0795276e723f",
   "metadata": {},
   "outputs": [
    {
     "name": "stdout",
     "output_type": "stream",
     "text": [
      "     1\tstarting\n",
      "     2\t\n",
      "     3\tabove 2 line spaces\n",
      "     4\t\n",
      "     5\t\n",
      "     6\tabove 3 line spaces\n",
      "     7\t\n",
      "     8\tabove 1 line spaces\n"
     ]
    }
   ],
   "source": [
    "cat -n twolinespace.txt"
   ]
  },
  {
   "cell_type": "markdown",
   "id": "ab5380d2-4b3f-482f-9117-bf2b917f802f",
   "metadata": {},
   "source": [
    "<body style=\"font-family: Sans-serif;\">\n",
    "    <div style=\"color: black; font-size: 15px; font-style: oblique; text-shadow: 0 0 3px white, 0 0 1px black; padding: 20px;\">\n",
    "\n",
    "#### Now use -sn (s remove > 1 line spaces, n use for line numbers)"
   ]
  },
  {
   "cell_type": "code",
   "execution_count": 138,
   "id": "5b6b0201-3dbb-42b1-88ea-bea163f35a3d",
   "metadata": {},
   "outputs": [
    {
     "name": "stdout",
     "output_type": "stream",
     "text": [
      "     1\tstarting\n",
      "     2\t\n",
      "     3\tabove 2 line spaces\n",
      "     4\t\n",
      "     5\tabove 3 line spaces\n",
      "     6\t\n",
      "     7\tabove 1 line spaces\n"
     ]
    }
   ],
   "source": [
    "cat -sn twolinespace.txt"
   ]
  },
  {
   "cell_type": "markdown",
   "id": "5f5934fc-4ad9-47f4-a45c-f041622433ab",
   "metadata": {},
   "source": [
    "<body style=\"font-family: Sans-serif;\">\n",
    "    <div style=\"color: black; font-size: 15px; font-style: oblique; text-shadow: 0 0 3px white, 0 0 1px black; padding: 20px;\">\n",
    "        \n",
    "- `-E`\n",
    "- Har line ke end me $ show karega"
   ]
  },
  {
   "cell_type": "code",
   "execution_count": 142,
   "id": "335e57d4-ed2a-4063-936f-d79d08b80f29",
   "metadata": {},
   "outputs": [
    {
     "name": "stdout",
     "output_type": "stream",
     "text": [
      "starting$\n",
      "$\n",
      "above 2 line spaces$\n",
      "$\n",
      "$\n",
      "above 3 line spaces$\n",
      "$\n",
      "above 1 line spaces$\n"
     ]
    }
   ],
   "source": [
    "cat -E twolinespace.txt"
   ]
  },
  {
   "cell_type": "markdown",
   "id": "0c3c3351-cf7c-4659-9e97-18d18bfd0ad5",
   "metadata": {},
   "source": [
    "<body style=\"font-family: Sans-serif;\">\n",
    "    <div style=\"color: black; font-size: 15px; font-style: oblique; text-shadow: 0 0 3px white, 0 0 1px black; padding: 20px;\">\n",
    "        \n",
    "- `-T`\n",
    "- Tab characters ko ^I me convert karke dikhata hai"
   ]
  },
  {
   "cell_type": "code",
   "execution_count": 147,
   "id": "1d4d0a9c-a213-4762-9c90-30c992675ae0",
   "metadata": {},
   "outputs": [
    {
     "name": "stdout",
     "output_type": "stream",
     "text": [
      "hy\tmy name is \tMubeen\n"
     ]
    }
   ],
   "source": [
    "cat tabs.txt"
   ]
  },
  {
   "cell_type": "markdown",
   "id": "31535399-9ced-4cac-b9f3-d9970d9e589c",
   "metadata": {},
   "source": [
    "<body style=\"font-family: Sans-serif;\">\n",
    "    <div style=\"color: black; font-size: 15px; font-style: oblique; text-shadow: 0 0 3px white, 0 0 1px black; padding: 20px;\">\n",
    "\n",
    "#### Now use -T"
   ]
  },
  {
   "cell_type": "code",
   "execution_count": 148,
   "id": "63b05f9d-0aba-4f0d-bbf8-bb33d0e76d0e",
   "metadata": {},
   "outputs": [
    {
     "name": "stdout",
     "output_type": "stream",
     "text": [
      "hy^Imy name is ^IMubeen\n"
     ]
    }
   ],
   "source": [
    "cat -T tabs.txt"
   ]
  },
  {
   "cell_type": "markdown",
   "id": "a62756fb-e4a5-4f87-a0f0-42fcf103dead",
   "metadata": {},
   "source": [
    "<body style=\"font-family: Sans-serif;\">\n",
    "    <div style=\"color: black; font-size: 15px; font-style: oblique; text-shadow: 0 0 3px white, 0 0 1px black; padding: 20px;\">\n",
    "        \n",
    "- `-A`\n",
    "- Sab kuch visible banata hai (like -vET)"
   ]
  },
  {
   "cell_type": "code",
   "execution_count": 151,
   "id": "628ad045-e445-4bf2-8967-4e7e24b611fb",
   "metadata": {},
   "outputs": [
    {
     "name": "stdout",
     "output_type": "stream",
     "text": [
      "starting$\n",
      "$\n",
      "above 2 line spaces$\n",
      "$\n",
      "$\n",
      "above 3 line spaces$\n",
      "$\n",
      "above 1 line spaces$\n"
     ]
    }
   ],
   "source": [
    "cat -A twolinespace.txt"
   ]
  },
  {
   "cell_type": "code",
   "execution_count": 164,
   "id": "39cb6cd4-913a-4ec4-a51c-f5b84db62975",
   "metadata": {},
   "outputs": [
    {
     "name": "stdout",
     "output_type": "stream",
     "text": [
      "hy^Imy name is ^IMubeen$\n"
     ]
    }
   ],
   "source": [
    "cat -A tabs.txt"
   ]
  },
  {
   "cell_type": "markdown",
   "id": "7c349933-7b45-4480-9e80-89feca4752f1",
   "metadata": {},
   "source": [
    "<body style=\"font-family: Sans-serif;\">\n",
    "    <div style=\"color: black; font-size: 15px; font-style: oblique; text-shadow: 0 0 3px white, 0 0 1px black; padding: 20px;\">\n",
    "\n",
    "| Command                       | Use                                                |\n",
    "| ----------------------------- | --------------------------------------------------- |\n",
    "| `cat file.txt`                | File ka content dikhata hai                         |\n",
    "| `cat > file.txt`              | New file banata hai (type and save with `CTRL + D`) |\n",
    "| `cat file1 file2 > final.txt` | Files ko merge karta hai                            |\n",
    "| `cat -n file.txt`             | Line numbers ke sath                                |\n",
    "| `cat -s file.txt`             | Extra blank lines hata deta hai                     |\n",
    "| `cat -E file.txt`             | Line end pe `$` show karega                         |\n",
    "| `cat -T file.txt`             | Replace tab with ^                                  |\n",
    "| `cat -b file.txt`             | Skip Empty line Numbers with                        |\n",
    "| `cat -A file.txt`             | Replace tab with ^, `$` at the end                  |\n",
    "\n"
   ]
  },
  {
   "cell_type": "markdown",
   "id": "3487f51e-e0c4-4fea-9acd-dccfa7744e2b",
   "metadata": {},
   "source": [
    "<h1 style=\"text-align:center; color:#005bbd; font-size:20px; font-family:Sans-serif; font-style: oblique; text-shadow: 0 0 3px white, 0 0 1px Black;\">\n",
    "touch Command Mindmap</h1>"
   ]
  },
  {
   "attachments": {},
   "cell_type": "markdown",
   "id": "92058f4e-c492-45df-9285-12eb331ab850",
   "metadata": {},
   "source": [
    "<img src=\"./images/42.jpg\" style=\"display: block;margin-left: auto; margin-right: auto;width:100%\">\n"
   ]
  },
  {
   "cell_type": "markdown",
   "id": "f44bf10a-29a5-4bda-b6cb-966d787013bd",
   "metadata": {},
   "source": [
    "<h1 style=\"text-align:center; color:#005bbd; font-size:20px; font-family:Sans-serif; font-style: oblique; text-shadow: 0 0 3px white, 0 0 1px Black;\">\n",
    "cat Command Purpose and Basic Use</h1>"
   ]
  },
  {
   "attachments": {},
   "cell_type": "markdown",
   "id": "f75101d5-7aa4-4f26-b520-5fedd27e21f4",
   "metadata": {},
   "source": [
    "<img src=\"./images/43.jpg\" style=\"display: block;margin-left: auto; margin-right: auto;width:100%\">\n"
   ]
  },
  {
   "cell_type": "markdown",
   "id": "68ddff4b-f062-4c8f-a9a1-a9d965c87935",
   "metadata": {},
   "source": [
    "<h1 style=\"text-align:center; color:#005bbd; font-size:20px; font-family:Sans-serif; font-style: oblique; text-shadow: 0 0 3px white, 0 0 1px Black;\">\n",
    "cat Command Shell Operators</h1>"
   ]
  },
  {
   "attachments": {},
   "cell_type": "markdown",
   "id": "62e82227-0fe6-4286-8e1a-2fdc183feab3",
   "metadata": {},
   "source": [
    "<img src=\"./images/44.jpg\" style=\"display: block;margin-left: auto; margin-right: auto;width:100%\">\n"
   ]
  },
  {
   "cell_type": "markdown",
   "id": "db7428e5-997c-4385-86de-ccfb6af9d67a",
   "metadata": {},
   "source": [
    "<h1 style=\"text-align:center; color:#005bbd; font-size:20px; font-family:Sans-serif; font-style: oblique; text-shadow: 0 0 3px white, 0 0 1px Black;\">\n",
    "cat Command Examples</h1>"
   ]
  },
  {
   "attachments": {},
   "cell_type": "markdown",
   "id": "f8a2d3ed-65e8-4b92-9fd3-b82e3e591a84",
   "metadata": {},
   "source": [
    "<img src=\"./images/45.jpg\" style=\"display: block;margin-left: auto; margin-right: auto;width:100%\">\n"
   ]
  },
  {
   "cell_type": "markdown",
   "id": "8c7d4cae-e4f8-4e70-92dc-4e4da9d9e8b2",
   "metadata": {},
   "source": [
    "<h1 style=\"text-align:center; color:#005bbd; font-size:20px; font-family:Sans-serif; font-style: oblique; text-shadow: 0 0 3px white, 0 0 1px Black;\">\n",
    "cat Command Parameters</h1>"
   ]
  },
  {
   "attachments": {},
   "cell_type": "markdown",
   "id": "bc88bf31-ce2d-4bfe-8fb8-d24bc5bc9168",
   "metadata": {},
   "source": [
    "<img src=\"./images/46.jpg\" style=\"display: block;margin-left: auto; margin-right: auto;width:100%\">"
   ]
  }
 ],
 "metadata": {
  "kernelspec": {
   "display_name": "Python 3 (ipykernel)",
   "language": "python",
   "name": "python3"
  },
  "language_info": {
   "codemirror_mode": {
    "name": "ipython",
    "version": 3
   },
   "file_extension": ".py",
   "mimetype": "text/x-python",
   "name": "python",
   "nbconvert_exporter": "python",
   "pygments_lexer": "ipython3",
   "version": "3.13.4"
  }
 },
 "nbformat": 4,
 "nbformat_minor": 5
}
