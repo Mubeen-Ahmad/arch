{
 "cells": [
  {
   "cell_type": "markdown",
   "id": "a47f901a-7b79-4fe0-96c5-f13eac46c53c",
   "metadata": {},
   "source": [
    "<h1 style=\"text-align:center; color:#005bbd; font-size:20px; font-family:Sans-serif; font-style: oblique; text-shadow: 0 0 3px white, 0 0 1px Black;\">\n",
    "Sudo User</h1>"
   ]
  },
  {
   "cell_type": "markdown",
   "id": "02f59c4f-879e-42c2-8678-10dfa2669a2c",
   "metadata": {},
   "source": [
    "<body style=\"font-family: Sans-serif;\">\n",
    "    <div style=\"color: black; font-size: 15px; font-style: oblique; text-shadow: 0 0 3px white, 0 0 1px black; padding: 20px;\">\n",
    "\n",
    "Woh user jo sudo command use kar sakta hai root commands run karne ke liye\n",
    "\n",
    "- Ubuntu/Debian mein jab aap user banate ho:\n",
    "\n",
    "    `sudo adduser username`<br>\n",
    "    `sudo usermod -aG sudo username`\n",
    "\n",
    "- Toh username ban jaata hai sudo user.\n",
    "\n",
    "---\n",
    "\n",
    "- Arch mein jab aap user banate ho:\n",
    "\n",
    "    `sudo useradd username`<br>\n",
    "    `sudo usermod -aG wheel username`\n",
    "\n",
    "- Toh username ban jaata hai sudo user."
   ]
  },
  {
   "cell_type": "markdown",
   "id": "70366287-6fd9-44a0-a4a2-561e8e388f65",
   "metadata": {},
   "source": [
    "<img src=\"./images/69.jpg\" style=\"display: block;margin-left: auto; margin-right: auto;width:70%\">\n"
   ]
  },
  {
   "cell_type": "markdown",
   "id": "d87b577c-f243-454a-8bf2-e540c5c18d2c",
   "metadata": {},
   "source": [
    "<body style=\"font-family: Sans-serif;\">\n",
    "    <div style=\"color: black; font-size: 15px; font-style: oblique; text-shadow: 0 0 3px white, 0 0 1px black; padding: 20px;\">\n",
    "\n",
    "`groups username`\n",
    "- Check Sudo User\n",
    "- ! Note Ubuntu/ Debian mein output sudo show ho ga aur arch mein wheel"
   ]
  },
  {
   "cell_type": "code",
   "execution_count": 7,
   "id": "64ea937d-97fa-4595-9a04-667efbe72691",
   "metadata": {},
   "outputs": [
    {
     "name": "stdout",
     "output_type": "stream",
     "text": [
      "user2 : user2 wheel\n"
     ]
    }
   ],
   "source": [
    "groups user2"
   ]
  },
  {
   "cell_type": "markdown",
   "id": "2835982c-773c-42e2-9db1-bbc2e3e044b8",
   "metadata": {},
   "source": [
    "\n",
    "<body style=\"font-family: Sans-serif;\">\n",
    "    <div style=\"color: black; font-size: 15px; font-style: oblique; text-shadow: 0 0 3px white, 0 0 1px black; padding: 20px;\">\n",
    "\n",
    "`/etc/sudoers file`\n",
    "\n",
    "#### Ye file control karti hai ke kon kon sudo use kar sakta hai aur kis level tak.\n",
    "\n",
    "#### Matlab:\n",
    "- Kon user ya group root jese commands chala sakta hai\n",
    "- Kis user ko password mangna hai ya nahi\n",
    "- Kaunsa command allow ya deny karna hai"
   ]
  },
  {
   "cell_type": "markdown",
   "id": "a965ce14-8793-4bc4-96cf-095907ee7763",
   "metadata": {},
   "source": [
    "<body style=\"font-family: Sans-serif;\">\n",
    "    <div style=\"color: black; font-size: 15px; font-style: oblique; text-shadow: 0 0 3px white, 0 0 1px black; padding: 20px;\">\n",
    "\n",
    "Example Root ko full access:\n",
    "\n",
    "`root ALL=(ALL:ALL) ALL`\n",
    "\n",
    "| Field       | Meaning                       |\n",
    "| ----------- | ----------------------------- |\n",
    "| `root`      | Kis user ke liye              |\n",
    "| `ALL`       | Har host/system               |\n",
    "| `(ALL:ALL)` | Root as any user\\:group       |\n",
    "| `ALL`       | Har command chalane ki ijazat |\n"
   ]
  },
  {
   "cell_type": "markdown",
   "id": "905ea015-9ec3-4f49-a4a6-51b7178f8496",
   "metadata": {},
   "source": [
    "<body style=\"font-family: Sans-serif;\">\n",
    "    <div style=\"color: black; font-size: 15px; font-style: oblique; text-shadow: 0 0 3px white, 0 0 1px black; padding: 20px;\">\n",
    "\n",
    "| Section                                    | Explanation                                                   |\n",
    "| ------------------------------------------ | ----------------------------------------------------------------------------- |\n",
    "| `root ALL=(ALL:ALL) ALL`                   | ✅ Root user ko full access hai                                                |\n",
    "| `%wheel ALL=(ALL:ALL) ALL`                 | ✅ `wheel` group ke sab users `sudo` chala sakte hain                          |\n",
    "| `# %wheel NOPASSWD: ALL`                   | ❌ (Agar enable karo to password bina sudo chalega – risky)                    |\n",
    "| `# %sudo ALL=(ALL:ALL) ALL`                | ❌ (Ubuntu/Debian systems ke liye hota hai)   |\n",
    "| `Defaults secure_path=...`                 | ✅ Sudo shell ko safe path define karta hai (custom user PATH ignore hota hai) |\n",
    "| `Defaults!/usr/bin/visudo env_keep += ...` | ✅ Jab `visudo` chalayen to editor variables preserve kare                     |\n",
    "| `@includedir /etc/sudoers.d`               | ✅ `/etc/sudoers.d/` folder se aur config bhi include kar raha hai             |\n"
   ]
  },
  {
   "cell_type": "markdown",
   "id": "032a43c9-237d-476c-bec9-a8873d8fd307",
   "metadata": {},
   "source": [
    "<body style=\"font-family: Sans-serif;\">\n",
    "    <div style=\"color: black; font-size: 15px; font-style: oblique; text-shadow: 0 0 3px white, 0 0 1px black; padding: 20px;\">\n",
    "\n",
    "#### Note!  \n",
    "- 1 visudo se hi sudoers edit karo — direct edit mat karo!\n",
    "- 2 wheel group active hai, to agar kisi user ko sudo chahiye → usko wheel group mein daalo:\n",
    "\n",
    "    `sudo usermod -aG wheel username`\n",
    "  \n",
    "- 3 NOPASSWD line disabled hai — matlab sudo use karne pe password mangta hai (jo secure hai).\n"
   ]
  },
  {
   "cell_type": "markdown",
   "id": "39fb2e16-5790-4299-a6ec-105a2235d4cc",
   "metadata": {},
   "source": [
    "<body style=\"font-family: Sans-serif;\">\n",
    "    <div style=\"color: black; font-size: 15px; font-style: oblique; text-shadow: 0 0 3px white, 0 0 1px black; padding: 20px;\">\n",
    "        \n",
    "For Example:\n",
    "- Disabled Sudo Password"
   ]
  },
  {
   "cell_type": "markdown",
   "id": "f5621f51-e664-443a-a335-066c5e64c3df",
   "metadata": {},
   "source": [
    "<img src=\"./images/70.jpg\" style=\"display: block;margin-left: auto; margin-right: auto;width:70%\">"
   ]
  },
  {
   "cell_type": "code",
   "execution_count": 38,
   "id": "a91c7641-c500-4c02-9ac3-78f88d6a8daa",
   "metadata": {},
   "outputs": [],
   "source": [
    "sudo userdel user3"
   ]
  },
  {
   "cell_type": "markdown",
   "id": "e2cd280d-077f-47d3-bcb6-c6d9ca264ca9",
   "metadata": {},
   "source": [
    "<body style=\"font-family: Sans-serif;\">\n",
    "    <div style=\"color: black; font-size: 15px; font-style: oblique; text-shadow: 0 0 3px white, 0 0 1px black; padding: 20px;\">\n",
    "\n",
    "Aab Wheel group ke users sudo command bina password ke chala sakte hain.\n",
    "\n",
    "- NOPASSWD waali setting convenient hoti hai, lekin:\n",
    "- Agar koi tumhara terminal access le le, to wo bina rukawat ke sudo kar sakta hai.\n",
    "- Har command root ke naam se run ho sakti hai — dangerous for servers."
   ]
  },
  {
   "cell_type": "markdown",
   "id": "80feb674-df17-42db-9986-5cf967d020b2",
   "metadata": {},
   "source": [
    "<h1 style=\"text-align:center; color:#005bbd; font-size:20px; font-family:Sans-serif; font-style: oblique; text-shadow: 0 0 3px white, 0 0 1px Black;\">\n",
    "Group</h1>"
   ]
  },
  {
   "cell_type": "markdown",
   "id": "0506abeb-ab9f-462c-bb78-2a09b5335f55",
   "metadata": {},
   "source": [
    "<body style=\"font-family: Sans-serif;\">\n",
    "    <div style=\"color: black; font-size: 15px; font-style: oblique; text-shadow: 0 0 3px white, 0 0 1px black; padding: 20px;\">\n",
    "\n",
    "Linux mein har user akela nahi hota \n",
    "- unhein groups mein daala jata hai taake unke upar ek jaisa permission ya control apply kiya ja sake."
   ]
  },
  {
   "cell_type": "markdown",
   "id": "d6f6d986-f202-4449-8570-7c832d3ac378",
   "metadata": {},
   "source": [
    "<body style=\"font-family: Sans-serif;\">\n",
    "    <div style=\"color: black; font-size: 15px; font-style: oblique; text-shadow: 0 0 3px white, 0 0 1px black; padding: 20px;\">\n",
    "\n",
    "#### For Example\n",
    "\n",
    "- Aapke paas 3 users hain: mubeen,ali,ahmed\n",
    "- Agar Aap chaho ke ye teeno /project folder use kar saken —\n",
    "- Toh aap team naam ka ek group banao, aur un teeno ko us group mein daal do."
   ]
  },
  {
   "cell_type": "code",
   "execution_count": 44,
   "id": "93bc97f8-2501-4db9-9023-717da88e2f9e",
   "metadata": {},
   "outputs": [
    {
     "name": "stdout",
     "output_type": "stream",
     "text": [
      "total 4.0K\n",
      "drwxr-xr-x 2 mubeen mubeen 4.0K Jun 22 21:35 project\n"
     ]
    }
   ],
   "source": [
    "ls -lh"
   ]
  },
  {
   "cell_type": "code",
   "execution_count": 53,
   "id": "0c9d1f16-9212-4cdf-b347-463ca2cf5e0a",
   "metadata": {},
   "outputs": [
    {
     "name": "stdout",
     "output_type": "stream",
     "text": [
      "total 0\n",
      "-rw-r--r-- 1 mubeen mubeen 0 Jun 22 21:38 files_1.txt\n",
      "-rw-r--r-- 1 mubeen mubeen 0 Jun 22 21:38 files_10.txt\n",
      "-rw-r--r-- 1 mubeen mubeen 0 Jun 22 21:38 files_2.txt\n",
      "-rw-r--r-- 1 mubeen mubeen 0 Jun 22 21:38 files_3.txt\n",
      "-rw-r--r-- 1 mubeen mubeen 0 Jun 22 21:38 files_4.txt\n",
      "-rw-r--r-- 1 mubeen mubeen 0 Jun 22 21:38 files_5.txt\n",
      "-rw-r--r-- 1 mubeen mubeen 0 Jun 22 21:38 files_6.txt\n",
      "-rw-r--r-- 1 mubeen mubeen 0 Jun 22 21:38 files_7.txt\n",
      "-rw-r--r-- 1 mubeen mubeen 0 Jun 22 21:38 files_8.txt\n",
      "-rw-r--r-- 1 mubeen mubeen 0 Jun 22 21:38 files_9.txt\n"
     ]
    }
   ],
   "source": [
    "touch project/files_{1..10}.txt\n",
    "ls -lh project"
   ]
  },
  {
   "cell_type": "markdown",
   "id": "2b784e7f-adc4-4789-ad29-94dccf3ac8fe",
   "metadata": {},
   "source": [
    "<body style=\"font-family: Sans-serif;\">\n",
    "    <div style=\"color: black; font-size: 15px; font-style: oblique; text-shadow: 0 0 3px white, 0 0 1px black; padding: 20px;\">\n",
    "\n",
    "`sudo groupadd team`\n",
    "\n",
    "- Create Group"
   ]
  },
  {
   "cell_type": "code",
   "execution_count": 55,
   "id": "6ba546e5-71f7-46ad-937e-5d1dbd7029f6",
   "metadata": {},
   "outputs": [],
   "source": [
    "sudo groupadd team"
   ]
  },
  {
   "cell_type": "markdown",
   "id": "4f1b8b01-5a03-4f2e-8b4b-0d1d82601824",
   "metadata": {},
   "source": [
    "<body style=\"font-family: Sans-serif;\">\n",
    "    <div style=\"color: black; font-size: 15px; font-style: oblique; text-shadow: 0 0 3px white, 0 0 1px black; padding: 20px;\">\n",
    "\n",
    "`sudo chgrp team /project`\n",
    "\n",
    "- add team Group for project folder"
   ]
  },
  {
   "cell_type": "code",
   "execution_count": 59,
   "id": "c1a92571-e7e3-4e7e-8637-d17005900faf",
   "metadata": {},
   "outputs": [],
   "source": [
    "sudo chgrp team project"
   ]
  },
  {
   "cell_type": "markdown",
   "id": "585d10cc-1eb4-474b-b689-54aa0e0fa2e3",
   "metadata": {},
   "source": [
    "<body style=\"font-family: Sans-serif;\">\n",
    "    <div style=\"color: black; font-size: 15px; font-style: oblique; text-shadow: 0 0 3px white, 0 0 1px black; padding: 20px;\">\n",
    "\n",
    "\n",
    "`sudo chmod 770 project`\n",
    "\n",
    "- Change Permission for project folder"
   ]
  },
  {
   "cell_type": "code",
   "execution_count": 61,
   "id": "6b936e23-a8b7-43df-8560-9865ee500eda",
   "metadata": {},
   "outputs": [],
   "source": [
    "sudo chmod 770 project"
   ]
  },
  {
   "cell_type": "code",
   "execution_count": 64,
   "id": "9d795b7c-02fd-4b0d-ba61-3a2b81e8680b",
   "metadata": {},
   "outputs": [
    {
     "name": "stdout",
     "output_type": "stream",
     "text": [
      "total 4.0K\n",
      "drwxrwx--- 2 mubeen team 4.0K Jun 22 21:37 project\n"
     ]
    }
   ],
   "source": [
    "ls -lh"
   ]
  },
  {
   "cell_type": "markdown",
   "id": "719b802e-abf4-438a-8c5a-4c7b9383850f",
   "metadata": {},
   "source": [
    "<body style=\"font-family: Sans-serif;\">\n",
    "    <div style=\"color: black; font-size: 15px; font-style: oblique; text-shadow: 0 0 3px white, 0 0 1px black; padding: 20px;\">\n",
    "\n",
    "Bas! Sirf group members access kar sakte hain."
   ]
  },
  {
   "cell_type": "markdown",
   "id": "1d0dcc6d-172a-48bb-9d44-fcc74fcf183e",
   "metadata": {},
   "source": [
    "<body style=\"font-family: Sans-serif;\">\n",
    "    <div style=\"color: black; font-size: 15px; font-style: oblique; text-shadow: 0 0 3px white, 0 0 1px black; padding: 20px;\">\n",
    "        \n",
    "Linux mein User ke 2 Types ke Groups hote hain:\n",
    "\n",
    "| Type                   | Work                                                                       |\n",
    "| ---------------------- | -------------------------------------------------------------------------- |\n",
    "| 🔹 **Primary Group**   | Jab user file/folder create karta hai, wo is group ke naam se own hoti hai |\n",
    "| 🔸 **Secondary Group** | Extra group membership hoti hai for access sharing ya permissions          |\n"
   ]
  },
  {
   "cell_type": "markdown",
   "id": "c1cd12af-99b0-48be-aab8-4a887e959da6",
   "metadata": {},
   "source": [
    "<body style=\"font-family: Sans-serif;\">\n",
    "    <div style=\"color: black; font-size: 15px; font-style: oblique; text-shadow: 0 0 3px white, 0 0 1px black; padding: 20px;\">\n",
    "\n",
    "#### 1 Primary Group – Default Owner Group\n",
    "\n",
    "- Jab bhi koi user data create karta hai\n",
    "- Toh us file ka group owner hamesha uska primary group hota hai."
   ]
  },
  {
   "cell_type": "code",
   "execution_count": 70,
   "id": "082a9b0b-b3eb-477f-86d5-ae638b71b641",
   "metadata": {},
   "outputs": [
    {
     "name": "stdout",
     "output_type": "stream",
     "text": [
      "total 0\n",
      "-rw-r--r-- 1 mubeen mubeen 0 Jun 22 22:04 data.txt\n"
     ]
    }
   ],
   "source": [
    "touch data.txt\n",
    "ls -lh"
   ]
  },
  {
   "cell_type": "markdown",
   "id": "f482f7df-e8d2-49a3-8835-6fc36fe36f62",
   "metadata": {},
   "source": [
    "<body style=\"font-family: Sans-serif;\">\n",
    "    <div style=\"color: black; font-size: 15px; font-style: oblique; text-shadow: 0 0 3px white, 0 0 1px black; padding: 20px;\">\n",
    "Yaha mubeen username hn aur next mubeen group name hn"
   ]
  },
  {
   "cell_type": "markdown",
   "id": "a0e49f16-f041-47b5-a1c5-5c3f7334d0e1",
   "metadata": {},
   "source": [
    "<body style=\"font-family: Sans-serif;\">\n",
    "    <div style=\"color: black; font-size: 15px; font-style: oblique; text-shadow: 0 0 3px white, 0 0 1px black; padding: 20px;\">\n",
    "\n",
    "`id`\n",
    "\n",
    "- Check uid, gid, groups, wheel (sudo)"
   ]
  },
  {
   "cell_type": "code",
   "execution_count": 71,
   "id": "cb184af7-3a07-4a54-b88a-f1b1235ff0c1",
   "metadata": {},
   "outputs": [
    {
     "name": "stdout",
     "output_type": "stream",
     "text": [
      "uid=1000(mubeen) gid=1000(mubeen) groups=1000(mubeen),998(wheel)\n"
     ]
    }
   ],
   "source": [
    "id"
   ]
  },
  {
   "cell_type": "markdown",
   "id": "c69a318a-2339-4287-9b0b-79c2002c560a",
   "metadata": {},
   "source": [
    "<body style=\"font-family: Sans-serif;\">\n",
    "    <div style=\"color: black; font-size: 15px; font-style: oblique; text-shadow: 0 0 3px white, 0 0 1px black; padding: 20px;\">\n",
    "\n",
    "user mubeen ka primary group bhi mubeen hi hai\n",
    "Jab wo koi file banayega, to file ka group mubeen hoga"
   ]
  },
  {
   "cell_type": "code",
   "execution_count": 75,
   "id": "9ea78887-6fbe-490e-816e-666491c8c1c8",
   "metadata": {},
   "outputs": [
    {
     "name": "stdout",
     "output_type": "stream",
     "text": [
      "total 0\n",
      "-rw-r--r-- 1 mubeen mubeen 0 Jun 22 22:04 data.txt\n"
     ]
    }
   ],
   "source": [
    "ls -l"
   ]
  },
  {
   "cell_type": "markdown",
   "id": "32eaedf8-def4-4f47-ac73-589f8f460fd1",
   "metadata": {},
   "source": [
    "<body style=\"font-family: Sans-serif;\">\n",
    "    <div style=\"color: black; font-size: 15px; font-style: oblique; text-shadow: 0 0 3px white, 0 0 1px black; padding: 20px;\">\n",
    "\n",
    "- Owner = mubeen\n",
    "- Group = mubeen (Primary group)"
   ]
  },
  {
   "cell_type": "markdown",
   "id": "710fc844-209d-4247-b411-760876ac90f5",
   "metadata": {},
   "source": [
    "<body style=\"font-family: Sans-serif;\">\n",
    "    <div style=\"color: black; font-size: 15px; font-style: oblique; text-shadow: 0 0 3px white, 0 0 1px black; padding: 20px;\">\n",
    "\n",
    "`sudo groupadd groupname`\n",
    "\n",
    "- Create Primary Group "
   ]
  },
  {
   "cell_type": "code",
   "execution_count": 81,
   "id": "c023968c-e483-442c-968b-ae1dea16461a",
   "metadata": {},
   "outputs": [],
   "source": [
    "sudo groupadd developers"
   ]
  },
  {
   "cell_type": "markdown",
   "id": "af096666-24db-46e0-a545-61b2703f2403",
   "metadata": {},
   "source": [
    "<body style=\"font-family: Sans-serif;\">\n",
    "    <div style=\"color: black; font-size: 15px; font-style: oblique; text-shadow: 0 0 3px white, 0 0 1px black; padding: 20px;\">\n",
    "\n",
    "`sudo usermod -g groupname username `\n",
    "\n",
    "- Create add user in group"
   ]
  },
  {
   "cell_type": "code",
   "execution_count": 85,
   "id": "b323a8fa-1386-4c44-80cb-88bfbc9f3021",
   "metadata": {},
   "outputs": [],
   "source": [
    "sudo usermod -g developers ali"
   ]
  },
  {
   "cell_type": "markdown",
   "id": "fc586b18-d8ac-4bac-a5a4-7d2fd1abf5b6",
   "metadata": {},
   "source": [
    "<body style=\"font-family: Sans-serif;\">\n",
    "    <div style=\"color: black; font-size: 15px; font-style: oblique; text-shadow: 0 0 3px white, 0 0 1px black; padding: 20px;\">\n",
    "\n",
    "`groups username`\n",
    "\n",
    "- Check group"
   ]
  },
  {
   "cell_type": "code",
   "execution_count": 87,
   "id": "970958f9-9b1c-44a5-8409-e4f8a89442d3",
   "metadata": {},
   "outputs": [
    {
     "name": "stdout",
     "output_type": "stream",
     "text": [
      "ali : developers wheel\n"
     ]
    }
   ],
   "source": [
    "groups ali"
   ]
  },
  {
   "cell_type": "markdown",
   "id": "32cb973e-4340-4cb5-803a-34bdd8ca27c9",
   "metadata": {},
   "source": [
    "<body style=\"font-family: Sans-serif;\">\n",
    "    <div style=\"color: black; font-size: 15px; font-style: oblique; text-shadow: 0 0 3px white, 0 0 1px black; padding: 20px;\">\n",
    "\n",
    "`id username`\n",
    "\n",
    "- Check id"
   ]
  },
  {
   "cell_type": "code",
   "execution_count": 89,
   "id": "ce598886-76dc-4b6d-8df6-33b16b0fac2f",
   "metadata": {},
   "outputs": [
    {
     "name": "stdout",
     "output_type": "stream",
     "text": [
      "uid=1001(ali) gid=1004(developers) groups=1004(developers),998(wheel)\n"
     ]
    }
   ],
   "source": [
    "id ali"
   ]
  },
  {
   "cell_type": "markdown",
   "id": "6403d046-849c-41e8-86b5-168a8f65dd52",
   "metadata": {},
   "source": [
    "<body style=\"font-family: Sans-serif;\">\n",
    "    <div style=\"color: black; font-size: 15px; font-style: oblique; text-shadow: 0 0 3px white, 0 0 1px black; padding: 20px;\">\n",
    "\n",
    "#### Note!\n",
    "\n",
    "- Primary Group = 1 user ke liye sirf ek hi time pe hoti hai.\n",
    "- Baaki jitne bhi groups user ke paas hain, wo secondary groups hote hain."
   ]
  },
  {
   "cell_type": "markdown",
   "id": "99411c43-7b57-47cc-803a-514797ef2b29",
   "metadata": {},
   "source": [
    "<body style=\"font-family: Sans-serif;\">\n",
    "    <div style=\"color: black; font-size: 15px; font-style: oblique; text-shadow: 0 0 3px white, 0 0 1px black; padding: 20px;\">\n",
    "\n",
    "| Work                         | Command                             |\n",
    "| ---------------------------- | ----------------------------------- |\n",
    "| Naya group banana            | `sudo groupadd developers`          |\n",
    "| User ke sath group set       | `sudo useradd -g developers -m ali` |\n",
    "| Purane user ka group badalna | `sudo usermod -g teamlead ali`      |\n",
    "| Check group                  | `id ali` ya `groups ali`            |\n"
   ]
  },
  {
   "cell_type": "markdown",
   "id": "c925b80a-e441-44b2-b366-6db5a5d2a464",
   "metadata": {},
   "source": [
    "<body style=\"font-family: Sans-serif;\">\n",
    "    <div style=\"color: black; font-size: 15px; font-style: oblique; text-shadow: 0 0 3px white, 0 0 1px black; padding: 20px;\">\n",
    "\n",
    "#### 2 Secondary Group – Extra Access Wale Groups\n",
    "\n",
    "Ye wo groups hain jinmein user ko baad mein daala gaya hota hai for extra rights.\n",
    "    \n",
    "For Example\n",
    "\n",
    "- `wheel` group ka sudo access mile\n",
    "- `audio` group se sound control\n",
    "- `docker` group se container run"
   ]
  },
  {
   "cell_type": "code",
   "execution_count": 92,
   "id": "a506f2ab-6fda-4ba0-83e4-3d40923b704c",
   "metadata": {},
   "outputs": [
    {
     "name": "stdout",
     "output_type": "stream",
     "text": [
      "uid=1000(mubeen) gid=1000(mubeen) groups=1000(mubeen),998(wheel)\n"
     ]
    }
   ],
   "source": [
    "id mubeen"
   ]
  },
  {
   "cell_type": "markdown",
   "id": "f9402ae1-f8fa-499c-b866-0270a2abebfd",
   "metadata": {},
   "source": [
    "<body style=\"font-family: Sans-serif;\">\n",
    "    <div style=\"color: black; font-size: 15px; font-style: oblique; text-shadow: 0 0 3px white, 0 0 1px black; padding: 20px;\">\n",
    "\n",
    "- username -> mubeen\n",
    "- Primary group -> mubeen\n",
    "- Secondary Group -> mubeen,wheel"
   ]
  },
  {
   "cell_type": "markdown",
   "id": "bc114642-33e6-4d54-8658-4cf48541a823",
   "metadata": {},
   "source": [
    "<body style=\"font-family: Sans-serif;\">\n",
    "    <div style=\"color: black; font-size: 15px; font-style: oblique; text-shadow: 0 0 3px white, 0 0 1px black; padding: 20px;\">\n",
    "\n",
    "`groups mubeen`\n",
    "\n",
    "- Check Groups for user mubeen"
   ]
  },
  {
   "cell_type": "code",
   "execution_count": 80,
   "id": "781863a4-ef00-4d15-9020-ca5330ae55cf",
   "metadata": {},
   "outputs": [
    {
     "name": "stdout",
     "output_type": "stream",
     "text": [
      "mubeen : mubeen wheel\n"
     ]
    }
   ],
   "source": [
    "groups mubeen"
   ]
  },
  {
   "cell_type": "markdown",
   "id": "b8c62d88-f4f7-43c8-a992-a863e7fb6575",
   "metadata": {},
   "source": [
    "<body style=\"font-family: Sans-serif;\">\n",
    "    <div style=\"color: black; font-size: 15px; font-style: oblique; text-shadow: 0 0 3px white, 0 0 1px black; padding: 20px;\">\n",
    "\n",
    "- Primary: mubeen\n",
    "- Secondary: wheel"
   ]
  },
  {
   "cell_type": "markdown",
   "id": "e8293f3f-165e-444f-ba8f-8932493cbdc7",
   "metadata": {},
   "source": [
    "<body style=\"font-family: Sans-serif;\">\n",
    "    <div style=\"color: black; font-size: 15px; font-style: oblique; text-shadow: 0 0 3px white, 0 0 1px black; padding: 20px;\">\n",
    "Create a New user"
   ]
  },
  {
   "cell_type": "code",
   "execution_count": 95,
   "id": "4657e255-211d-4753-b726-ed87111a4f6e",
   "metadata": {},
   "outputs": [],
   "source": [
    "sudo useradd user5"
   ]
  },
  {
   "cell_type": "code",
   "execution_count": 96,
   "id": "429f0af0-0f9c-4e67-aca4-3922454fe342",
   "metadata": {},
   "outputs": [
    {
     "name": "stdout",
     "output_type": "stream",
     "text": [
      "uid=1003(user5) gid=1005(user5) groups=1005(user5)\n"
     ]
    }
   ],
   "source": [
    "id user5"
   ]
  },
  {
   "cell_type": "markdown",
   "id": "53fcaf40-c125-4775-8989-59fd5fce5cee",
   "metadata": {},
   "source": [
    "<body style=\"font-family: Sans-serif;\">\n",
    "    <div style=\"color: black; font-size: 15px; font-style: oblique; text-shadow: 0 0 3px white, 0 0 1px black; padding: 20px;\">\n",
    "So Yaha user5 kye lye Primary group user5 hy aur Secondary group bhi user5 hn"
   ]
  },
  {
   "cell_type": "markdown",
   "id": "cae3d917-5a58-4f0a-ac64-70def156d41f",
   "metadata": {},
   "source": [
    "<body style=\"font-family: Sans-serif;\">\n",
    "    <div style=\"color: black; font-size: 15px; font-style: oblique; text-shadow: 0 0 3px white, 0 0 1px black; padding: 20px;\">\n",
    "Add Secondary group like `wheel`"
   ]
  },
  {
   "cell_type": "code",
   "execution_count": 99,
   "id": "779103e0-7d80-4ba5-8be4-25f764b0a679",
   "metadata": {},
   "outputs": [],
   "source": [
    "sudo usermod -aG wheel user5"
   ]
  },
  {
   "cell_type": "code",
   "execution_count": 101,
   "id": "afc64341-9462-426e-befa-c1b1c3ad10bc",
   "metadata": {},
   "outputs": [
    {
     "name": "stdout",
     "output_type": "stream",
     "text": [
      "uid=1003(user5) gid=1005(user5) groups=1005(user5),998(wheel)\n"
     ]
    }
   ],
   "source": [
    "id user5"
   ]
  },
  {
   "cell_type": "markdown",
   "id": "c88d3cf6-cf78-4ef1-8a6d-19b4a4b1832d",
   "metadata": {},
   "source": [
    "<body style=\"font-family: Sans-serif;\">\n",
    "    <div style=\"color: black; font-size: 15px; font-style: oblique; text-shadow: 0 0 3px white, 0 0 1px black; padding: 20px;\">\n",
    "\n",
    "Ab wheel jo ky secondary group user5 ky lye add howa hn"
   ]
  },
  {
   "cell_type": "markdown",
   "id": "9e9dc0cc-f3f4-4be5-953d-472baeaae80e",
   "metadata": {},
   "source": [
    "<body style=\"font-family: Sans-serif;\">\n",
    "    <div style=\"color: black; font-size: 15px; font-style: oblique; text-shadow: 0 0 3px white, 0 0 1px black; padding: 20px;\">\n",
    "\n",
    "`sudo gpasswd -d username group`\n",
    "\n",
    "- Remove Secondary Group"
   ]
  },
  {
   "cell_type": "code",
   "execution_count": 102,
   "id": "958070aa-9b12-43e6-b59a-e3e6ca5f6555",
   "metadata": {},
   "outputs": [
    {
     "name": "stdout",
     "output_type": "stream",
     "text": [
      "Removing user user5 from group wheel\n"
     ]
    }
   ],
   "source": [
    "sudo gpasswd -d user5 wheel"
   ]
  },
  {
   "cell_type": "code",
   "execution_count": 104,
   "id": "2eae865b-c673-47d8-915a-71212bc13c2a",
   "metadata": {},
   "outputs": [
    {
     "name": "stdout",
     "output_type": "stream",
     "text": [
      "uid=1003(user5) gid=1005(user5) groups=1005(user5)\n"
     ]
    }
   ],
   "source": [
    "id user5"
   ]
  },
  {
   "cell_type": "markdown",
   "id": "1a08b977-c11f-416e-8f7f-1bddc71a7022",
   "metadata": {},
   "source": [
    "<body style=\"font-family: Sans-serif;\">\n",
    "    <div style=\"color: black; font-size: 15px; font-style: oblique; text-shadow: 0 0 3px white, 0 0 1px black; padding: 20px;\">\n",
    "\n",
    "Note:\n",
    "- Primary group delete nahi kar sakte jab tak user usme hai\n",
    "- Toh pehle user ka primary group change karna padega"
   ]
  },
  {
   "cell_type": "markdown",
   "id": "20eaeb43-b665-4162-a08c-8871e04f5f45",
   "metadata": {},
   "source": [
    "<body style=\"font-family: Sans-serif;\">\n",
    "    <div style=\"color: black; font-size: 15px; font-style: oblique; text-shadow: 0 0 3px white, 0 0 1px black; padding: 20px;\">\n",
    "\n",
    "Delete any group (primary ya secondary)\n",
    "\n",
    "`sudo groupdel groupname`\n",
    "\n",
    "- Ye tabhi chalega jab koi user us group ka member na ho (primary ya secondary)"
   ]
  },
  {
   "cell_type": "markdown",
   "id": "65135782-9f86-4565-83d4-a71fa1ba1458",
   "metadata": {},
   "source": [
    "<h1 style=\"text-align:center; color:#005bbd; font-size:20px; font-family:Sans-serif; font-style: oblique; text-shadow: 0 0 3px white, 0 0 1px Black;\">\n",
    "Sudo/wheel Mindmap</h1>"
   ]
  },
  {
   "cell_type": "markdown",
   "id": "99587899-2496-433c-970e-bcdbbec2be31",
   "metadata": {},
   "source": [
    "<img src=\"./images/71.jpg\" style=\"display: block;margin-left: auto; margin-right: auto;width:70%\">"
   ]
  },
  {
   "cell_type": "markdown",
   "id": "de3eb70a-9fda-4ef9-a68b-34786c0c93d6",
   "metadata": {},
   "source": [
    "<h1 style=\"text-align:center; color:#005bbd; font-size:20px; font-family:Sans-serif; font-style: oblique; text-shadow: 0 0 3px white, 0 0 1px Black;\">\n",
    "/etc/sudoers Mindmap</h1>"
   ]
  },
  {
   "cell_type": "markdown",
   "id": "6a61bc8f-0bf6-4eae-a904-d027d7192a95",
   "metadata": {},
   "source": [
    "<img src=\"./images/72.jpg\" style=\"display: block;margin-left: auto; margin-right: auto;width:100%\">"
   ]
  },
  {
   "cell_type": "markdown",
   "id": "6255acc6-cb3d-42ff-8621-c41a90cfe805",
   "metadata": {},
   "source": [
    "<h1 style=\"text-align:center; color:#005bbd; font-size:20px; font-family:Sans-serif; font-style: oblique; text-shadow: 0 0 3px white, 0 0 1px Black;\">\n",
    "Groups Mindmap</h1>"
   ]
  },
  {
   "attachments": {},
   "cell_type": "markdown",
   "id": "0dc4cbd7-d95e-4e5c-9d28-f40d4e0f0ca3",
   "metadata": {},
   "source": [
    "<img src=\"./images/73.jpg\" style=\"display: block;margin-left: auto; margin-right: auto;width:100%\">"
   ]
  },
  {
   "cell_type": "markdown",
   "id": "934f7aa3-45d4-48fa-97b8-c564658ff579",
   "metadata": {},
   "source": [
    "<h1 style=\"text-align:center; color:#005bbd; font-size:20px; font-family:Sans-serif; font-style: oblique; text-shadow: 0 0 3px white, 0 0 1px Black;\">\n",
    "Commands and Summery Mindmap</h1>"
   ]
  },
  {
   "attachments": {},
   "cell_type": "markdown",
   "id": "aeac0bee-27b6-45df-afd0-e9c11ac1f47f",
   "metadata": {},
   "source": [
    "<img src=\"./images/75.jpg\" style=\"display: block;margin-left: auto; margin-right: auto;width:100%\">"
   ]
  }
 ],
 "metadata": {
  "kernelspec": {
   "display_name": "Python 3 (ipykernel)",
   "language": "python",
   "name": "python3"
  },
  "language_info": {
   "codemirror_mode": {
    "name": "ipython",
    "version": 3
   },
   "file_extension": ".py",
   "mimetype": "text/x-python",
   "name": "python",
   "nbconvert_exporter": "python",
   "pygments_lexer": "ipython3",
   "version": "3.13.4"
  }
 },
 "nbformat": 4,
 "nbformat_minor": 5
}
