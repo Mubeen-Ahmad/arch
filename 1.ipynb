{
 "cells": [
  {
   "cell_type": "markdown",
   "id": "9fd1f49f-560f-43ef-b3e4-e390290709c2",
   "metadata": {},
   "source": [
    "<h1 style=\"text-align:center; color:#005bbd; font-size:20px; font-family:Sans-serif; font-style: oblique; text-shadow: 0 0 3px white, 0 0 1px Black;\">\n",
    " Download Arch Iso And Boot-it\n",
    "</h1>"
   ]
  },
  {
   "cell_type": "markdown",
   "id": "f5923db2-b293-4c66-bc68-cc68ad365636",
   "metadata": {},
   "source": [
    "<body style=\"font-family: Sans-serif;\">\n",
    "    <div style=\"color: black; font-size: 15px; font-style: oblique; text-shadow: 0 0 3px white, 0 0 1px black; padding: 20px;\">\n",
    "-> Website <a href =\"https://archlinux.org/download/#http-downloads\">Click Here</a>\n",
    "\n",
    "- #### Create a Bootable USB\n",
    "    - #### Use Rufus Tool\n",
    "    - #### Boot USB and Select First Option\n",
    "  <img src=\"./images/6.jpg\" style=\"display: block;margin-left: auto; margin-right: auto;width:80%\">"
   ]
  },
  {
   "cell_type": "markdown",
   "id": "dca0b0d6-bd4a-4dbd-be03-c3c9f3254de3",
   "metadata": {},
   "source": [
    "<h1 style=\"text-align:center; color:#005bbd; font-size:20px; font-family:Sans-serif; font-style: oblique; text-shadow: 0 0 3px white, 0 0 1px Black;\">\n",
    " Connect Wifi\n",
    "</h1>"
   ]
  },
  {
   "cell_type": "markdown",
   "id": "f3d54d62-81ea-4a08-85ea-adec48ab7ab6",
   "metadata": {},
   "source": [
    "<body style=\"font-family: Sans-serif;\">\n",
    "    <div style=\"color: black; font-size: 15px; font-style: oblique; text-shadow: 0 0 3px white, 0 0 1px black; padding: 20px;\">\n",
    "        \n",
    "- #### Check Wifi Adapter Name\n",
    "    - `ip link`\n",
    "\n",
    "- #### Enable Wifi\n",
    "    - ` ip link set <wifi_adapter> up `\n",
    "\n",
    "- #### Scan Network\n",
    "    - `iw dev <wifi_adapter> scan | grep SSID`\n",
    "\n",
    "- #### Set Authentication\n",
    "    - `wpa_passphrase \"SSID_NAME\" \"PASSWORD\" > /etc/wpa_supplicant/wpa_supplicant.conf`\n",
    "\n",
    "- #### Connect it\n",
    "    - `wpa_supplicant -B -I <wifi_adapter> -c /etc/wpa_supplicant/wpa_supplicant.conf` \n",
    "\n",
    "- #### Assign Ip\n",
    "    `dhcpcd <wifi_adapter>`"
   ]
  },
  {
   "cell_type": "markdown",
   "id": "dc1c7be1-67c9-421a-bd2a-d3e7d17c4b21",
   "metadata": {},
   "source": [
    "<h1 style=\"text-align:center; color:#005bbd; font-size:20px; font-family:Sans-serif; font-style: oblique; text-shadow: 0 0 3px white, 0 0 1px Black;\">\n",
    " Install Arch\n",
    "</h1>"
   ]
  },
  {
   "cell_type": "markdown",
   "id": "0f57c8e1-280f-4adc-bfe9-86a817335f9e",
   "metadata": {},
   "source": [
    "<body style=\"font-family: Sans-serif;\">\n",
    "    <div style=\"color: black; font-size: 15px; font-style: oblique; text-shadow: 0 0 3px white, 0 0 1px black; padding: 20px;\">\n",
    "\n",
    "- ## Synchornizing Package from Internet\n",
    "    `pacman -Sy`\n",
    "\n",
    "<img src=\"./images/1.jpg\" style=\"display: block;margin-left: auto; margin-right: auto;width:80%\">"
   ]
  },
  {
   "cell_type": "markdown",
   "id": "bfe04336-d4c1-411a-bfbc-45a6170255fe",
   "metadata": {},
   "source": [
    "<body style=\"font-family: Sans-serif;\">\n",
    "    <div style=\"color: black; font-size: 15px; font-style: oblique; text-shadow: 0 0 3px white, 0 0 1px black; padding: 20px;\">\n",
    "\n",
    "- ## Verify keys\n",
    "    `pacman -Sy archlinux-keyring`\n",
    "\n",
    "<img src=\"./images/5.jpg\" style=\"display: block;margin-left: auto; margin-right: auto;width:80%\">"
   ]
  },
  {
   "cell_type": "markdown",
   "id": "9096af1c-30dd-4153-ba2b-4e8c8312cdc5",
   "metadata": {},
   "source": [
    "<body style=\"font-family: Sans-serif;\">\n",
    "    <div style=\"color: black; font-size: 15px; font-style: oblique; text-shadow: 0 0 3px white, 0 0 1px black; padding: 20px;\">\n",
    "\n",
    "- ## Check Storage\n",
    "    `lsblk`\n",
    "\n",
    "  <img src=\"./images/2.jpg\" style=\"display: block;margin-left: auto; margin-right: auto;width:80%\">"
   ]
  },
  {
   "cell_type": "markdown",
   "id": "7e3627d2-bff2-4b42-89fe-458aa97504af",
   "metadata": {},
   "source": [
    "<body style=\"font-family: Sans-serif;\">\n",
    "    <div style=\"color: black; font-size: 15px; font-style: oblique; text-shadow: 0 0 3px white, 0 0 1px black; padding: 20px;\">\n",
    "\n",
    "- ## For More Information\n",
    "    `fdisk -l`\n",
    "\n",
    "  <img src=\"./images/3.jpg\" style=\"display: block;margin-left: auto; margin-right: auto;width:80%\">"
   ]
  },
  {
   "cell_type": "markdown",
   "id": "a6bdfb5f-0726-474a-a2d6-eca01b5e880e",
   "metadata": {},
   "source": [
    "<body style=\"font-family: Sans-serif;\">\n",
    "    <div style=\"color: black; font-size: 15px; font-style: oblique; text-shadow: 0 0 3px white, 0 0 1px black; padding: 20px;\">\n",
    "\n",
    "- ## Create EFI Partition (Only For UFEI)\n",
    "  \n",
    "```\n",
    "Command (? for help): n\n",
    "Partition number: 1\n",
    "First sector: (press Enter)\n",
    "Last sector: +512M (set a size)\n",
    "Hex code: ef00 (ef00 = EFI)\n",
    "```"
   ]
  },
  {
   "cell_type": "markdown",
   "id": "2fbf203c-c434-425e-8b3c-7dedab07a76b",
   "metadata": {},
   "source": [
    "<body style=\"font-family: Sans-serif;\">\n",
    "    <div style=\"color: black; font-size: 15px; font-style: oblique; text-shadow: 0 0 3px white, 0 0 1px black; padding: 20px;\">\n",
    "\n",
    "- ## Create Swap Partition\n",
    "  \n",
    "```\n",
    "Command (? for help): n\n",
    "Partition number: 2\n",
    "First sector: (press Enter)\n",
    "Last sector: +2G\n",
    "Hex code: 8200 (8200 = swap)\n",
    "```"
   ]
  },
  {
   "cell_type": "markdown",
   "id": "6ca57a69-cd73-46c1-b420-37168844a3e6",
   "metadata": {},
   "source": [
    "<body style=\"font-family: Sans-serif;\">\n",
    "    <div style=\"color: black; font-size: 15px; font-style: oblique; text-shadow: 0 0 3px white, 0 0 1px black; padding: 20px;\">\n",
    "\n",
    "- ## Create Root Partition\n",
    "  \n",
    "```\n",
    "Command (? for help): n\n",
    "Partition number: 3\n",
    "First sector: (press Enter)\n",
    "Last sector: (+75G)     \n",
    "Hex code: 8300 (8300 = linux file system)\n",
    "```"
   ]
  },
  {
   "cell_type": "markdown",
   "id": "ab170fc5-33ad-4054-a146-423b59e0280d",
   "metadata": {},
   "source": [
    "<body style=\"font-family: Sans-serif;\">\n",
    "    <div style=\"color: black; font-size: 15px; font-style: oblique; text-shadow: 0 0 3px white, 0 0 1px black; padding: 20px;\">\n",
    "\n",
    "- ## Create Home Partition\n",
    "  \n",
    "```\n",
    "Command (? for help): n\n",
    "Partition number: 4\n",
    "First sector: (press Enter)\n",
    "Last sector: (+47G)     \n",
    "Hex code: 8300 (8300 = linux file system)\n",
    "```"
   ]
  },
  {
   "cell_type": "markdown",
   "id": "5a4f59a2-6fae-4bac-a0df-b99776e9782c",
   "metadata": {},
   "source": [
    "<body style=\"font-family: Sans-serif;\">\n",
    "    <div style=\"color: black; font-size: 15px; font-style: oblique; text-shadow: 0 0 3px white, 0 0 1px black; padding: 20px;\">\n",
    "\n",
    "- ## Write Changes\n",
    "`Press: w and Y`\n",
    "\n",
    "  <img src=\"./images/4.jpg\" style=\"display: block;margin-left: auto; margin-right: auto;width:80%\">\n"
   ]
  },
  {
   "cell_type": "markdown",
   "id": "8f0864e8-14f6-4b77-ba65-24b0af794986",
   "metadata": {},
   "source": [
    "<body style=\"font-family: Sans-serif;\">\n",
    "    <div style=\"color: black; font-size: 15px; font-style: oblique; text-shadow: 0 0 3px white, 0 0 1px black; padding: 20px;\">\n",
    "\n",
    "- ## Format and Set Type\n",
    "\n",
    "```\n",
    "mkfs.fat -F32 /dev/sda1         # /boot/efi\n",
    "mkswap /dev/sda2                # swap\n",
    "mkfs.ext4 /dev/sda3             # root /\n",
    "mkfs.ext4 /dev/sda4             # home \n",
    "```"
   ]
  },
  {
   "cell_type": "markdown",
   "id": "7cd8488a-b676-4864-a248-4dc36aab3ada",
   "metadata": {},
   "source": [
    "<body style=\"font-family: Sans-serif;\">\n",
    "    <div style=\"color: black; font-size: 15px; font-style: oblique; text-shadow: 0 0 3px white, 0 0 1px black; padding: 20px;\">\n",
    "\n",
    "- ## Mount partition\n",
    "```\n",
    "mount /dev/sda3 /mnt                 # Mount root\n",
    "mkdir -p /mnt/boot/efi               # EFI mount path\n",
    "mount /dev/sda1 /mnt/boot/efi        # Mount EFI\n",
    "swapon /dev/sda2                     # Enable swap\n",
    "mkdir -p /mnt/home                   # Create home Directory\n",
    "mount /dev/sda4 /mnt/home            # Mount home\n",
    "```"
   ]
  },
  {
   "cell_type": "markdown",
   "id": "9822460f-502c-41a2-802b-73a7e0fca666",
   "metadata": {},
   "source": [
    "<h1 style=\"text-align:center; color:#005bbd; font-size:20px; font-family:Sans-serif; font-style: oblique; text-shadow: 0 0 3px white, 0 0 1px Black;\">\n",
    " Set Base System\n",
    "</h1>"
   ]
  },
  {
   "cell_type": "markdown",
   "id": "7a7d7cba-e249-419e-b881-c4b9ad3f9676",
   "metadata": {},
   "source": [
    "<body style=\"font-family: Sans-serif;\">\n",
    "    <div style=\"color: black; font-size: 15px; font-style: oblique; text-shadow: 0 0 3px white, 0 0 1px black; padding: 20px;\">\n",
    "\n",
    "### 1. Pacstrap se base system install karo\n",
    "\n",
    "```bash\n",
    "pacstrap /mnt base linux linux-firmware\n",
    "```\n",
    "\n",
    "Ye command base system, Linux kernel aur firmware install karegi."
   ]
  },
  {
   "cell_type": "markdown",
   "id": "9d57e830-8103-4eb9-b64a-2dc201a107f8",
   "metadata": {},
   "source": [
    "<body style=\"font-family: Sans-serif;\">\n",
    "    <div style=\"color: black; font-size: 15px; font-style: oblique; text-shadow: 0 0 3px white, 0 0 1px black; padding: 20px;\">\n",
    "\n",
    "### 2. fstab file generate karo\n",
    "\n",
    "```bash\n",
    "genfstab -U /mnt >> /mnt/etc/fstab\n",
    "```\n",
    "\n",
    "Isse system partitions ka mount info save ho jayega."
   ]
  },
  {
   "cell_type": "markdown",
   "id": "b27c9902-31f8-4caf-b0b0-253d00de580f",
   "metadata": {},
   "source": [
    "<body style=\"font-family: Sans-serif;\">\n",
    "    <div style=\"color: black; font-size: 15px; font-style: oblique; text-shadow: 0 0 3px white, 0 0 1px black; padding: 20px;\">\n",
    "\n",
    "### 3. System ke andar chroot karo\n",
    "\n",
    "```bash\n",
    "arch-chroot /mnt\n",
    "```\n",
    "\n",
    "Ab aapka system ke root mein ho, yahan se further setup kar sakte ho."
   ]
  },
  {
   "cell_type": "markdown",
   "id": "a9fecb23-0b7c-431c-a0e8-f35f9d2cbf94",
   "metadata": {},
   "source": [
    "<h1 style=\"text-align:center; color:#005bbd; font-size:20px; font-family:Sans-serif; font-style: oblique; text-shadow: 0 0 3px white, 0 0 1px Black;\">\n",
    " Set Host and Bootloader\n",
    "</h1>"
   ]
  },
  {
   "cell_type": "markdown",
   "id": "78fa71b3-1d2f-4531-a8bf-06f5fb65d886",
   "metadata": {},
   "source": [
    "<body style=\"font-family: Sans-serif;\">\n",
    "    <div style=\"color: black; font-size: 15px; font-style: oblique; text-shadow: 0 0 3px white, 0 0 1px black; padding: 20px;\">\n",
    "\n",
    "- ### Set Hostname\n",
    "\n",
    "```bash\n",
    "echo \"myhostname\" > /etc/hostname\n",
    "```\n",
    "\n",
    "`myhostname` ki jagah apna naam daal do.\n",
    "\n"
   ]
  },
  {
   "cell_type": "markdown",
   "id": "e1742bfe-aca2-4abc-98a5-44aabe660ca2",
   "metadata": {},
   "source": [
    "<body style=\"font-family: Sans-serif;\">\n",
    "    <div style=\"color: black; font-size: 15px; font-style: oblique; text-shadow: 0 0 3px white, 0 0 1px black; padding: 20px;\">\n",
    "\n",
    "- ### Edit Hosts file\n",
    "\n",
    "```bash\n",
    "nano /etc/hosts\n",
    "```\n",
    "\n",
    "Isme ye lines add karo:\n",
    "\n",
    "```\n",
    "127.0.0.1    localhost\n",
    "::1          localhost\n",
    "127.0.1.1    myhostname.localdomain myhostname\n",
    "```\n",
    "\n",
    "`myhostname` apne hostname se replace karna.\n",
    "\n"
   ]
  },
  {
   "cell_type": "markdown",
   "id": "910031e5-3281-4302-9038-9c3da77193a3",
   "metadata": {},
   "source": [
    "<body style=\"font-family: Sans-serif;\">\n",
    "    <div style=\"color: black; font-size: 15px; font-style: oblique; text-shadow: 0 0 3px white, 0 0 1px black; padding: 20px;\">\n",
    "\n",
    "- ### Install Bootloader (GRUB + EFI)\n",
    "\n",
    "```bash\n",
    "pacman -S grub efibootmgr\n",
    "```\n",
    "--- \n",
    "#### Note Enable EFI on Motherboad if you are used virtualbox\n",
    "---\n",
    "\n",
    "\n",
    "```\n",
    "grub-install --target=x86_64-efi --efi-directory=/boot/efi --bootloader-id=GRUB\n",
    "```\n"
   ]
  },
  {
   "cell_type": "markdown",
   "id": "2de6744a-1063-474c-9937-3ffb67f59033",
   "metadata": {},
   "source": [
    "<body style=\"font-family: Sans-serif;\">\n",
    "    <div style=\"color: black; font-size: 15px; font-style: oblique; text-shadow: 0 0 3px white, 0 0 1px black; padding: 20px;\">\n",
    "\n",
    "- ### Install Os Prober\n",
    "\n",
    "```bash\n",
    "pacman -S os-prober\n",
    "```\n",
    "--- \n",
    "- ### Uncomment this line-> \n",
    "- nano /etc/default/grub `GRUB_DISABLE_OS_PROBER=false`\n",
    "- #### Note Disable Secure Boot\n",
    "---\n",
    "\n",
    "\n",
    "```\n",
    "grub-install --target=x86_64-efi --efi-directory=/boot/efi --bootloader-id=GRUB\n",
    "```\n"
   ]
  },
  {
   "cell_type": "markdown",
   "id": "0265e6fa-fa1a-47ad-8ed7-d4ff6f9ae13e",
   "metadata": {},
   "source": [
    "<body style=\"font-family: Sans-serif;\">\n",
    "    <div style=\"color: black; font-size: 15px; font-style: oblique; text-shadow: 0 0 3px white, 0 0 1px black; padding: 20px;\">\n",
    "\n",
    "- ### Generate Grub\n",
    "```\n",
    "grub-mkconfig -o /boot/grub/grub.cfg\n",
    "\n",
    "```"
   ]
  },
  {
   "cell_type": "markdown",
   "id": "45df0259-5749-485a-92e5-a81c0dffcaa0",
   "metadata": {},
   "source": [
    "<body style=\"font-family: Sans-serif;\">\n",
    "    <div style=\"color: black; font-size: 15px; font-style: oblique; text-shadow: 0 0 3px white, 0 0 1px black; padding: 20px;\">\n",
    "        \n",
    "- ### Generate Initramfs\n",
    "`mkinitcpio -P`"
   ]
  },
  {
   "cell_type": "markdown",
   "id": "01b56fa4-23d3-4b23-adbc-0b04f3eecfdd",
   "metadata": {},
   "source": [
    "<body style=\"font-family: Sans-serif;\">\n",
    "    <div style=\"color: black; font-size: 15px; font-style: oblique; text-shadow: 0 0 3px white, 0 0 1px black; padding: 20px;\">\n",
    "\n",
    "- ### set Root password\n",
    "\n",
    "`passwd`\n",
    "\n",
    "Type New Password\n"
   ]
  },
  {
   "cell_type": "markdown",
   "id": "7e72ca7c-efa5-4b6c-80c8-dc64082c3984",
   "metadata": {},
   "source": [
    "<body style=\"font-family: Sans-serif;\">\n",
    "    <div style=\"color: black; font-size: 15px; font-style: oblique; text-shadow: 0 0 3px white, 0 0 1px black; padding: 20px;\">\n",
    "\n",
    "- ### Exit aur reboot karo\n",
    "\n",
    "```bash\n",
    "exit\n",
    "umount -R /mnt\n",
    "reboot\n",
    "```\n"
   ]
  },
  {
   "cell_type": "markdown",
   "id": "cf2f6346-815e-4393-9bc5-8d579c02efd9",
   "metadata": {},
   "source": [
    "<h1 style=\"text-align:center; color:#005bbd; font-size:20px; font-family:Sans-serif; font-style: oblique; text-shadow: 0 0 3px white, 0 0 1px Black;\">\n",
    " Terminal fonts and Colour\n",
    "</h1>"
   ]
  },
  {
   "cell_type": "markdown",
   "id": "7635bdab-8ec3-4b8d-9b9f-556a55b4f1d3",
   "metadata": {},
   "source": [
    "<body style=\"font-family: Sans-serif;\">\n",
    "    <div style=\"color: black; font-size: 15px; font-style: oblique; text-shadow: 0 0 3px white, 0 0 1px black; padding: 20px;\">\n",
    "\n",
    "- ### install terminus-font\n",
    "\n",
    "```bash\n",
    "pacman -S terminus-font\n",
    "```\n"
   ]
  },
  {
   "cell_type": "markdown",
   "id": "34735df2-633b-465a-8f8e-1a01fa886ea9",
   "metadata": {},
   "source": [
    "<body style=\"font-family: Sans-serif;\">\n",
    "    <div style=\"color: black; font-size: 15px; font-style: oblique; text-shadow: 0 0 3px white, 0 0 1px black; padding: 20px;\">\n",
    "\n",
    "- ### set terminus-font\n",
    "\n",
    "```bash\n",
    "setfont ter-132n\n",
    "```\n",
    "\n",
    "check more font -> `/usr/share/consolefonts`"
   ]
  },
  {
   "cell_type": "markdown",
   "id": "ba898705-9b3e-4b1b-a3ad-49b6ce261ca1",
   "metadata": {},
   "source": [
    "<body style=\"font-family: Sans-serif;\">\n",
    "    <div style=\"color: black; font-size: 15px; font-style: oblique; text-shadow: 0 0 3px white, 0 0 1px black; padding: 20px;\">\n",
    "\n",
    "- ### set font permanent\n",
    "\n",
    "```bash\n",
    "nano /etc/vconsole.conf\n",
    "FONT=ter-132n\n",
    "```"
   ]
  },
  {
   "cell_type": "markdown",
   "id": "98a6283f-db4a-4e7a-bb03-9533547ea83f",
   "metadata": {},
   "source": [
    "<body style=\"font-family: Sans-serif;\">\n",
    "    <div style=\"color: black; font-size: 15px; font-style: oblique; text-shadow: 0 0 3px white, 0 0 1px black; padding: 20px;\">\n",
    "\n",
    "- ### set Colour\n",
    "\n",
    "```bash\n",
    "setterm -foreground green -background black\n",
    "\n",
    "```"
   ]
  },
  {
   "cell_type": "markdown",
   "id": "a4b4412b-023c-46b9-9b9e-e0c49f65b4ca",
   "metadata": {},
   "source": [
    "<body style=\"font-family: Sans-serif;\">\n",
    "    <div style=\"color: black; font-size: 15px; font-style: oblique; text-shadow: 0 0 3px white, 0 0 1px black; padding: 20px;\">\n",
    "\n",
    "- ### Bold font\n",
    "\n",
    "```bash\n",
    "setterm --bold on\n",
    "\n",
    "```"
   ]
  },
  {
   "cell_type": "markdown",
   "id": "20360c0c-992b-48cf-9da2-9b9113e7c51e",
   "metadata": {},
   "source": [
    "<body style=\"font-family: Sans-serif;\">\n",
    "    <div style=\"color: black; font-size: 15px; font-style: oblique; text-shadow: 0 0 3px white, 0 0 1px black; padding: 20px;\">\n",
    "\n",
    "- ### set Colour permanent Changes\n",
    "\n",
    "```bash\n",
    "nano ~/.bash_profile\n",
    "```"
   ]
  },
  {
   "cell_type": "markdown",
   "id": "2ca2ef10-cf2c-4e27-b45b-2ab768dbf33c",
   "metadata": {},
   "source": [
    "<body style=\"font-family: Sans-serif;\">\n",
    "    <div style=\"color: black; font-size: 15px; font-style: oblique; text-shadow: 0 0 3px white, 0 0 1px black; padding: 20px;\">\n",
    "\n",
    "### Install Sudo\n",
    "\n",
    "```bash\n",
    "pacman -S sudo\n",
    "```\n"
   ]
  },
  {
   "cell_type": "markdown",
   "id": "71a3fe8a-b41e-40e2-a374-74471b26eea6",
   "metadata": {},
   "source": [
    "<body style=\"font-family: Sans-serif;\">\n",
    "    <div style=\"color: black; font-size: 15px; font-style: oblique; text-shadow: 0 0 3px white, 0 0 1px black; padding: 20px;\">\n",
    "\n",
    "### Add a user\n",
    "\n",
    "```bash\n",
    "useradd -m -G wheel yourname\n",
    "```\n",
    "---\n",
    "```bash\n",
    "passwd yourname\n",
    "```\n",
    "\n",
    "\n",
    "\n"
   ]
  },
  {
   "cell_type": "markdown",
   "id": "471e8b61-ec2a-4ab2-8056-b19d8a5141de",
   "metadata": {},
   "source": [
    "<body style=\"font-family: Sans-serif;\">\n",
    "    <div style=\"color: black; font-size: 15px; font-style: oblique; text-shadow: 0 0 3px white, 0 0 1px black; padding: 20px;\">\n",
    "\n",
    "### Install nano\n",
    "\n",
    "```bash\n",
    "pacman -S nano\n",
    "```\n"
   ]
  },
  {
   "cell_type": "markdown",
   "id": "7ba98a97-0a47-478c-8326-93a0eae75434",
   "metadata": {},
   "source": [
    "<body style=\"font-family: Sans-serif;\">\n",
    "    <div style=\"color: black; font-size: 15px; font-style: oblique; text-shadow: 0 0 3px white, 0 0 1px black; padding: 20px;\">\n",
    "\n",
    "### Enable sudo and set Password\n",
    "\n",
    "```bash\n",
    "useradd -m -G wheel yourname\n",
    "```\n",
    "---\n",
    "```bash\n",
    "passwd yourname\n",
    "```\n",
    "\n",
    "\n",
    "\n"
   ]
  },
  {
   "cell_type": "markdown",
   "id": "7b34da92-78b0-4960-bf9f-6f39190bbb33",
   "metadata": {},
   "source": [
    "<body style=\"font-family: Sans-serif;\">\n",
    "    <div style=\"color: black; font-size: 15px; font-style: oblique; text-shadow: 0 0 3px white, 0 0 1px black; padding: 20px;\">\n",
    "\n",
    "### Add sudouser\n",
    "\n",
    "- ### Uncomment this line nano /etc/sudoers\n",
    "\n",
    "```bash\n",
    "# %wheel ALL=(ALL:ALL) ALL\n",
    "```\n",
    "\n"
   ]
  },
  {
   "cell_type": "markdown",
   "id": "1b9b56e4-e8ab-443d-93bb-fc82efae93ea",
   "metadata": {},
   "source": [
    "<body style=\"font-family: Sans-serif;\">\n",
    "    <div style=\"color: black; font-size: 15px; font-style: oblique; text-shadow: 0 0 3px white, 0 0 1px black; padding: 20px;\">\n",
    "\n",
    "- ### set Timezone\n",
    "\n",
    "```bash\n",
    "ln -sf /usr/share/zoneinfo/Asia/Karachi /etc/localtime \n",
    "```\n",
    "---\n",
    "\n",
    "```\n",
    "hwclock --systohc\n",
    "```\n"
   ]
  },
  {
   "cell_type": "markdown",
   "id": "361e91fe-6460-46fc-90ae-533f49c0dc68",
   "metadata": {},
   "source": [
    "<body style=\"font-family: Sans-serif;\">\n",
    "    <div style=\"color: black; font-size: 15px; font-style: oblique; text-shadow: 0 0 3px white, 0 0 1px black; padding: 20px;\">\n",
    "\n",
    "- ### Localization setup\n",
    "\n",
    "```\n",
    "echo \"en_US.UTF-8 UTF-8\" >> /etc/locale.gen\n",
    "locale-gen\n",
    "\n",
    "\n",
    "echo \"LANG=en_US.UTF-8\" > /etc/locale.conf\n",
    "\n",
    "```\n",
    "\n"
   ]
  },
  {
   "cell_type": "markdown",
   "id": "c0aa681c-1b10-47ac-8040-88a2aa3b37f0",
   "metadata": {},
   "source": [
    "<h1 style=\"text-align:center; color:#005bbd; font-size:20px; font-family:Sans-serif; font-style: oblique; text-shadow: 0 0 3px white, 0 0 1px Black;\">\n",
    " Forgot Root Password\n",
    "</h1>"
   ]
  },
  {
   "cell_type": "markdown",
   "id": "b87c2701-8391-491d-8b39-816d5abecf2f",
   "metadata": {},
   "source": [
    "<body style=\"font-family: Sans-serif;\">\n",
    "    <div style=\"color: black; font-size: 15px; font-style: oblique; text-shadow: 0 0 3px white, 0 0 1px black; padding: 20px;\">\n",
    "\n",
    "- #### Use Bootable Arch USB Iso and Boot it\n",
    "  <img src=\"./images/6.jpg\" style=\"display: block;margin-left: auto; margin-right: auto;width:80%\">"
   ]
  },
  {
   "cell_type": "markdown",
   "id": "1376787a-1fc4-4247-8b2b-93072607ec90",
   "metadata": {},
   "source": [
    "<body style=\"font-family: Sans-serif;\">\n",
    "    <div style=\"color: black; font-size: 15px; font-style: oblique; text-shadow: 0 0 3px white, 0 0 1px black; padding: 20px;\">\n",
    "\n",
    "- ## Mount Your partitions\n",
    "```\n",
    "mount /dev/sda3 /mnt                 # Mount root\n",
    "mkdir -p /mnt/boot/efi               # EFI mount path\n",
    "mount /dev/sda1 /mnt/boot/efi        # Mount EFI\n",
    "swapon /dev/sda2                     # Enable swap\n",
    "mkdir -p /mnt/home                   # Create home Directory\n",
    "mount /dev/sda4 /mnt/home            # Mount home\n",
    "```"
   ]
  },
  {
   "cell_type": "markdown",
   "id": "e85f8cad-584e-49da-9883-0be71d46f201",
   "metadata": {},
   "source": [
    "<body style=\"font-family: Sans-serif;\">\n",
    "    <div style=\"color: black; font-size: 15px; font-style: oblique; text-shadow: 0 0 3px white, 0 0 1px black; padding: 20px;\">\n",
    "\n",
    "- ## Bind Curently Run System Directories\n",
    "```\n",
    "mount --bind /dev /mnt/dev\n",
    "mount --bind /proc /mnt/proc\n",
    "mount --bind /sys /mnt/sys\n",
    "mount --bind /run /mnt/run\n",
    "```"
   ]
  },
  {
   "cell_type": "markdown",
   "id": "48fccfb3-945c-4a2c-8fca-090e1ba09729",
   "metadata": {},
   "source": [
    "<body style=\"font-family: Sans-serif;\">\n",
    "    <div style=\"color: black; font-size: 15px; font-style: oblique; text-shadow: 0 0 3px white, 0 0 1px black; padding: 20px;\">\n",
    "\n",
    "### Login and change password\n",
    "\n",
    "```bash\n",
    "arch-chroot /mnt\n",
    "```\n",
    "---\n",
    "`password`"
   ]
  }
 ],
 "metadata": {
  "kernelspec": {
   "display_name": "Python 3 (ipykernel)",
   "language": "python",
   "name": "python3"
  },
  "language_info": {
   "codemirror_mode": {
    "name": "ipython",
    "version": 3
   },
   "file_extension": ".py",
   "mimetype": "text/x-python",
   "name": "python",
   "nbconvert_exporter": "python",
   "pygments_lexer": "ipython3",
   "version": "3.13.4"
  }
 },
 "nbformat": 4,
 "nbformat_minor": 5
}
