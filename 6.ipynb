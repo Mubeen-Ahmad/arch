{
 "cells": [
  {
   "cell_type": "markdown",
   "id": "34de256e-f2e3-4797-b9e6-203236563e02",
   "metadata": {},
   "source": [
    "<h1 style=\"text-align:center; color:#005bbd; font-size:20px; font-family:Sans-serif; font-style: oblique; text-shadow: 0 0 3px white, 0 0 1px Black;\">\n",
    "Users</h1>"
   ]
  },
  {
   "cell_type": "markdown",
   "id": "9de9ebb5-dec6-46fb-abc3-f69fe0a63152",
   "metadata": {},
   "source": [
    "<body style=\"font-family: Sans-serif;\">\n",
    "    <div style=\"color: black; font-size: 15px; font-style: oblique; text-shadow: 0 0 3px white, 0 0 1px black; padding: 20px;\">\n",
    "\n",
    "Linux system mein user wo banda ya process hota hai jo system ko use karta hai \n",
    " - file read/write karta hai\n",
    " - apps chalata hai, ya\n",
    " - commands execute karta hai.\n",
    "\n",
    "Har user ka lye\n",
    "- Username\n",
    "- User ID (UID)\n",
    "- Home directory\n",
    "- Shell\n",
    "- Permissions (read/write/execute)\n",
    "  \n",
    "Hoti hn"
   ]
  },
  {
   "cell_type": "markdown",
   "id": "25623a15-f077-473d-b92c-6d1028c13f44",
   "metadata": {},
   "source": [
    "<h1 style=\"text-align:center; color:#005bbd; font-size:20px; font-family:Sans-serif; font-style: oblique; text-shadow: 0 0 3px white, 0 0 1px Black;\">\n",
    "Types of Users</h1>"
   ]
  },
  {
   "cell_type": "markdown",
   "id": "e875f954-b430-4492-af9b-e387e3ae1b96",
   "metadata": {},
   "source": [
    "<body style=\"font-family: Sans-serif;\">\n",
    "    <div style=\"color: black; font-size: 15px; font-style: oblique; text-shadow: 0 0 3px white, 0 0 1px black; padding: 20px;\">\n",
    "\n",
    "### 1 Root User (Superuser)\n",
    "- Sab kuch access karta hai (full power)\n",
    "- UID = 0\n",
    "  \n",
    "Note ! Normal Work ky liye Use mat karo"
   ]
  },
  {
   "cell_type": "markdown",
   "id": "2d9acd02-9c1b-4117-bf8c-f6a7fbc37c56",
   "metadata": {},
   "source": [
    "<body style=\"font-family: Sans-serif;\">\n",
    "    <div style=\"color: black; font-size: 15px; font-style: oblique; text-shadow: 0 0 3px white, 0 0 1px black; padding: 20px;\">\n",
    "\n",
    "#### Login Root User"
   ]
  },
  {
   "cell_type": "markdown",
   "id": "b4754bce-9746-4b47-8e26-28a8f048d694",
   "metadata": {},
   "source": [
    "<body style=\"font-family: Sans-serif;\">\n",
    "    <div style=\"color: black; font-size: 15px; font-style: oblique; text-shadow: 0 0 3px white, 0 0 1px black; padding: 20px;\">\n",
    "\n",
    " `su -`\n",
    "- Matlab: Switch to root user, with root’s full environment.\n",
    "- Security: Agar kisi ne root ka password le liya to full control mil jata hai.\n",
    "- Use Case: Server ya CLI environment mein full root shell chahiye ho."
   ]
  },
  {
   "cell_type": "markdown",
   "id": "05ee6970-f23c-4475-ac0a-de2163b24a29",
   "metadata": {},
   "source": [
    "<img src=\"./images/53.jpg\" style=\"display: block;margin-left: auto; margin-right: auto;width:70%\">\n"
   ]
  },
  {
   "cell_type": "markdown",
   "id": "2f3cff9b-d807-4d2e-98d9-0efa5ca4e903",
   "metadata": {},
   "source": [
    "<body style=\"font-family: Sans-serif;\">\n",
    "    <div style=\"color: black; font-size: 15px; font-style: oblique; text-shadow: 0 0 3px white, 0 0 1px black; padding: 20px;\">\n",
    "\n",
    "`sudo su`\n",
    "- Matlab: Apna sudo user ka password dekar root shell access kr sakhty hn (safe because sudoers check hota hai).\n",
    "- Seurity: Better than su, kyunki sirf authorized sudo users hi use kar sakte hain.\n",
    "- Use Case: Daily use ke liye best, jab full shell chahiye ho."
   ]
  },
  {
   "attachments": {},
   "cell_type": "markdown",
   "id": "11c040ad-dabe-46c3-8ab8-03abdbfe58b1",
   "metadata": {},
   "source": [
    "<img src=\"./images/54.jpg\" style=\"display: block;margin-left: auto; margin-right: auto;width:70%\">\n"
   ]
  },
  {
   "cell_type": "markdown",
   "id": "76b8e240-214d-4e3e-884a-b565bbb1d92a",
   "metadata": {},
   "source": [
    "<body style=\"font-family: Sans-serif;\">\n",
    "    <div style=\"color: black; font-size: 15px; font-style: oblique; text-shadow: 0 0 3px white, 0 0 1px black; padding: 20px;\">\n",
    "\n",
    "Note! Ek Dafa login kr lia to phir Next time login karny ky lye password Required nahi ho ga\n",
    "\n",
    "`exit`\n",
    "- use `exit` command for exit cuurent user"
   ]
  },
  {
   "attachments": {},
   "cell_type": "markdown",
   "id": "21deea76-75ed-4ae1-9fc8-284080946d3c",
   "metadata": {},
   "source": [
    "<img src=\"./images/55.jpg\" style=\"display: block;margin-left: auto; margin-right: auto;width:70%\">\n"
   ]
  },
  {
   "cell_type": "markdown",
   "id": "dfbf4816-8829-4070-beee-cdd10aa009cf",
   "metadata": {},
   "source": [
    "<body style=\"font-family: Sans-serif;\">\n",
    "    <div style=\"color: black; font-size: 15px; font-style: oblique; text-shadow: 0 0 3px white, 0 0 1px black; padding: 20px;\">\n",
    "\n",
    "`sudo -k`\n",
    "- sudo ka cached password/session expire karta hai\n",
    "- yani agar tumne pehle sudo use kiya aur password diya tha, to uska temporary session invalidate kar deta hai."
   ]
  },
  {
   "attachments": {},
   "cell_type": "markdown",
   "id": "73acfffe-bd46-4c7d-b389-7d0ccf04f160",
   "metadata": {},
   "source": [
    "<img src=\"./images/56.jpg\" style=\"display: block;margin-left: auto; margin-right: auto;width:70%\">\n"
   ]
  },
  {
   "cell_type": "markdown",
   "id": "6e9b6032-2cce-40b9-82d1-ac2e54c2bb49",
   "metadata": {},
   "source": [
    "<body style=\"font-family: Sans-serif;\">\n",
    "    <div style=\"color: black; font-size: 15px; font-style: oblique; text-shadow: 0 0 3px white, 0 0 1px black; padding: 20px;\">\n",
    "\n",
    "`login on startup ttf`\n",
    "\n",
    "- #### Linux mein multiple TTYs hote hain\n",
    "- #### har ek ek independent terminal session hota hai.\n",
    "    \n",
    "| Shortcut        | Terminal | Description                        |\n",
    "| --------------- | -------- | ---------------------------------- |\n",
    "| Ctrl + Alt + F1 | TTY1     | GUI login (ya CLI login)           |\n",
    "| Ctrl + Alt + F2 | TTY2     | CLI Login screen (text login)      |\n",
    "| Ctrl + Alt + F3 | TTY3     | CLI Login screen (text login)      |\n",
    "| ...             | ...      | ...                                |\n",
    "| Ctrl + Alt + F7 | TTY7     | GUI session hota tha (old distros) |\n",
    "\n",
    "\n",
    "--- \n",
    "### Example\n",
    "\n",
    "- `login: username`\n",
    "\n",
    "- `password: password`\n"
   ]
  },
  {
   "cell_type": "markdown",
   "id": "e19bc702-4dcb-455a-9eaa-bebdbdeb274f",
   "metadata": {},
   "source": [
    "<img src=\"./images/57.jpg\" style=\"display: block;margin-left: auto; margin-right: auto;width:70%\">"
   ]
  },
  {
   "cell_type": "markdown",
   "id": "0cb8363b-2697-4eac-b928-d007b64bf492",
   "metadata": {},
   "source": [
    "<body style=\"font-family: Sans-serif;\">\n",
    "    <div style=\"color: black; font-size: 15px; font-style: oblique; text-shadow: 0 0 3px white, 0 0 1px black; padding: 20px;\">\n",
    "\n",
    "### 2 Normal Users (Regular Users)\n",
    "- Limited access hota hai\n",
    "- Apni home directory mein kaam kar sakta hai"
   ]
  },
  {
   "attachments": {},
   "cell_type": "markdown",
   "id": "e51f11e7-e447-4f1f-a632-e67acc600d68",
   "metadata": {},
   "source": [
    "<img src=\"./images/58.jpg\" style=\"display: block;margin-left: auto; margin-right: auto;width:70%\">"
   ]
  },
  {
   "cell_type": "markdown",
   "id": "a9b00894-1f12-460c-99b5-f8a69f85c748",
   "metadata": {},
   "source": [
    "<body style=\"font-family: Sans-serif;\">\n",
    "    <div style=\"color: black; font-size: 15px; font-style: oblique; text-shadow: 0 0 3px white, 0 0 1px black; padding: 20px;\">\n",
    "\n",
    "`whoami`\n",
    "-  Yani, current terminal session mein kaunsa user logged in hai, uska username dikhata hai.\n",
    "-  Ye command `id -un` ka shortcut hai."
   ]
  },
  {
   "cell_type": "code",
   "execution_count": 19,
   "id": "fc694a34-f718-49ed-997b-ab1e914c9506",
   "metadata": {},
   "outputs": [
    {
     "name": "stdout",
     "output_type": "stream",
     "text": [
      "mubeen\n"
     ]
    }
   ],
   "source": [
    "whoami"
   ]
  },
  {
   "cell_type": "code",
   "execution_count": 21,
   "id": "e4c317e6-5f0a-4305-8c08-470b6deea22c",
   "metadata": {},
   "outputs": [
    {
     "name": "stdout",
     "output_type": "stream",
     "text": [
      "mubeen\n"
     ]
    }
   ],
   "source": [
    "id -un"
   ]
  },
  {
   "cell_type": "markdown",
   "id": "8b9fbb84-3a5c-4e86-b9e7-c75ac411cb42",
   "metadata": {},
   "source": [
    "<body style=\"font-family: Sans-serif;\">\n",
    "    <div style=\"color: black; font-size: 15px; font-style: oblique; text-shadow: 0 0 3px white, 0 0 1px black; padding: 20px;\">\n",
    "\n",
    "### 3 System Users / Service Users\n",
    "\n",
    "- Background processes ke liye\n",
    "- Inka koi human interaction nahi hota\n",
    "- Ye /etc/passwd mein hote hain par login nahi karte"
   ]
  },
  {
   "cell_type": "markdown",
   "id": "88fdebb7-be54-4705-a1ec-d545f7d025a7",
   "metadata": {},
   "source": [
    "<body style=\"font-family: Sans-serif;\">\n",
    "    <div style=\"color: black; font-size: 15px; font-style: oblique; text-shadow: 0 0 3px white, 0 0 1px black; padding: 20px;\">\n",
    "\n",
    "### Example\n",
    "\n",
    "| User Name          | Service/Process           | Work                   |\n",
    "| ------------------ | ------------------------- | -------------------------------------- |\n",
    "| `mysql`            | MySQL Database            | Databases handle karta hai             |\n",
    "| `www-data`         | Web server (Apache/Nginx) | Website files serve karta hai          |\n",
    "| `systemd-timesync` | Time Sync daemon          | System time internet se sync karta hai |\n",
    "| `nobody`           | Minimal permission user   | Bohot restricted tasks karta hai       |\n"
   ]
  },
  {
   "cell_type": "markdown",
   "id": "dfba118d-fc40-462f-877c-4c12126badaf",
   "metadata": {},
   "source": [
    "<body style=\"font-family: Sans-serif;\">\n",
    "    <div style=\"color: black; font-size: 15px; font-style: oblique; text-shadow: 0 0 3px white, 0 0 1px black; padding: 20px;\">\n",
    "\n",
    "`/etc/passwd`\n",
    "- Check all users:"
   ]
  },
  {
   "cell_type": "code",
   "execution_count": 2,
   "id": "763480c5-00e1-4532-b57e-da9ed486c35e",
   "metadata": {},
   "outputs": [
    {
     "name": "stdout",
     "output_type": "stream",
     "text": [
      "root:x:0:0::/root:/usr/bin/bash\n",
      "bin:x:1:1::/:/usr/bin/nologin\n",
      "daemon:x:2:2::/:/usr/bin/nologin\n",
      "mail:x:8:12::/var/spool/mail:/usr/bin/nologin\n",
      "ftp:x:14:11::/srv/ftp:/usr/bin/nologin\n",
      "http:x:33:33::/srv/http:/usr/bin/nologin\n",
      "nobody:x:65534:65534:Kernel Overflow User:/:/usr/bin/nologin\n",
      "dbus:x:81:81:System Message Bus:/:/usr/bin/nologin\n",
      "systemd-coredump:x:980:980:systemd Core Dumper:/:/usr/bin/nologin\n",
      "systemd-network:x:979:979:systemd Network Management:/:/usr/bin/nologin\n",
      "systemd-oom:x:978:978:systemd Userspace OOM Killer:/:/usr/bin/nologin\n",
      "systemd-journal-remote:x:977:977:systemd Journal Remote:/:/usr/bin/nologin\n",
      "systemd-resolve:x:976:976:systemd Resolver:/:/usr/bin/nologin\n",
      "systemd-timesync:x:975:975:systemd Time Synchronization:/:/usr/bin/nologin\n",
      "tss:x:974:974:tss user for tpm2:/:/usr/bin/nologin\n",
      "uuidd:x:973:973:UUID generator helper daemon:/var/lib/libuuid:/usr/bin/nologin\n",
      "alpm:x:972:972:Arch Linux Package Management:/:/usr/bin/nologin\n",
      "mubeen:x:1000:1000::/home/mubeen:/usr/bin/bash\n",
      "git:x:971:971:git daemon user:/:/usr/bin/git-shell\n",
      "ali:x:1001:1001::/home/ali:/usr/bin/bash\n"
     ]
    }
   ],
   "source": [
    "cat /etc/passwd"
   ]
  },
  {
   "cell_type": "markdown",
   "id": "84d9e7ad-afec-42fe-9b85-ae69cff1a5d2",
   "metadata": {},
   "source": [
    "<body style=\"font-family: Sans-serif;\">\n",
    "    <div style=\"color: black; font-size: 15px; font-style: oblique; text-shadow: 0 0 3px white, 0 0 1px black; padding: 20px;\">\n",
    "\n",
    "| User                     | UID   | Login Shell          | Type       | Work                           |\n",
    "| ------------------------ | ----- | -------------------- | ---------- | ---------------------------------------------- |\n",
    "| `root`                   | 0     | `/usr/bin/bash`      | Superuser  | Full control of system (Admin)                 |\n",
    "| `bin`                    | 1     | `/usr/bin/nologin`   | System     | Binaries ka owner (historic)                   |\n",
    "| `daemon`                 | 2     | `/usr/bin/nologin`   | System     | Background processes ke liye                   |\n",
    "| `mail`                   | 8     | `/usr/bin/nologin`   | System     | Email spool management (old systems)           |\n",
    "| `ftp`                    | 14    | `/usr/bin/nologin`   | System     | FTP server ke liye                             |\n",
    "| `http`                   | 33    | `/usr/bin/nologin`   | System     | Web server (Apache/Nginx)                      |\n",
    "| `nobody`                 | 65534 | `/usr/bin/nologin`   | System     | Least privilege user (temporary task)          |\n",
    "| `dbus`                   | 81    | `/usr/bin/nologin`   | System     | DBus IPC system ke liye                        |\n",
    "| `systemd-coredump`       | 980   | `/usr/bin/nologin`   | System     | Crashed programs ka core dump handle karta hai |\n",
    "| `systemd-network`        | 979   | `/usr/bin/nologin`   | System     | Network services manage karta hai              |\n",
    "| `systemd-oom`            | 978   | `/usr/bin/nologin`   | System     | OOM killer – memory control                    |\n",
    "| `systemd-journal-remote` | 977   | `/usr/bin/nologin`   | System     | Logs remote machines se collect karta hai      |\n",
    "| `systemd-resolve`        | 976   | `/usr/bin/nologin`   | System     | DNS resolving (systemd-resolved)               |\n",
    "| `systemd-timesync`       | 975   | `/usr/bin/nologin`   | System     | Time sync service                              |\n",
    "| `tss`                    | 974   | `/usr/bin/nologin`   | System     | TPM (Trusted Platform Module) ke liye          |\n",
    "| `uuidd`                  | 973   | `/usr/bin/nologin`   | System     | UUID generation service                        |\n",
    "| `alpm`                   | 972   | `/usr/bin/nologin`   | System     | Pacman/ALPM backend (Arch Linux)               |\n",
    "| `mubeen`                 | 1000  | `/usr/bin/bash`      | **Normal** | Tumhara main user                              |\n",
    "| `git`                    | 971   | `/usr/bin/git-shell` | System     | Git daemon ke liye (no normal shell)           |\n",
    "| `ali`                    | 1001  | `/usr/bin/bash`      | **Normal** | Another user    |\n"
   ]
  },
  {
   "cell_type": "markdown",
   "id": "d648849a-5ff4-4f7e-adbe-9f0d511455b1",
   "metadata": {},
   "source": [
    "<h1 style=\"text-align:center; color:#005bbd; font-size:20px; font-family:Sans-serif; font-style: oblique; text-shadow: 0 0 3px white, 0 0 1px Black;\">\n",
    "Users identity and access rights </h1>"
   ]
  },
  {
   "cell_type": "markdown",
   "id": "638490ad-dd92-4412-adb4-6d1d0bc2155f",
   "metadata": {},
   "source": [
    "<body style=\"font-family: Sans-serif;\">\n",
    "    <div style=\"color: black; font-size: 15px; font-style: oblique; text-shadow: 0 0 3px white, 0 0 1px black; padding: 20px;\">\n",
    "\n",
    "### 1 Username\n",
    "\n",
    "- Ye wo naam hota hai jo user ko identify karta hai.\n",
    "- Har user ka ek unique username hota hai.\n",
    "\n",
    "---\n",
    "\n",
    "#### Example :\n",
    "\n",
    "```bash\n",
    "mubeen\n",
    "ali\n",
    "root\n",
    "```"
   ]
  },
  {
   "cell_type": "markdown",
   "id": "eb07d934-5ae7-4933-ba0f-729bf9517fe0",
   "metadata": {},
   "source": [
    "<body style=\"font-family: Sans-serif;\">\n",
    "    <div style=\"color: black; font-size: 15px; font-style: oblique; text-shadow: 0 0 3px white, 0 0 1px black; padding: 20px;\">\n",
    "        \n",
    "`whoami`\n",
    "- Command to check username"
   ]
  },
  {
   "cell_type": "code",
   "execution_count": 12,
   "id": "dede052b-f836-4de9-bd41-ec664623e10d",
   "metadata": {},
   "outputs": [
    {
     "name": "stdout",
     "output_type": "stream",
     "text": [
      "mubeen\n"
     ]
    }
   ],
   "source": [
    "whoami"
   ]
  },
  {
   "cell_type": "markdown",
   "id": "eef83dc1-6e49-4a98-b870-c4ef3a64a967",
   "metadata": {},
   "source": [
    "<body style=\"font-family: Sans-serif;\">\n",
    "    <div style=\"color: black; font-size: 15px; font-style: oblique; text-shadow: 0 0 3px white, 0 0 1px black; padding: 20px;\">\n",
    "\n",
    "### 2 UID (User ID) \n",
    "\n",
    "- System username nahi, balkay UID use karta hai users ko internally pehchanne ke liye.\n",
    "---\n",
    "\n",
    "#### Example :\n",
    "\n",
    "| Username | UID  | Type        |\n",
    "| -------- | ---- | ----------- |\n",
    "| root     | 0    | Superuser   |\n",
    "| mubeen   | 1000 | Normal User |\n",
    "| http     | 33   | System User |\n"
   ]
  },
  {
   "cell_type": "markdown",
   "id": "815352ed-3204-4fa8-92dc-551e7b236ad0",
   "metadata": {},
   "source": [
    "<body style=\"font-family: Sans-serif;\">\n",
    "    <div style=\"color: black; font-size: 15px; font-style: oblique; text-shadow: 0 0 3px white, 0 0 1px black; padding: 20px;\">\n",
    "        \n",
    "`id -u`\n",
    "- Command to check uid"
   ]
  },
  {
   "cell_type": "code",
   "execution_count": 16,
   "id": "4555fe9c-9945-4610-ba55-b572a6f1d501",
   "metadata": {},
   "outputs": [
    {
     "name": "stdout",
     "output_type": "stream",
     "text": [
      "1000\n"
     ]
    }
   ],
   "source": [
    "id -u"
   ]
  },
  {
   "cell_type": "markdown",
   "id": "bd4750d4-8d68-4ee9-bef7-663440f700c6",
   "metadata": {},
   "source": [
    "<body style=\"font-family: Sans-serif;\">\n",
    "    <div style=\"color: black; font-size: 15px; font-style: oblique; text-shadow: 0 0 3px white, 0 0 1px black; padding: 20px;\">\n",
    "\n",
    "### 3 Home Directory – (User ka personal folder)\n",
    "\n",
    "- Ye wo folder hota hai jahan user ka data hota hai — jaise documents, config files, etc.\n",
    "    \n",
    "---\n",
    "\n",
    "| User   | Home Directory |\n",
    "| ------ | -------------- |\n",
    "| root   | `/root`        |\n",
    "| mubeen | `/home/mubeen` |\n",
    "| ali    | `/home/ali`    |\n"
   ]
  },
  {
   "cell_type": "code",
   "execution_count": 21,
   "id": "8ac639d3-48ca-4ce6-9109-3fa7086560b8",
   "metadata": {},
   "outputs": [
    {
     "name": "stdout",
     "output_type": "stream",
     "text": [
      "bin   dev  home  lib64\t     media  opt   root\tsbin  sys  usr\n",
      "boot  etc  lib\t lost+found  mnt    proc  run\tsrv   tmp  var\n"
     ]
    }
   ],
   "source": [
    "ls /"
   ]
  },
  {
   "cell_type": "code",
   "execution_count": 19,
   "id": "9b3eeee5-17b0-4187-978b-8c224bcd2d7c",
   "metadata": {},
   "outputs": [
    {
     "name": "stdout",
     "output_type": "stream",
     "text": [
      "ali  lost+found  mubeen\n"
     ]
    }
   ],
   "source": [
    "ls /home"
   ]
  },
  {
   "cell_type": "markdown",
   "id": "a33fbb65-1597-4e9e-a75f-ef49276ce596",
   "metadata": {},
   "source": [
    "<body style=\"font-family: Sans-serif;\">\n",
    "    <div style=\"color: black; font-size: 15px; font-style: oblique; text-shadow: 0 0 3px white, 0 0 1px black; padding: 20px;\">\n",
    "\n",
    "### 4 SHELL\n",
    "\n",
    "- Shell ka matlab hota hai ky Kaunsa command processor user use karta hai\n",
    "- Zyada tar systems mein yeh hota hai:\n",
    "\n",
    "```bash\n",
    "    /bin/bash\n",
    "    /usr/bin/zsh\n",
    "    /usr/bin/fish\n",
    "```\n",
    "\n",
    "#### Agar koi user ka shell /usr/bin/nologin ho to:\n",
    "- #### Wo login nahi kar sakta (system ya service user hota hai)"
   ]
  },
  {
   "cell_type": "markdown",
   "id": "94ae52f9-94d0-4651-a2f7-53b480793eb3",
   "metadata": {},
   "source": [
    "<body style=\"font-family: Sans-serif;\">\n",
    "    <div style=\"color: black; font-size: 15px; font-style: oblique; text-shadow: 0 0 3px white, 0 0 1px black; padding: 20px;\">\n",
    "        \n",
    "`echo $SHELL`\n",
    "\n",
    "- Command to check current shell"
   ]
  },
  {
   "cell_type": "code",
   "execution_count": 22,
   "id": "e5e03303-512c-4fc3-809f-22d08cee5860",
   "metadata": {},
   "outputs": [
    {
     "name": "stdout",
     "output_type": "stream",
     "text": [
      "/usr/bin/bash\n"
     ]
    }
   ],
   "source": [
    "echo $SHELL"
   ]
  },
  {
   "cell_type": "markdown",
   "id": "027a2cfe-e096-43a0-8be8-b31ba94faf25",
   "metadata": {},
   "source": [
    "<body style=\"font-family: Sans-serif;\">\n",
    "    <div style=\"color: black; font-size: 15px; font-style: oblique; text-shadow: 0 0 3px white, 0 0 1px black; padding: 20px;\">\n",
    "\n",
    "### 5 Permissions \n",
    "\n",
    "- Linux mein har file/folder ke 3 type ke permission holders hote hain:\n",
    "\n",
    "| Type   | Means               |\n",
    "| ------ | -------------------- |\n",
    "| Owner  | File ka owner (user) |\n",
    "| Group  | File se linked group |\n",
    "| Others | Baaki sab users        |\n",
    "\n",
    "- Aur 3 type ki permissions hoti hain:\n",
    "\n",
    "| Symbol | Meaning |\n",
    "| ------ | ------- |\n",
    "| r      | Read    |\n",
    "| w      | Write   |\n",
    "| x      | Execute |\n"
   ]
  },
  {
   "cell_type": "code",
   "execution_count": 25,
   "id": "ff2e8f4c-bd45-4125-877e-287bf1ca3a2d",
   "metadata": {},
   "outputs": [
    {
     "name": "stdout",
     "output_type": "stream",
     "text": [
      "total 52\n",
      "-rw-r--r-- 1 mubeen mubeen    0 Jun  7 20:52  1.txt\n",
      "drwxr-xr-x 2 mubeen mubeen 4096 Jun  7 20:53  Documents\n",
      "drwxr-xr-x 2 mubeen mubeen 4096 Jun  7 20:52 'My Files'\n",
      "drwxr-xr-x 2 mubeen mubeen 4096 Jun  8 11:05 'This is my folder'\n",
      "drwxr-xr-x 2 mubeen mubeen 4096 Jun  8 11:03  a\n",
      "drwxr-xr-x 2 mubeen mubeen 4096 Jun  8 11:03  b\n",
      "drwxr-xr-x 2 mubeen mubeen 4096 Jun  8 11:03  c\n",
      "drwxr-xr-x 3 mubeen mubeen 4096 Jun  8 12:05  code\n",
      "drwxr-xr-x 3 mubeen mubeen 4096 Jun  8 10:55  folder1\n",
      "drwx---rwx 6 mubeen mubeen 4096 Jun 22 18:18  linux\n",
      "drwxr-xr-x 2 mubeen mubeen 4096 Jun  8 09:16  myfolder\n",
      "drwxr-xr-x 2 mubeen mubeen 4096 Jun  8 10:59  new_folder\n",
      "drwxr-xr-x 4 mubeen mubeen 4096 Jun 14 15:08  watchlist\n",
      "drwxr-xr-x 2 mubeen mubeen 4096 Jun  8 11:10  xyz\n"
     ]
    }
   ],
   "source": [
    "ls -l"
   ]
  },
  {
   "cell_type": "markdown",
   "id": "8342a4ea-68f8-4aaa-804d-c8b3d599b054",
   "metadata": {},
   "source": [
    "<h1 style=\"text-align:center; color:#005bbd; font-size:20px; font-family:Sans-serif; font-style: oblique; text-shadow: 0 0 3px white, 0 0 1px Black;\">\n",
    "Create User, Set Password and Remove User</h1>"
   ]
  },
  {
   "cell_type": "markdown",
   "id": "a654f1b3-1507-4699-bc7b-1821a114440d",
   "metadata": {},
   "source": [
    "<body style=\"font-family: Sans-serif;\">\n",
    "    <div style=\"color: black; font-size: 15px; font-style: oblique; text-shadow: 0 0 3px white, 0 0 1px black; padding: 20px;\">\n",
    "\n",
    "### 1 Create a Normal User\n",
    "\n",
    "`sudo useradd -m user1`\n",
    "\n",
    "- `-m` parameter User ka home folder bhi create kary ga"
   ]
  },
  {
   "attachments": {},
   "cell_type": "markdown",
   "id": "4e8bb537-69ed-4e04-b473-45abcff54107",
   "metadata": {},
   "source": [
    "<img src=\"./images/59.jpg\" style=\"display: block;margin-left: auto; margin-right: auto;width:70%\">"
   ]
  },
  {
   "cell_type": "markdown",
   "id": "8e8aae18-802d-44ed-9167-cd7941676df8",
   "metadata": {},
   "source": [
    "<body style=\"font-family: Sans-serif;\">\n",
    "    <div style=\"color: black; font-size: 15px; font-style: oblique; text-shadow: 0 0 3px white, 0 0 1px black; padding: 20px;\">\n",
    "\n",
    "### 2 set User Password\n",
    "\n",
    "`sudo passwd user1`\n",
    "\n",
    "- password pucha jaayega, 2 dafa likhna hoga."
   ]
  },
  {
   "cell_type": "markdown",
   "id": "d2dec5cd-5e25-4a7d-a739-db11b40b53fa",
   "metadata": {},
   "source": [
    "<img src=\"./images/60.jpg\" style=\"display: block;margin-left: auto; margin-right: auto;width:70%\">"
   ]
  },
  {
   "cell_type": "markdown",
   "id": "c27c62a7-412a-4168-8ca4-235d88ce9af0",
   "metadata": {},
   "source": [
    "<body style=\"font-family: Sansa-serif;\">\n",
    "    <div style=\"color: black; font-size: 15px; font-style: oblique; text-shadow: 0 0 3px white, 0 0 1px black; padding: 20px;\">\n",
    "\n",
    "### 3. Shell Check (Login Enable Hai Ya Nahi)\n",
    "\n",
    "`grep user1 /etc/passwd`\n",
    "\n",
    "\n",
    "- Agar /usr/bin/nologin hai to login disable hoga"
   ]
  },
  {
   "cell_type": "code",
   "execution_count": 33,
   "id": "b1c68fe6-349d-465a-ac7b-25fde0f090c7",
   "metadata": {},
   "outputs": [
    {
     "name": "stdout",
     "output_type": "stream",
     "text": [
      "user1:x:1002:1002::/home/user1:/usr/bin/bash\n"
     ]
    }
   ],
   "source": [
    "!grep user1 /etc/passwd"
   ]
  },
  {
   "cell_type": "markdown",
   "id": "c9264470-4785-4060-9e29-02e446704f6d",
   "metadata": {},
   "source": [
    "<body style=\"font-family: Sansa-serif;\">\n",
    "    <div style=\"color: black; font-size: 15px; font-style: oblique; text-shadow: 0 0 3px white, 0 0 1px black; padding: 20px;\">\n",
    "\n",
    "### 4 login user\n",
    "\n",
    "`su user1`"
   ]
  },
  {
   "cell_type": "markdown",
   "id": "b213b328-de13-4417-b50f-720865e7a193",
   "metadata": {},
   "source": [
    "<img src=\"./images/61.jpg\" style=\"display: block;margin-left: auto; margin-right: auto;width:70%\">"
   ]
  },
  {
   "cell_type": "markdown",
   "id": "433f221d-94c0-4d91-bfe4-57ee20625092",
   "metadata": {},
   "source": [
    "<body style=\"font-family: Sansa-serif;\">\n",
    "    <div style=\"color: black; font-size: 15px; font-style: oblique; text-shadow: 0 0 3px white, 0 0 1px black; padding: 20px;\">\n",
    "\n",
    "### 5 User remove \n",
    "\n",
    "`sudo del user1`\n",
    "\n",
    "- Ye command user user1 ko remove kar dega, lekin uska home folder (/home/user1) system mein reh jaayega."
   ]
  },
  {
   "cell_type": "markdown",
   "id": "aa30b03f-dd1b-4d49-8536-815f2ceac2af",
   "metadata": {},
   "source": [
    "<body style=\"font-family: Sansa-serif;\">\n",
    "    <div style=\"color: black; font-size: 15px; font-style: oblique; text-shadow: 0 0 3px white, 0 0 1px black; padding: 20px;\">\n",
    "\n",
    "`sudo del -r user1`\n",
    "\n",
    "- `-r` `parameter` User ka home directory bhi delete karega (`/home/user1`)\n",
    "- ⚠️ Ye user ka sara personal data delete kar dega — careful rahna!\n"
   ]
  },
  {
   "attachments": {},
   "cell_type": "markdown",
   "id": "5b7fbbbf-4ea5-42d2-9dff-8a9e2ef60cd7",
   "metadata": {},
   "source": [
    "<img src=\"./images/62.jpg\" style=\"display: block;margin-left: auto; margin-right: auto;width:70%\">"
   ]
  },
  {
   "cell_type": "markdown",
   "id": "6af4aa80-ba38-4765-a6d4-e4c712938205",
   "metadata": {},
   "source": [
    "<h1 style=\"text-align:center; color:#005bbd; font-size:20px; font-family:Sans-serif; font-style: oblique; text-shadow: 0 0 3px white, 0 0 1px Black;\">\n",
    "Users Mindmap</h1>"
   ]
  },
  {
   "cell_type": "markdown",
   "id": "e5c47272-8cbb-494f-a6d2-9e1f1c49e529",
   "metadata": {},
   "source": [
    "<img src=\"./images/63.jpg\" style=\"display: block;margin-left: auto; margin-right: auto;width:70%\">"
   ]
  },
  {
   "cell_type": "markdown",
   "id": "c68459a8-39da-4824-8fd6-9ce20d5d552f",
   "metadata": {},
   "source": [
    "<h1 style=\"text-align:center; color:#005bbd; font-size:20px; font-family:Sans-serif; font-style: oblique; text-shadow: 0 0 3px white, 0 0 1px Black;\">\n",
    "Root User Mindmap</h1>"
   ]
  },
  {
   "attachments": {},
   "cell_type": "markdown",
   "id": "ed3efdd3-ccf1-4e92-bd52-4bfd279365ce",
   "metadata": {},
   "source": [
    "<img src=\"./images/64.jpg\" style=\"display: block;margin-left: auto; margin-right: auto;width:70%\">"
   ]
  },
  {
   "cell_type": "markdown",
   "id": "e6d682d5-e428-49dc-996c-a49905a44139",
   "metadata": {},
   "source": [
    "<h1 style=\"text-align:center; color:#005bbd; font-size:20px; font-family:Sans-serif; font-style: oblique; text-shadow: 0 0 3px white, 0 0 1px Black;\">\n",
    "Normal User and Syestem, Service User Mindmap</h1>"
   ]
  },
  {
   "attachments": {},
   "cell_type": "markdown",
   "id": "1df87dd8-d77c-4743-8073-042de5e06220",
   "metadata": {},
   "source": [
    "<img src=\"./images/65.jpg\" style=\"display: block;margin-left: auto; margin-right: auto;width:100%\">"
   ]
  },
  {
   "cell_type": "markdown",
   "id": "20005b10-1399-4df4-a811-fca09bf04771",
   "metadata": {},
   "source": [
    "<h1 style=\"text-align:center; color:#005bbd; font-size:20px; font-family:Sans-serif; font-style: oblique; text-shadow: 0 0 3px white, 0 0 1px Black;\">\n",
    "User Identity and Access Rights Mindmap</h1>"
   ]
  },
  {
   "attachments": {},
   "cell_type": "markdown",
   "id": "237fdac7-3171-49c7-9c86-06ca79752083",
   "metadata": {},
   "source": [
    "<img src=\"./images/66.jpg\" style=\"display: block;margin-left: auto; margin-right: auto;width:100%\">"
   ]
  },
  {
   "cell_type": "markdown",
   "id": "155c7b16-9f4a-403a-b6cb-3194039a783f",
   "metadata": {},
   "source": [
    "<h1 style=\"text-align:center; color:#005bbd; font-size:20px; font-family:Sans-serif; font-style: oblique; text-shadow: 0 0 3px white, 0 0 1px Black;\">\n",
    "User Management Operations Mindmap</h1>"
   ]
  },
  {
   "cell_type": "markdown",
   "id": "d2172089-7011-49f2-a568-1481eefd1fa3",
   "metadata": {},
   "source": [
    "<img src=\"./images/67.jpg\" style=\"display: block;margin-left: auto; margin-right: auto;width:100%\">"
   ]
  },
  {
   "cell_type": "markdown",
   "id": "41271a44-2b0c-4389-9160-e282ccaf2561",
   "metadata": {},
   "source": [
    "<h1 style=\"text-align:center; color:#005bbd; font-size:20px; font-family:Sans-serif; font-style: oblique; text-shadow: 0 0 3px white, 0 0 1px Black;\">\n",
    "/etc/password and Commands</h1>"
   ]
  },
  {
   "attachments": {},
   "cell_type": "markdown",
   "id": "d07c0ee7-d6af-45ab-a113-08c048c0d3dc",
   "metadata": {},
   "source": [
    "<img src=\"./images/68.jpg\" style=\"display: block;margin-left: auto; margin-right: auto;width:100%\">"
   ]
  }
 ],
 "metadata": {
  "kernelspec": {
   "display_name": "Python 3 (ipykernel)",
   "language": "python",
   "name": "python3"
  },
  "language_info": {
   "codemirror_mode": {
    "name": "ipython",
    "version": 3
   },
   "file_extension": ".py",
   "mimetype": "text/x-python",
   "name": "python",
   "nbconvert_exporter": "python",
   "pygments_lexer": "ipython3",
   "version": "3.13.4"
  }
 },
 "nbformat": 4,
 "nbformat_minor": 5
}
