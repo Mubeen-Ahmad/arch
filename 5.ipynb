{
 "cells": [
  {
   "cell_type": "markdown",
   "id": "ed5c868a-2156-434f-a805-f4459fd609d2",
   "metadata": {},
   "source": [
    "<h1 style=\"text-align:center; color:#005bbd; font-size:20px; font-family:Sans-serif; font-style: oblique; text-shadow: 0 0 3px white, 0 0 1px Black;\">\n",
    "cp Commands</h1>"
   ]
  },
  {
   "cell_type": "markdown",
   "id": "c679ea4f-96c0-49fc-ae22-26ba15a7c645",
   "metadata": {},
   "source": [
    "<body style=\"font-family: Sans-serif;\">\n",
    "    <div style=\"color: black; font-size: 15px; font-style: oblique; text-shadow: 0 0 3px white, 0 0 1px black; padding: 20px;\">\n",
    "\n",
    "## cp\n",
    "\n",
    "    cp command Linux/Unix mein use hota hai files ya directories ko copy karne ke liye"
   ]
  },
  {
   "cell_type": "markdown",
   "id": "e4115d6c-7cf2-4ea5-9500-f8bbba9a1366",
   "metadata": {},
   "source": [
    "<body style=\"font-family: Sans-serif;\">\n",
    "    <div style=\"color: black; font-size: 15px; font-style: oblique; text-shadow: 0 0 3px white, 0 0 1px black; padding: 20px;\">\n",
    "\n",
    "- #### 1 Simple Copy\n",
    "- `cp source destination`\n"
   ]
  },
  {
   "cell_type": "code",
   "execution_count": 34,
   "id": "68da4968-38e9-42d8-8e47-478208185d59",
   "metadata": {},
   "outputs": [
    {
     "name": "stdout",
     "output_type": "stream",
     "text": [
      "data\n",
      "file.txt\n"
     ]
    }
   ],
   "source": [
    "ls -h"
   ]
  },
  {
   "cell_type": "code",
   "execution_count": 35,
   "id": "6e177f9e-2ef0-49c2-a30f-ad0d7e9b015d",
   "metadata": {},
   "outputs": [],
   "source": [
    "cp file.txt data/"
   ]
  },
  {
   "cell_type": "code",
   "execution_count": 37,
   "id": "cd543799-3798-4ea2-a0e8-4af3578db6dc",
   "metadata": {},
   "outputs": [
    {
     "name": "stdout",
     "output_type": "stream",
     "text": [
      "file.txt\n"
     ]
    }
   ],
   "source": [
    "ls data"
   ]
  },
  {
   "cell_type": "markdown",
   "id": "32cdb4e2-f009-42f1-afed-770e180f32d4",
   "metadata": {},
   "source": [
    "<body style=\"font-family: Sans-serif;\">\n",
    "    <div style=\"color: black; font-size: 15px; font-style: oblique; text-shadow: 0 0 3px white, 0 0 1px black; padding: 20px;\">\n",
    "\n",
    "#### file.txt data/ folder mein copy ho gai hn"
   ]
  },
  {
   "cell_type": "markdown",
   "id": "c977923b-b7f6-4d4a-9543-c59cad6dd78f",
   "metadata": {},
   "source": [
    "<body style=\"font-family: Sans-serif;\">\n",
    "    <div style=\"color: black; font-size: 15px; font-style: oblique; text-shadow: 0 0 3px white, 0 0 1px black; padding: 20px;\">\n",
    "\n",
    "- #### 2 copy and rename\n",
    "- `cp source destination(new name)`\n"
   ]
  },
  {
   "cell_type": "code",
   "execution_count": 46,
   "id": "23839fc2-d7db-4fcc-910e-564f7bbaf824",
   "metadata": {},
   "outputs": [
    {
     "name": "stdout",
     "output_type": "stream",
     "text": [
      "data\n",
      "file.txt\n"
     ]
    }
   ],
   "source": [
    "ls -h"
   ]
  },
  {
   "cell_type": "code",
   "execution_count": 43,
   "id": "4426d9fc-3c2c-410b-81ed-c62ccc16d8e9",
   "metadata": {},
   "outputs": [
    {
     "name": "stdout",
     "output_type": "stream",
     "text": [
      "file.txt\n"
     ]
    }
   ],
   "source": [
    "ls -h data"
   ]
  },
  {
   "cell_type": "code",
   "execution_count": 47,
   "id": "6adea907-ddb9-49ad-8a3b-bd0f12ca2efc",
   "metadata": {},
   "outputs": [
    {
     "name": "stdout",
     "output_type": "stream",
     "text": [
      "file.txt\n",
      "new_file.txt\n"
     ]
    }
   ],
   "source": [
    "cp file.txt data/new_file.txt\n",
    "ls -h data"
   ]
  },
  {
   "cell_type": "markdown",
   "id": "8f09ac09-8bee-4466-b8e5-31e4ebe27998",
   "metadata": {},
   "source": [
    "<body style=\"font-family: Sans-serif;\">\n",
    "    <div style=\"color: black; font-size: 15px; font-style: oblique; text-shadow: 0 0 3px white, 0 0 1px black; padding: 20px;\">\n",
    "\n",
    "#### file.txt ko copy karke new_file.txt bana de ga"
   ]
  },
  {
   "cell_type": "markdown",
   "id": "f6a1eb1e-69bb-4551-a985-643d293dd672",
   "metadata": {},
   "source": [
    "<body style=\"font-family: Sans-serif;\">\n",
    "    <div style=\"color: black; font-size: 15px; font-style: oblique; text-shadow: 0 0 3px white, 0 0 1px black; padding: 20px;\">\n",
    "\n",
    "- #### 3 -r (recursive) \n",
    "- `cp -r source destination`\n",
    "#### Directory ko uske andar wali files ke sath copy karta hai"
   ]
  },
  {
   "cell_type": "code",
   "execution_count": 100,
   "id": "d42f7296-4090-4bc1-b111-c6c52606780a",
   "metadata": {},
   "outputs": [
    {
     "name": "stdout",
     "output_type": "stream",
     "text": [
      "folder1\n",
      "folder2\n"
     ]
    }
   ],
   "source": [
    "ls"
   ]
  },
  {
   "cell_type": "code",
   "execution_count": 112,
   "id": "402d05a1-4e43-4e4f-813e-faaefef6b8fa",
   "metadata": {},
   "outputs": [
    {
     "name": "stdout",
     "output_type": "stream",
     "text": [
      "file1.txt\n",
      "file10.txt\n",
      "file2.txt\n",
      "file3.txt\n",
      "file4.txt\n",
      "file5.txt\n",
      "file6.txt\n",
      "file7.txt\n",
      "file8.txt\n",
      "file9.txt\n"
     ]
    }
   ],
   "source": [
    "ls folder1"
   ]
  },
  {
   "cell_type": "code",
   "execution_count": 113,
   "id": "810e53c0-27bb-4b1d-bea1-1a42e97a9898",
   "metadata": {},
   "outputs": [],
   "source": [
    "ls folder2"
   ]
  },
  {
   "cell_type": "code",
   "execution_count": 114,
   "id": "834c685e-c5e9-46ea-bc1f-5da6a58216d4",
   "metadata": {},
   "outputs": [],
   "source": [
    "cp -r folder1 folder2"
   ]
  },
  {
   "cell_type": "code",
   "execution_count": 121,
   "id": "a688a665-de62-496d-b4b4-372992c53fe0",
   "metadata": {},
   "outputs": [
    {
     "name": "stdout",
     "output_type": "stream",
     "text": [
      "folder1\n"
     ]
    }
   ],
   "source": [
    "ls folder2"
   ]
  },
  {
   "cell_type": "markdown",
   "id": "1231a051-d5a1-4a55-a79f-5df5fc564f4c",
   "metadata": {},
   "source": [
    "<body style=\"font-family: Sans-serif;\">\n",
    "    <div style=\"color: black; font-size: 15px; font-style: oblique; text-shadow: 0 0 3px white, 0 0 1px black; padding: 20px;\">\n",
    "\n",
    "#### folder1 with content folder2 mein copy huwa hn"
   ]
  },
  {
   "cell_type": "markdown",
   "id": "9d4ced77-849e-4b60-931a-3aa150295d83",
   "metadata": {},
   "source": [
    "<body style=\"font-family: Sans-serif;\">\n",
    "    <div style=\"color: black; font-size: 15px; font-style: oblique; text-shadow: 0 0 3px white, 0 0 1px black; padding: 20px;\">\n",
    "\n",
    "- #### 4 -r copy only content\n",
    "- `cp -r source/* destination`\n",
    "#### Only Directory/* ka content copy ho ga\n",
    "        "
   ]
  },
  {
   "cell_type": "code",
   "execution_count": 128,
   "id": "d6c01df6-a7dd-4b9b-a5ed-dfd39352e778",
   "metadata": {},
   "outputs": [
    {
     "name": "stdout",
     "output_type": "stream",
     "text": [
      "file1.txt\n",
      "file10.txt\n",
      "file2.txt\n",
      "file3.txt\n",
      "file4.txt\n",
      "file5.txt\n",
      "file6.txt\n",
      "file7.txt\n",
      "file8.txt\n",
      "file9.txt\n"
     ]
    }
   ],
   "source": [
    "ls folder1"
   ]
  },
  {
   "cell_type": "code",
   "execution_count": 129,
   "id": "00f1b9cf-f541-4296-bbbe-00fd14263331",
   "metadata": {},
   "outputs": [],
   "source": [
    "ls folder2"
   ]
  },
  {
   "cell_type": "code",
   "execution_count": 131,
   "id": "52c80c35-62bf-4905-8c34-73737cb3edc6",
   "metadata": {},
   "outputs": [],
   "source": [
    "cp -r folder1/* folder2"
   ]
  },
  {
   "cell_type": "code",
   "execution_count": 132,
   "id": "22a65be5-516d-4bb3-b4d2-4d90f4659c1c",
   "metadata": {},
   "outputs": [
    {
     "name": "stdout",
     "output_type": "stream",
     "text": [
      "file1.txt\n",
      "file10.txt\n",
      "file2.txt\n",
      "file3.txt\n",
      "file4.txt\n",
      "file5.txt\n",
      "file6.txt\n",
      "file7.txt\n",
      "file8.txt\n",
      "file9.txt\n"
     ]
    }
   ],
   "source": [
    "ls folder1"
   ]
  },
  {
   "cell_type": "code",
   "execution_count": 134,
   "id": "68330dfd-ff78-4420-b3a9-2958f766412c",
   "metadata": {},
   "outputs": [
    {
     "name": "stdout",
     "output_type": "stream",
     "text": [
      "file1.txt\n",
      "file10.txt\n",
      "file2.txt\n",
      "file3.txt\n",
      "file4.txt\n",
      "file5.txt\n",
      "file6.txt\n",
      "file7.txt\n",
      "file8.txt\n",
      "file9.txt\n"
     ]
    }
   ],
   "source": [
    "ls folder2"
   ]
  },
  {
   "cell_type": "markdown",
   "id": "bc6c63e1-19d6-44c4-8a52-0ced46b75294",
   "metadata": {},
   "source": [
    "<body style=\"font-family: Sans-serif;\">\n",
    "    <div style=\"color: black; font-size: 15px; font-style: oblique; text-shadow: 0 0 3px white, 0 0 1px black; padding: 20px;\">\n",
    "\n",
    "- #### 5 -v (verbose) \n",
    "- `cp -v source destination`\n",
    "####  copy hone wali har file ka naam show karega\n",
    "        "
   ]
  },
  {
   "cell_type": "code",
   "execution_count": 141,
   "id": "d882a5e0-df93-4ae1-911b-7fd497040751",
   "metadata": {},
   "outputs": [
    {
     "name": "stdout",
     "output_type": "stream",
     "text": [
      "data\n",
      "file.txt\n"
     ]
    }
   ],
   "source": [
    "ls"
   ]
  },
  {
   "cell_type": "code",
   "execution_count": 143,
   "id": "c8ec49b7-b257-4c47-a45f-d7840a23b95a",
   "metadata": {},
   "outputs": [
    {
     "name": "stdout",
     "output_type": "stream",
     "text": [
      "'file.txt' -> 'data/file.txt'\n"
     ]
    }
   ],
   "source": [
    "cp -v file.txt data"
   ]
  },
  {
   "cell_type": "code",
   "execution_count": 145,
   "id": "7c8ccbb0-5a35-444d-a60a-e89e8bcf9ff5",
   "metadata": {},
   "outputs": [
    {
     "name": "stdout",
     "output_type": "stream",
     "text": [
      "file.txt\n"
     ]
    }
   ],
   "source": [
    "ls data"
   ]
  },
  {
   "cell_type": "markdown",
   "id": "aaa0453b-748d-4195-9c9d-00e043f123e9",
   "metadata": {},
   "source": [
    "<body style=\"font-family: Sans-serif;\">\n",
    "    <div style=\"color: black; font-size: 15px; font-style: oblique; text-shadow: 0 0 3px white, 0 0 1px black; padding: 20px;\">\n",
    "\n",
    "- #### 6 -i (interactive)\n",
    "- `cp -i source destination`\n",
    "####  Agar file already hai to ye confirm karega \"overwrite karun ya nahi?\"\n",
    "        "
   ]
  },
  {
   "attachments": {},
   "cell_type": "markdown",
   "id": "6a66adea-203e-4228-9adb-b7e0ff4f31a5",
   "metadata": {},
   "source": [
    "<img src=\"./images/47.jpg\" style=\"display: block;margin-left: auto; margin-right: auto;width:80%\">\n"
   ]
  },
  {
   "cell_type": "markdown",
   "id": "260dbd4e-69b8-4a86-8cd5-9a71a9adf57a",
   "metadata": {},
   "source": [
    "<body style=\"font-family: Sans-serif;\">\n",
    "    <div style=\"color: black; font-size: 15px; font-style: oblique; text-shadow: 0 0 3px white, 0 0 1px black; padding: 20px;\">\n",
    "\n",
    "- #### 7 -u (update) \n",
    "- `cp -u source destination`\n",
    "####  agar source file new ho to hi copy karega\n"
   ]
  },
  {
   "cell_type": "code",
   "execution_count": 150,
   "id": "c643959f-d9be-4b61-86c5-17c971d8f114",
   "metadata": {},
   "outputs": [],
   "source": [
    "cat <<< \"hello\" > f1.txt \n",
    "cat <<< \"hello\" > f2.txt"
   ]
  },
  {
   "cell_type": "code",
   "execution_count": 151,
   "id": "8a7d28f1-7ea5-48ac-bff1-f7fa7597081a",
   "metadata": {},
   "outputs": [
    {
     "name": "stdout",
     "output_type": "stream",
     "text": [
      "hello\n"
     ]
    }
   ],
   "source": [
    "cat f1.txt"
   ]
  },
  {
   "cell_type": "code",
   "execution_count": 152,
   "id": "83eac104-2739-43a9-abc7-9a46ad318b58",
   "metadata": {},
   "outputs": [
    {
     "name": "stdout",
     "output_type": "stream",
     "text": [
      "hello\n"
     ]
    }
   ],
   "source": [
    "cat f2.txt"
   ]
  },
  {
   "cell_type": "code",
   "execution_count": 153,
   "id": "3543909c-a311-42b7-899a-7f09fe5b6b27",
   "metadata": {},
   "outputs": [
    {
     "name": "stdout",
     "output_type": "stream",
     "text": [
      "total 12K\n",
      "drwxr-xr-x 2 mubeen mubeen 4.0K Jun 10 21:18 data\n",
      "-rw-r--r-- 1 mubeen mubeen    6 Jun 11 02:23 f1.txt\n",
      "-rw-r--r-- 1 mubeen mubeen    6 Jun 11 02:23 f2.txt\n",
      "-rw-r--r-- 1 mubeen mubeen    0 Jun 10 21:13 file.txt\n"
     ]
    }
   ],
   "source": [
    "ls -lh"
   ]
  },
  {
   "cell_type": "code",
   "execution_count": 155,
   "id": "4b885c4a-36b0-40ad-b81a-22f573e7044c",
   "metadata": {},
   "outputs": [],
   "source": [
    "cp -u f1.txt f2.txt"
   ]
  },
  {
   "cell_type": "code",
   "execution_count": 156,
   "id": "82793667-3ea4-4075-88d6-c1032728d6b0",
   "metadata": {},
   "outputs": [
    {
     "name": "stdout",
     "output_type": "stream",
     "text": [
      "total 12K\n",
      "drwxr-xr-x 2 mubeen mubeen 4.0K Jun 10 21:18 data\n",
      "-rw-r--r-- 1 mubeen mubeen    6 Jun 11 02:23 f1.txt\n",
      "-rw-r--r-- 1 mubeen mubeen    6 Jun 11 02:23 f2.txt\n",
      "-rw-r--r-- 1 mubeen mubeen    0 Jun 10 21:13 file.txt\n"
     ]
    }
   ],
   "source": [
    "ls -lh"
   ]
  },
  {
   "cell_type": "markdown",
   "id": "52c8da81-4824-4fd7-a7cd-cceb24d055e6",
   "metadata": {},
   "source": [
    "<body style=\"font-family: Sans-serif;\">\n",
    "    <div style=\"color: black; font-size: 15px; font-style: oblique; text-shadow: 0 0 3px white, 0 0 1px black; padding: 20px;\">\n",
    "        \n",
    "####  Yaha f1.txt aur f2.txt ka content same tha is lye f2.txt update nahi hoi\n",
    "#### dono ka update time 02:23 hn\n"
   ]
  },
  {
   "cell_type": "code",
   "execution_count": 157,
   "id": "d0a67569-db63-4a8a-ae2a-9b216b9eb18e",
   "metadata": {},
   "outputs": [],
   "source": [
    "cat <<< \" world\" >> f1.txt"
   ]
  },
  {
   "cell_type": "code",
   "execution_count": 158,
   "id": "d0c160e5-a99d-456c-bd20-7beca67f2661",
   "metadata": {},
   "outputs": [
    {
     "name": "stdout",
     "output_type": "stream",
     "text": [
      "hello\n",
      " world\n"
     ]
    }
   ],
   "source": [
    "cat f1.txt"
   ]
  },
  {
   "cell_type": "markdown",
   "id": "745f0b22-b8cd-485e-a313-230fe7ed8289",
   "metadata": {},
   "source": [
    "<body style=\"font-family: Sans-serif;\">\n",
    "    <div style=\"color: black; font-size: 15px; font-style: oblique; text-shadow: 0 0 3px white, 0 0 1px black; padding: 20px;\">\n",
    "        \n",
    "#### aab yaha f1.txt ka content change kr dia hn aab again try karty hn\n"
   ]
  },
  {
   "cell_type": "code",
   "execution_count": 160,
   "id": "fc09dd4b-8589-4a15-a9f2-eda5163c8e6a",
   "metadata": {},
   "outputs": [
    {
     "name": "stdout",
     "output_type": "stream",
     "text": [
      "total 12K\n",
      "drwxr-xr-x 2 mubeen mubeen 4.0K Jun 10 21:18 data\n",
      "-rw-r--r-- 1 mubeen mubeen   13 Jun 11 02:27 f1.txt\n",
      "-rw-r--r-- 1 mubeen mubeen    6 Jun 11 02:23 f2.txt\n",
      "-rw-r--r-- 1 mubeen mubeen    0 Jun 10 21:13 file.txt\n"
     ]
    }
   ],
   "source": [
    "ls -lh"
   ]
  },
  {
   "cell_type": "code",
   "execution_count": 161,
   "id": "44df157a-24d0-4466-97cd-548a875335da",
   "metadata": {},
   "outputs": [],
   "source": [
    "cp -u f1.txt f2.txt"
   ]
  },
  {
   "cell_type": "code",
   "execution_count": 162,
   "id": "e11f648b-520d-4613-86fb-7c544d84a0df",
   "metadata": {},
   "outputs": [
    {
     "name": "stdout",
     "output_type": "stream",
     "text": [
      "total 12K\n",
      "drwxr-xr-x 2 mubeen mubeen 4.0K Jun 10 21:18 data\n",
      "-rw-r--r-- 1 mubeen mubeen   13 Jun 11 02:27 f1.txt\n",
      "-rw-r--r-- 1 mubeen mubeen   13 Jun 11 02:29 f2.txt\n",
      "-rw-r--r-- 1 mubeen mubeen    0 Jun 10 21:13 file.txt\n"
     ]
    }
   ],
   "source": [
    "ls -lh"
   ]
  },
  {
   "cell_type": "code",
   "execution_count": 163,
   "id": "e29726ea-a900-4b9e-8881-f013b88fb926",
   "metadata": {},
   "outputs": [
    {
     "name": "stdout",
     "output_type": "stream",
     "text": [
      "hello\n",
      " world\n"
     ]
    }
   ],
   "source": [
    "cat f2.txt"
   ]
  },
  {
   "cell_type": "markdown",
   "id": "cf6574ed-6b9d-4faf-8237-ffc6cff36d45",
   "metadata": {},
   "source": [
    "<body style=\"font-family: Sans-serif;\">\n",
    "    <div style=\"color: black; font-size: 15px; font-style: oblique; text-shadow: 0 0 3px white, 0 0 1px black; padding: 20px;\">\n",
    "\n",
    "- #### 8 -f (force)\n",
    "- `cp -f source destination`\n",
    "####  bina pooche overwrite karega\n"
   ]
  },
  {
   "cell_type": "code",
   "execution_count": 165,
   "id": "4814f173-0dfe-400a-bdbd-83d66cb9fb01",
   "metadata": {},
   "outputs": [],
   "source": [
    "cp -f f1.txt f2.txt"
   ]
  },
  {
   "cell_type": "code",
   "execution_count": 166,
   "id": "cd30f777-b949-4583-bc5e-322063dd7ace",
   "metadata": {},
   "outputs": [
    {
     "name": "stdout",
     "output_type": "stream",
     "text": [
      "total 12K\n",
      "drwxr-xr-x 2 mubeen mubeen 4.0K Jun 10 21:18 data\n",
      "-rw-r--r-- 1 mubeen mubeen   13 Jun 11 02:27 f1.txt\n",
      "-rw-r--r-- 1 mubeen mubeen   13 Jun 11 02:31 f2.txt\n",
      "-rw-r--r-- 1 mubeen mubeen    0 Jun 10 21:13 file.txt\n"
     ]
    }
   ],
   "source": [
    "ls -lh"
   ]
  },
  {
   "cell_type": "markdown",
   "id": "b1d10b63-998c-4a92-8b8f-532d7e9a3471",
   "metadata": {},
   "source": [
    "<body style=\"font-family: Sans-serif;\">\n",
    "    <div style=\"color: black; font-size: 15px; font-style: oblique; text-shadow: 0 0 3px white, 0 0 1px black; padding: 20px;\">\n",
    "\n",
    "####  f2.txt ka time update ho gia it means update ho gai hn"
   ]
  },
  {
   "cell_type": "markdown",
   "id": "f78d7d69-7b95-4146-8900-bcafa0f447c8",
   "metadata": {},
   "source": [
    "<body style=\"font-family: Sans-serif;\">\n",
    "    <div style=\"color: black; font-size: 15px; font-style: oblique; text-shadow: 0 0 3px white, 0 0 1px black; padding: 20px;\">\n",
    "\n",
    "- #### 9 -n (no-clobber) \n",
    "- `cp -n source destination`\n",
    "####  agar destination file already hai to kuch nahi karega"
   ]
  },
  {
   "cell_type": "code",
   "execution_count": 174,
   "id": "26dcaac5-f0c0-4c59-8ced-6fa1801937e8",
   "metadata": {},
   "outputs": [
    {
     "name": "stdout",
     "output_type": "stream",
     "text": [
      "total 12K\n",
      "drwxr-xr-x 2 mubeen mubeen 4.0K Jun 10 21:18 data\n",
      "-rw-r--r-- 1 mubeen mubeen   13 Jun 11 02:27 f1.txt\n",
      "-rw-r--r-- 1 mubeen mubeen   13 Jun 11 02:32 f2.txt\n",
      "-rw-r--r-- 1 mubeen mubeen    0 Jun 10 21:13 file.txt\n"
     ]
    }
   ],
   "source": [
    "ls -lh"
   ]
  },
  {
   "cell_type": "code",
   "execution_count": 175,
   "id": "fe6b9101-61f7-4155-9214-17692adf4ece",
   "metadata": {},
   "outputs": [
    {
     "name": "stdout",
     "output_type": "stream",
     "text": [
      "total 0\n",
      "-rw-r--r-- 1 mubeen mubeen 0 Jun 10 21:18 file.txt\n"
     ]
    }
   ],
   "source": [
    "ls -lh data"
   ]
  },
  {
   "cell_type": "code",
   "execution_count": 176,
   "id": "85b59501-9075-4e7e-8e33-5ba718e2cf65",
   "metadata": {},
   "outputs": [],
   "source": [
    "cp -n file.txt data/file.txt"
   ]
  },
  {
   "cell_type": "code",
   "execution_count": 177,
   "id": "3951b5d8-f0ee-46e6-89a4-98bfb23f7445",
   "metadata": {},
   "outputs": [
    {
     "name": "stdout",
     "output_type": "stream",
     "text": [
      "total 0\n",
      "-rw-r--r-- 1 mubeen mubeen 0 Jun 10 21:18 file.txt\n"
     ]
    }
   ],
   "source": [
    "ls -lh data"
   ]
  },
  {
   "cell_type": "markdown",
   "id": "61336ce5-db2a-4829-bbb9-97c748201514",
   "metadata": {},
   "source": [
    "<body style=\"font-family: Sans-serif;\">\n",
    "    <div style=\"color: black; font-size: 15px; font-style: oblique; text-shadow: 0 0 3px white, 0 0 1px black; padding: 20px;\">\n",
    "        \n",
    "####  data/file.txt ka time update nahi huwa it means copy nahi hoi"
   ]
  },
  {
   "cell_type": "markdown",
   "id": "e93d7ec4-bd84-4b45-ada1-f97f8d53f77b",
   "metadata": {},
   "source": [
    "<body style=\"font-family: Sans-serif;\">\n",
    "    <div style=\"color: black; font-size: 15px; font-style: oblique; text-shadow: 0 0 3px white, 0 0 1px black; padding: 20px;\">\n",
    "\n",
    "- #### 9 --preserve=mode,ownership,timestamps\n",
    "- `cp --preserve=mode,ownership,timestamps source destination`\n",
    "####  jab folder mein copy ho to ye sari properties bilkul same rahen."
   ]
  },
  {
   "cell_type": "code",
   "execution_count": 185,
   "id": "5f3e5c80-7f18-4098-b79a-3dd738cb5ec3",
   "metadata": {},
   "outputs": [
    {
     "name": "stdout",
     "output_type": "stream",
     "text": [
      "total 16K\n",
      "drwxr-xr-x 2 mubeen mubeen 4.0K Jun 10 21:18 data\n",
      "-rw-r--r-- 1 mubeen mubeen   13 Jun 11 02:27 f1.txt\n",
      "-rw-r--r-- 1 mubeen mubeen   13 Jun 11 02:32 f2.txt\n",
      "-rw-r--r-- 1 mubeen mubeen    0 Jun 10 21:13 file.txt\n",
      "drwxr-xr-x 2 mubeen mubeen 4.0K Jun 11 02:49 report\n"
     ]
    }
   ],
   "source": [
    "%%bash\n",
    "cd tmp \n",
    "ls -lh"
   ]
  },
  {
   "attachments": {},
   "cell_type": "markdown",
   "id": "f069898b-340c-4931-84dc-9b06414a2536",
   "metadata": {},
   "source": [
    "<img src=\"./images/48.jpg\" style=\"display: block;margin-left: auto; margin-right: auto;width:80%\">\n"
   ]
  },
  {
   "cell_type": "markdown",
   "id": "fe174561-00fb-4fbc-b02a-8413ca5bfd9a",
   "metadata": {},
   "source": [
    "<body style=\"font-family: Sans-serif;\">\n",
    "    <div style=\"color: black; font-size: 15px; font-style: oblique; text-shadow: 0 0 3px white, 0 0 1px black; padding: 20px;\">\n",
    "\n",
    "#### Yaha user change kia hn is lye file copy nahi ho rahi\n",
    "#### Note yaha sudo ky sath Copy kr sakhty hn"
   ]
  },
  {
   "cell_type": "markdown",
   "id": "f9e980cd-0f8d-4903-bcfb-231a9fae50a4",
   "metadata": {},
   "source": [
    "<h1 style=\"text-align:center; color:#005bbd; font-size:20px; font-family:Sans-serif; font-style: oblique; text-shadow: 0 0 3px white, 0 0 1px Black;\">\n",
    "mv Commands</h1>"
   ]
  },
  {
   "cell_type": "markdown",
   "id": "2063b4ac-7d64-4822-9931-fce31435537f",
   "metadata": {},
   "source": [
    "<body style=\"font-family: Sans-serif;\">\n",
    "    <div style=\"color: black; font-size: 15px; font-style: oblique; text-shadow: 0 0 3px white, 0 0 1px black; padding: 20px;\">\n",
    "\n",
    "## mv\n",
    "\n",
    "    mv Command ka kaam data ko move ya rename karna. \n",
    "    Ye files ya folders ko ek jagah se doosri jagah le jaata hai, ya unka naam badal deta hai."
   ]
  },
  {
   "cell_type": "markdown",
   "id": "7e54e21a-27fb-4c2f-9590-8dedbad67d54",
   "metadata": {},
   "source": [
    "<body style=\"font-family: Sans-serif;\">\n",
    "    <div style=\"color: black; font-size: 15px; font-style: oblique; text-shadow: 0 0 3px white, 0 0 1px black; padding: 20px;\">\n",
    "\n",
    "- #### 1 mv (move data)\n",
    "- `mv source destination`\n"
   ]
  },
  {
   "cell_type": "code",
   "execution_count": 9,
   "id": "3716e0ce-b37e-4508-af45-8f640e580422",
   "metadata": {},
   "outputs": [
    {
     "name": "stdout",
     "output_type": "stream",
     "text": [
      "total 12K\n",
      "drwxr-xr-x 2 mubeen mubeen 4.0K Jun 12 00:36 data\n",
      "-rw-r--r-- 1 mubeen mubeen   13 Jun 11 02:27 f1.txt\n",
      "-rw-r--r-- 1 mubeen mubeen   13 Jun 11 02:32 f2.txt\n",
      "-rw-r--r-- 1 mubeen mubeen    0 Jun 10 21:13 file.txt\n"
     ]
    }
   ],
   "source": [
    "ls -lh"
   ]
  },
  {
   "cell_type": "code",
   "execution_count": 10,
   "id": "74a37ae3-fb81-4ca5-b4d9-b8ac34dc769e",
   "metadata": {},
   "outputs": [
    {
     "name": "stdout",
     "output_type": "stream",
     "text": [
      "total 0\n"
     ]
    }
   ],
   "source": [
    "ls -lh data"
   ]
  },
  {
   "cell_type": "code",
   "execution_count": 11,
   "id": "78a0895c-c006-47e7-8879-023c5cd3b36b",
   "metadata": {},
   "outputs": [],
   "source": [
    "mv f1.txt data"
   ]
  },
  {
   "cell_type": "code",
   "execution_count": 12,
   "id": "912e8a66-915e-4080-bde4-9fe66c8f27e7",
   "metadata": {},
   "outputs": [
    {
     "name": "stdout",
     "output_type": "stream",
     "text": [
      "total 8.0K\n",
      "drwxr-xr-x 2 mubeen mubeen 4.0K Jun 12 00:37 data\n",
      "-rw-r--r-- 1 mubeen mubeen   13 Jun 11 02:32 f2.txt\n",
      "-rw-r--r-- 1 mubeen mubeen    0 Jun 10 21:13 file.txt\n"
     ]
    }
   ],
   "source": [
    "ls -lh"
   ]
  },
  {
   "cell_type": "code",
   "execution_count": 13,
   "id": "235d2c44-aca4-49fb-bb54-a71dfe5152a3",
   "metadata": {},
   "outputs": [
    {
     "name": "stdout",
     "output_type": "stream",
     "text": [
      "total 4.0K\n",
      "-rw-r--r-- 1 mubeen mubeen 13 Jun 11 02:27 f1.txt\n"
     ]
    }
   ],
   "source": [
    "ls -lh data"
   ]
  },
  {
   "cell_type": "markdown",
   "id": "2f16cc8b-91ef-49ba-b199-a9a07d0887fd",
   "metadata": {},
   "source": [
    "<body style=\"font-family: Sans-serif;\">\n",
    "    <div style=\"color: black; font-size: 15px; font-style: oblique; text-shadow: 0 0 3px white, 0 0 1px black; padding: 20px;\">\n",
    "\n",
    "- #### 2 mv (rename)\n",
    "- `mv source destination`\n"
   ]
  },
  {
   "cell_type": "code",
   "execution_count": 14,
   "id": "b2f84f29-e202-4c27-b031-801395035a92",
   "metadata": {},
   "outputs": [
    {
     "name": "stdout",
     "output_type": "stream",
     "text": [
      "total 8.0K\n",
      "drwxr-xr-x 2 mubeen mubeen 4.0K Jun 12 00:37 data\n",
      "-rw-r--r-- 1 mubeen mubeen   13 Jun 11 02:32 f2.txt\n",
      "-rw-r--r-- 1 mubeen mubeen    0 Jun 10 21:13 file.txt\n"
     ]
    }
   ],
   "source": [
    "ls -lh"
   ]
  },
  {
   "cell_type": "code",
   "execution_count": 15,
   "id": "a4687973-cb9f-4916-afad-534a964006c8",
   "metadata": {},
   "outputs": [],
   "source": [
    "mv f2.txt newfile.txt"
   ]
  },
  {
   "cell_type": "code",
   "execution_count": 16,
   "id": "2fab89e0-1bb8-4f1f-afe7-8e60976f68b3",
   "metadata": {},
   "outputs": [
    {
     "name": "stdout",
     "output_type": "stream",
     "text": [
      "total 8.0K\n",
      "drwxr-xr-x 2 mubeen mubeen 4.0K Jun 12 00:37 data\n",
      "-rw-r--r-- 1 mubeen mubeen    0 Jun 10 21:13 file.txt\n",
      "-rw-r--r-- 1 mubeen mubeen   13 Jun 11 02:32 newfile.txt\n"
     ]
    }
   ],
   "source": [
    "ls -lh"
   ]
  },
  {
   "cell_type": "markdown",
   "id": "b7a1a8da-d0ad-4514-8ffa-4867c819cb71",
   "metadata": {},
   "source": [
    "<body style=\"font-family: Sans-serif;\">\n",
    "    <div style=\"color: black; font-size: 15px; font-style: oblique; text-shadow: 0 0 3px white, 0 0 1px black; padding: 20px;\">\n",
    "\n",
    "- #### 3 mv (Move Multiple data)\n",
    "- `mv file1 file2 ... source destination`\n"
   ]
  },
  {
   "cell_type": "code",
   "execution_count": 17,
   "id": "2f69929c-30b9-47c6-9e46-25541024c07a",
   "metadata": {},
   "outputs": [
    {
     "name": "stdout",
     "output_type": "stream",
     "text": [
      "total 8.0K\n",
      "drwxr-xr-x 2 mubeen mubeen 4.0K Jun 12 00:37 data\n",
      "-rw-r--r-- 1 mubeen mubeen    0 Jun 10 21:13 file.txt\n",
      "-rw-r--r-- 1 mubeen mubeen   13 Jun 11 02:32 newfile.txt\n"
     ]
    }
   ],
   "source": [
    "ls -lh"
   ]
  },
  {
   "cell_type": "code",
   "execution_count": 18,
   "id": "3babd543-cfc8-49ab-acbf-1b7a0311fc93",
   "metadata": {},
   "outputs": [],
   "source": [
    "mv file.txt newfile.txt data"
   ]
  },
  {
   "cell_type": "code",
   "execution_count": 19,
   "id": "f83a689d-5663-48ea-917f-08dcdd63bc64",
   "metadata": {},
   "outputs": [
    {
     "name": "stdout",
     "output_type": "stream",
     "text": [
      "total 4.0K\n",
      "drwxr-xr-x 2 mubeen mubeen 4.0K Jun 12 00:41 data\n"
     ]
    }
   ],
   "source": [
    "ls -lh"
   ]
  },
  {
   "cell_type": "code",
   "execution_count": 20,
   "id": "5f275a1b-0edd-4bbd-9a12-0fa1c4a64d5c",
   "metadata": {},
   "outputs": [
    {
     "name": "stdout",
     "output_type": "stream",
     "text": [
      "total 8.0K\n",
      "-rw-r--r-- 1 mubeen mubeen 13 Jun 11 02:27 f1.txt\n",
      "-rw-r--r-- 1 mubeen mubeen  0 Jun 10 21:13 file.txt\n",
      "-rw-r--r-- 1 mubeen mubeen 13 Jun 11 02:32 newfile.txt\n"
     ]
    }
   ],
   "source": [
    "ls -lh data"
   ]
  },
  {
   "cell_type": "markdown",
   "id": "6369793a-7929-4791-a20c-3c4431db8f9b",
   "metadata": {},
   "source": [
    "<body style=\"font-family: Sans-serif;\">\n",
    "    <div style=\"color: black; font-size: 15px; font-style: oblique; text-shadow: 0 0 3px white, 0 0 1px black; padding: 20px;\">\n",
    "\n",
    "- #### 4 mv (Move Directory)\n",
    "- `mv source destination`\n"
   ]
  },
  {
   "cell_type": "code",
   "execution_count": 21,
   "id": "2807cbd7-4537-4440-8b28-51fa0a69b7a8",
   "metadata": {},
   "outputs": [
    {
     "name": "stdout",
     "output_type": "stream",
     "text": [
      "total 4.0K\n",
      "drwxr-xr-x 2 mubeen mubeen 4.0K Jun 12 00:41 data\n"
     ]
    }
   ],
   "source": [
    "ls -lh "
   ]
  },
  {
   "cell_type": "code",
   "execution_count": 22,
   "id": "8b9fbaf9-0fc3-470e-961c-a1336491668c",
   "metadata": {},
   "outputs": [
    {
     "name": "stdout",
     "output_type": "stream",
     "text": [
      "total 8.0K\n",
      "drwxr-xr-x 2 mubeen mubeen 4.0K Jun 12 00:41 data\n",
      "drwxr-xr-x 2 mubeen mubeen 4.0K Jun 12 00:43 newdata\n"
     ]
    }
   ],
   "source": [
    "mkdir newdata\n",
    "ls -lh"
   ]
  },
  {
   "cell_type": "code",
   "execution_count": 23,
   "id": "6b7a5432-0fdb-4747-add2-4cac91632b55",
   "metadata": {},
   "outputs": [],
   "source": [
    "mv data newdata"
   ]
  },
  {
   "cell_type": "code",
   "execution_count": 24,
   "id": "670b8a22-ec48-4b43-8ff6-8ed73d63b8fb",
   "metadata": {},
   "outputs": [
    {
     "name": "stdout",
     "output_type": "stream",
     "text": [
      "total 4.0K\n",
      "drwxr-xr-x 3 mubeen mubeen 4.0K Jun 12 00:43 newdata\n"
     ]
    }
   ],
   "source": [
    "ls -lh "
   ]
  },
  {
   "cell_type": "code",
   "execution_count": 25,
   "id": "166d5fb9-44c5-4bdc-ba35-d5805cf2e9af",
   "metadata": {},
   "outputs": [
    {
     "name": "stdout",
     "output_type": "stream",
     "text": [
      "total 4.0K\n",
      "drwxr-xr-x 2 mubeen mubeen 4.0K Jun 12 00:41 data\n"
     ]
    }
   ],
   "source": [
    "ls -lh newdata"
   ]
  },
  {
   "cell_type": "markdown",
   "id": "95db0d1c-b973-4385-bfca-2ba811bb03b7",
   "metadata": {},
   "source": [
    "<body style=\"font-family: Sans-serif;\">\n",
    "    <div style=\"color: black; font-size: 15px; font-style: oblique; text-shadow: 0 0 3px white, 0 0 1px black; padding: 20px;\">\n",
    "\n",
    "- #### 5 -f\n",
    "- `mv -f source destination`\n",
    " #### Force move without prompt"
   ]
  },
  {
   "cell_type": "code",
   "execution_count": 32,
   "id": "fae7dfa3-cfdb-4ea1-a234-9f0b8f02884a",
   "metadata": {},
   "outputs": [
    {
     "name": "stdout",
     "output_type": "stream",
     "text": [
      "total 4.0K\n",
      "-rw-r--r-- 1 mubeen mubeen    0 Jun 12 00:48 files1.txt\n",
      "-rw-r--r-- 1 mubeen mubeen    0 Jun 12 00:48 files2.txt\n",
      "-rw-r--r-- 1 mubeen mubeen    0 Jun 12 00:48 files3.txt\n",
      "-rw-r--r-- 1 mubeen mubeen    0 Jun 12 00:48 files4.txt\n",
      "-rw-r--r-- 1 mubeen mubeen    0 Jun 12 00:48 files5.txt\n",
      "-rw-r--r-- 1 mubeen mubeen    0 Jun 12 00:48 files6.txt\n",
      "drwxr-xr-x 2 mubeen mubeen 4.0K Jun 12 00:48 newdata\n"
     ]
    }
   ],
   "source": [
    "ls -lh"
   ]
  },
  {
   "cell_type": "code",
   "execution_count": 33,
   "id": "cf48b77b-3659-4e01-b000-368b58332737",
   "metadata": {},
   "outputs": [
    {
     "name": "stdout",
     "output_type": "stream",
     "text": [
      "total 0\n"
     ]
    }
   ],
   "source": [
    "ls -lh newdata"
   ]
  },
  {
   "cell_type": "code",
   "execution_count": 35,
   "id": "1f1416f1-9a72-4400-9776-083cbc6ac44c",
   "metadata": {},
   "outputs": [],
   "source": [
    "mv -f files1.txt newdata"
   ]
  },
  {
   "cell_type": "code",
   "execution_count": 36,
   "id": "654cc737-9172-44f1-b87a-a7252dc0a16e",
   "metadata": {},
   "outputs": [
    {
     "name": "stdout",
     "output_type": "stream",
     "text": [
      "total 4.0K\n",
      "-rw-r--r-- 1 mubeen mubeen    0 Jun 12 00:48 files2.txt\n",
      "-rw-r--r-- 1 mubeen mubeen    0 Jun 12 00:48 files3.txt\n",
      "-rw-r--r-- 1 mubeen mubeen    0 Jun 12 00:48 files4.txt\n",
      "-rw-r--r-- 1 mubeen mubeen    0 Jun 12 00:48 files5.txt\n",
      "-rw-r--r-- 1 mubeen mubeen    0 Jun 12 00:48 files6.txt\n",
      "drwxr-xr-x 2 mubeen mubeen 4.0K Jun 12 00:49 newdata\n"
     ]
    }
   ],
   "source": [
    "ls -lh"
   ]
  },
  {
   "cell_type": "code",
   "execution_count": 37,
   "id": "1c7ab22c-b3a8-46b7-949b-134ce523c5da",
   "metadata": {},
   "outputs": [
    {
     "name": "stdout",
     "output_type": "stream",
     "text": [
      "total 0\n",
      "-rw-r--r-- 1 mubeen mubeen 0 Jun 12 00:48 files1.txt\n"
     ]
    }
   ],
   "source": [
    "ls -lh newdata"
   ]
  },
  {
   "cell_type": "markdown",
   "id": "c732bf46-9f76-446d-9272-e8069b5b0b86",
   "metadata": {},
   "source": [
    "<body style=\"font-family: Sans-serif;\">\n",
    "    <div style=\"color: black; font-size: 15px; font-style: oblique; text-shadow: 0 0 3px white, 0 0 1px black; padding: 20px;\">\n",
    "\n",
    "- #### 6 -v\n",
    "- `mv -v source destination`\n",
    "- #### move hone waly data ka naam show karega\n"
   ]
  },
  {
   "cell_type": "code",
   "execution_count": 38,
   "id": "ff895dd4-c916-48b4-843f-6391e606986a",
   "metadata": {},
   "outputs": [
    {
     "name": "stdout",
     "output_type": "stream",
     "text": [
      "total 4.0K\n",
      "-rw-r--r-- 1 mubeen mubeen    0 Jun 12 00:48 files2.txt\n",
      "-rw-r--r-- 1 mubeen mubeen    0 Jun 12 00:48 files3.txt\n",
      "-rw-r--r-- 1 mubeen mubeen    0 Jun 12 00:48 files4.txt\n",
      "-rw-r--r-- 1 mubeen mubeen    0 Jun 12 00:48 files5.txt\n",
      "-rw-r--r-- 1 mubeen mubeen    0 Jun 12 00:48 files6.txt\n",
      "drwxr-xr-x 2 mubeen mubeen 4.0K Jun 12 00:49 newdata\n"
     ]
    }
   ],
   "source": [
    "ls -lh"
   ]
  },
  {
   "cell_type": "code",
   "execution_count": 39,
   "id": "47008c6c-0074-47ed-bef6-2052698d4ae6",
   "metadata": {},
   "outputs": [
    {
     "name": "stdout",
     "output_type": "stream",
     "text": [
      "renamed 'files2.txt' -> 'newdata/files2.txt'\n"
     ]
    }
   ],
   "source": [
    "mv -v files2.txt newdata"
   ]
  },
  {
   "cell_type": "code",
   "execution_count": 40,
   "id": "4f1094c4-75c8-4868-b147-37866f2eca39",
   "metadata": {},
   "outputs": [
    {
     "name": "stdout",
     "output_type": "stream",
     "text": [
      "total 0\n",
      "-rw-r--r-- 1 mubeen mubeen 0 Jun 12 00:48 files1.txt\n",
      "-rw-r--r-- 1 mubeen mubeen 0 Jun 12 00:48 files2.txt\n"
     ]
    }
   ],
   "source": [
    "ls -lh newdata"
   ]
  },
  {
   "cell_type": "markdown",
   "id": "296ec7c6-e453-4a72-872c-771a707f9f69",
   "metadata": {},
   "source": [
    "<body style=\"font-family: Sans-serif;\">\n",
    "    <div style=\"color: black; font-size: 15px; font-style: oblique; text-shadow: 0 0 3px white, 0 0 1px black; padding: 20px;\">\n",
    "\n",
    "- #### 7 -n\n",
    "- `mv -n source destination`\n",
    "- ####  agar destination file already hai to kuch nahi karega\n"
   ]
  },
  {
   "cell_type": "code",
   "execution_count": 42,
   "id": "69eec865-08ed-48d7-9472-c9857698eb73",
   "metadata": {},
   "outputs": [
    {
     "name": "stdout",
     "output_type": "stream",
     "text": [
      "total 4.0K\n",
      "-rw-r--r-- 1 mubeen mubeen    0 Jun 12 00:48 files3.txt\n",
      "-rw-r--r-- 1 mubeen mubeen    0 Jun 12 00:48 files4.txt\n",
      "-rw-r--r-- 1 mubeen mubeen    0 Jun 12 00:48 files5.txt\n",
      "-rw-r--r-- 1 mubeen mubeen    0 Jun 12 00:48 files6.txt\n",
      "drwxr-xr-x 2 mubeen mubeen 4.0K Jun 12 00:52 newdata\n"
     ]
    }
   ],
   "source": [
    "ls -lh"
   ]
  },
  {
   "cell_type": "markdown",
   "id": "a1e8d588-5a92-4017-a5ae-543673b4f6d0",
   "metadata": {},
   "source": [
    "<body style=\"font-family: Sans-serif;\">\n",
    "    <div style=\"color: black; font-size: 15px; font-style: oblique; text-shadow: 0 0 3px white, 0 0 1px black; padding: 20px;\">\n",
    "copy file first"
   ]
  },
  {
   "cell_type": "code",
   "execution_count": 43,
   "id": "54d4ac6c-a692-4f4b-b25e-9df498c3c860",
   "metadata": {},
   "outputs": [
    {
     "name": "stdout",
     "output_type": "stream",
     "text": [
      "'files3.txt' -> 'newdata/files3.txt'\n"
     ]
    }
   ],
   "source": [
    "cp -v files3.txt newdata"
   ]
  },
  {
   "cell_type": "code",
   "execution_count": 44,
   "id": "c303abdd-7211-454c-a3c1-9d78c42d7e1d",
   "metadata": {},
   "outputs": [
    {
     "name": "stdout",
     "output_type": "stream",
     "text": [
      "total 0\n",
      "-rw-r--r-- 1 mubeen mubeen 0 Jun 12 00:48 files1.txt\n",
      "-rw-r--r-- 1 mubeen mubeen 0 Jun 12 00:48 files2.txt\n",
      "-rw-r--r-- 1 mubeen mubeen 0 Jun 12 00:54 files3.txt\n"
     ]
    }
   ],
   "source": [
    "ls -lh newdata"
   ]
  },
  {
   "cell_type": "code",
   "execution_count": 45,
   "id": "ccb76942-6f17-4e15-b2de-511dfe024567",
   "metadata": {},
   "outputs": [],
   "source": [
    "mv -n files3.txt newdata"
   ]
  },
  {
   "cell_type": "code",
   "execution_count": 46,
   "id": "4495586c-5c62-4735-ab25-e7f9eba33798",
   "metadata": {},
   "outputs": [
    {
     "name": "stdout",
     "output_type": "stream",
     "text": [
      "total 0\n",
      "-rw-r--r-- 1 mubeen mubeen 0 Jun 12 00:48 files1.txt\n",
      "-rw-r--r-- 1 mubeen mubeen 0 Jun 12 00:48 files2.txt\n",
      "-rw-r--r-- 1 mubeen mubeen 0 Jun 12 00:54 files3.txt\n"
     ]
    }
   ],
   "source": [
    "ls -lh newdata"
   ]
  },
  {
   "cell_type": "markdown",
   "id": "e16b99dd-c43e-4caf-a70b-3661b3578ee5",
   "metadata": {},
   "source": [
    "<body style=\"font-family: Sans-serif;\">\n",
    "    <div style=\"color: black; font-size: 15px; font-style: oblique; text-shadow: 0 0 3px white, 0 0 1px black; padding: 20px;\">\n",
    "\n",
    "- #### 8 -i\n",
    "- `mv -i source destination`\n",
    "- ####  Agar file already hai to ye confirm karega \"overwrite karun ya nahi?\""
   ]
  },
  {
   "attachments": {},
   "cell_type": "markdown",
   "id": "6bf89479-7a7b-460d-97a7-ba96ebd30498",
   "metadata": {},
   "source": [
    "<img src=\"./images/49.jpg\" style=\"display: block;margin-left: auto; margin-right: auto;width:80%\">\n"
   ]
  },
  {
   "cell_type": "markdown",
   "id": "8079ee83-d090-4f20-8657-a1668b4545ba",
   "metadata": {},
   "source": [
    "<body style=\"font-family: Sans-serif;\">\n",
    "    <div style=\"color: black; font-size: 15px; font-style: oblique; text-shadow: 0 0 3px white, 0 0 1px black; padding: 20px;\">\n",
    "\n",
    "- #### 9 -t\n",
    "- `mv -t destination source`\n",
    "- ####  destination path phaly dena hota hn"
   ]
  },
  {
   "cell_type": "code",
   "execution_count": 48,
   "id": "4213be89-c8d6-491c-b47c-4b14b2f84388",
   "metadata": {},
   "outputs": [
    {
     "name": "stdout",
     "output_type": "stream",
     "text": [
      "total 4.0K\n",
      "-rw-r--r-- 1 mubeen mubeen    0 Jun 12 00:48 files4.txt\n",
      "-rw-r--r-- 1 mubeen mubeen    0 Jun 12 00:48 files5.txt\n",
      "-rw-r--r-- 1 mubeen mubeen    0 Jun 12 00:48 files6.txt\n",
      "drwxr-xr-x 2 mubeen mubeen 4.0K Jun 12 00:57 newdata\n"
     ]
    }
   ],
   "source": [
    "ls -lh"
   ]
  },
  {
   "cell_type": "code",
   "execution_count": 50,
   "id": "d6281a5b-cde4-473d-b6ee-3a0cf1112511",
   "metadata": {},
   "outputs": [],
   "source": [
    "mv -t newdata files4.txt "
   ]
  },
  {
   "cell_type": "code",
   "execution_count": 51,
   "id": "d37a1caa-7d86-4386-9c4f-b272074a1a81",
   "metadata": {},
   "outputs": [
    {
     "name": "stdout",
     "output_type": "stream",
     "text": [
      "total 4.0K\n",
      "-rw-r--r-- 1 mubeen mubeen    0 Jun 12 00:48 files5.txt\n",
      "-rw-r--r-- 1 mubeen mubeen    0 Jun 12 00:48 files6.txt\n",
      "drwxr-xr-x 2 mubeen mubeen 4.0K Jun 12 01:04 newdata\n"
     ]
    }
   ],
   "source": [
    "ls -lh"
   ]
  },
  {
   "cell_type": "code",
   "execution_count": 52,
   "id": "b73a5b13-2254-4575-bd68-8a6925b7a9ba",
   "metadata": {},
   "outputs": [
    {
     "name": "stdout",
     "output_type": "stream",
     "text": [
      "total 0\n",
      "-rw-r--r-- 1 mubeen mubeen 0 Jun 12 00:48 files1.txt\n",
      "-rw-r--r-- 1 mubeen mubeen 0 Jun 12 00:48 files2.txt\n",
      "-rw-r--r-- 1 mubeen mubeen 0 Jun 12 00:48 files3.txt\n",
      "-rw-r--r-- 1 mubeen mubeen 0 Jun 12 00:48 files4.txt\n"
     ]
    }
   ],
   "source": [
    "ls -lh newdata"
   ]
  },
  {
   "cell_type": "markdown",
   "id": "5643f180-e3f2-4866-a3e7-5237ce9b5aca",
   "metadata": {},
   "source": [
    "<body style=\"font-family: Sans-serif;\">\n",
    "    <div style=\"color: black; font-size: 15px; font-style: oblique; text-shadow: 0 0 3px white, 0 0 1px black; padding: 20px;\">\n",
    "\n",
    "- #### 10 --backup\n",
    "- `mv --backup source destination`\n",
    "- ####  Agar destination file already exist karti hai, to --backup us file ka backup bana deta hai overwrite karne se pehle, taake data loss na ho."
   ]
  },
  {
   "cell_type": "code",
   "execution_count": 59,
   "id": "63661b07-208a-43cc-995b-c5b2f892372e",
   "metadata": {},
   "outputs": [
    {
     "name": "stdout",
     "output_type": "stream",
     "text": [
      "total 4.0K\n",
      "-rw-r--r-- 1 mubeen mubeen    0 Jun 12 00:48 files5.txt\n",
      "-rw-r--r-- 1 mubeen mubeen    0 Jun 12 00:48 files6.txt\n",
      "drwxr-xr-x 2 mubeen mubeen 4.0K Jun 12 01:04 newdata\n"
     ]
    }
   ],
   "source": [
    "ls -lh"
   ]
  },
  {
   "cell_type": "code",
   "execution_count": 60,
   "id": "6d0e9f0c-46de-4682-8cb5-a0c871a57831",
   "metadata": {},
   "outputs": [],
   "source": [
    "mv --backup files5.txt files6.txt"
   ]
  },
  {
   "cell_type": "code",
   "execution_count": 61,
   "id": "edea7130-8b4c-4d4f-82e9-065bf7d4382a",
   "metadata": {},
   "outputs": [
    {
     "name": "stdout",
     "output_type": "stream",
     "text": [
      "total 4.0K\n",
      "-rw-r--r-- 1 mubeen mubeen    0 Jun 12 00:48 files6.txt\n",
      "-rw-r--r-- 1 mubeen mubeen    0 Jun 12 00:48 files6.txt~\n",
      "drwxr-xr-x 2 mubeen mubeen 4.0K Jun 12 01:04 newdata\n"
     ]
    }
   ],
   "source": [
    "ls -lh"
   ]
  },
  {
   "cell_type": "markdown",
   "id": "28497a48-339b-4ae6-a8aa-43ab0c9edc3e",
   "metadata": {},
   "source": [
    "<body style=\"font-family: Sans-serif;\">\n",
    "    <div style=\"color: black; font-size: 15px; font-style: oblique; text-shadow: 0 0 3px white, 0 0 1px black; padding: 20px;\"\n",
    "\n",
    "files6.txt ko overwrite karke new files6.txt~ ban jaayega."
   ]
  },
  {
   "cell_type": "markdown",
   "id": "9bc8a536-80c4-40c7-9ee9-c5ce628764db",
   "metadata": {},
   "source": [
    "<body style=\"font-family: Sans-serif;\">\n",
    "    <div style=\"color: black; font-size: 15px; font-style: oblique; text-shadow: 0 0 3px white, 0 0 1px black; padding: 20px;\"\n",
    "\n",
    "`--backup` Options\n",
    "\n",
    "| Option     | Explanation                                                     |\n",
    "| ---------- | --------------------------------------------------------------- |\n",
    "| `none`     | Default — koi backup nahi banega                                |\n",
    "| `numbered` | Backup file numbered format mein banega (e.g., `file.~1~`)      |\n",
    "| `existing` | Agar koi numbered backup pehle se hai to wahi format use karega |\n",
    "| `simple`   | Backup file `~` ke saath banegi (default) e.g., `file.txt~`     |\n"
   ]
  },
  {
   "cell_type": "code",
   "execution_count": 65,
   "id": "89220517-e3bc-408f-9f9f-7acf4bc67b7e",
   "metadata": {},
   "outputs": [
    {
     "name": "stdout",
     "output_type": "stream",
     "text": [
      "total 4.0K\n",
      "-rw-r--r-- 1 mubeen mubeen    0 Jun 12 01:37 files4.txt\n",
      "-rw-r--r-- 1 mubeen mubeen    0 Jun 12 01:37 files5.txt\n",
      "-rw-r--r-- 1 mubeen mubeen    0 Jun 12 00:48 files6.txt\n",
      "-rw-r--r-- 1 mubeen mubeen    0 Jun 12 00:48 files6.txt~\n",
      "drwxr-xr-x 2 mubeen mubeen 4.0K Jun 12 01:04 newdata\n"
     ]
    }
   ],
   "source": [
    "ls -lh"
   ]
  },
  {
   "cell_type": "markdown",
   "id": "39202ad7-b4a0-43e7-8693-fde2ceb848ed",
   "metadata": {},
   "source": [
    "<body style=\"font-family: Sans-serif;\">\n",
    "    <div style=\"color: black; font-size: 15px; font-style: oblique; text-shadow: 0 0 3px white, 0 0 1px black; padding: 20px;\"\n",
    "\n",
    "`numbered`"
   ]
  },
  {
   "cell_type": "code",
   "execution_count": 66,
   "id": "ad409d3b-2ed5-4bc1-9370-e61a425c9da4",
   "metadata": {},
   "outputs": [],
   "source": [
    "mv --backup=numbered files4.txt files6.txt"
   ]
  },
  {
   "cell_type": "code",
   "execution_count": 67,
   "id": "c5f23e2f-f8ea-46c5-a539-241f2b55a7e2",
   "metadata": {},
   "outputs": [
    {
     "name": "stdout",
     "output_type": "stream",
     "text": [
      "total 4.0K\n",
      "-rw-r--r-- 1 mubeen mubeen    0 Jun 12 01:37 files5.txt\n",
      "-rw-r--r-- 1 mubeen mubeen    0 Jun 12 01:37 files6.txt\n",
      "-rw-r--r-- 1 mubeen mubeen    0 Jun 12 00:48 files6.txt.~1~\n",
      "-rw-r--r-- 1 mubeen mubeen    0 Jun 12 00:48 files6.txt~\n",
      "drwxr-xr-x 2 mubeen mubeen 4.0K Jun 12 01:04 newdata\n"
     ]
    }
   ],
   "source": [
    "ls -lh"
   ]
  },
  {
   "cell_type": "markdown",
   "id": "6966bdb8-116d-4131-935f-567a1f1d9f3e",
   "metadata": {},
   "source": [
    "<body style=\"font-family: Sans-serif;\">\n",
    "    <div style=\"color: black; font-size: 15px; font-style: oblique; text-shadow: 0 0 3px white, 0 0 1px black; padding: 20px;\"\n",
    "\n",
    "`existing`"
   ]
  },
  {
   "cell_type": "code",
   "execution_count": 73,
   "id": "b8e6f82e-acda-4107-a3a6-8e615d26d803",
   "metadata": {},
   "outputs": [
    {
     "name": "stdout",
     "output_type": "stream",
     "text": [
      "total 4.0K\n",
      "-rw-r--r-- 1 mubeen mubeen    0 Jun 12 01:40 files5.txt\n",
      "-rw-r--r-- 1 mubeen mubeen    0 Jun 12 01:37 files6.txt\n",
      "-rw-r--r-- 1 mubeen mubeen    0 Jun 12 00:48 files6.txt.~1~\n",
      "-rw-r--r-- 1 mubeen mubeen    0 Jun 12 01:37 files6.txt.~2~\n",
      "-rw-r--r-- 1 mubeen mubeen    0 Jun 12 00:48 files6.txt~\n",
      "drwxr-xr-x 2 mubeen mubeen 4.0K Jun 12 01:04 newdata\n"
     ]
    }
   ],
   "source": [
    "ls -lh"
   ]
  },
  {
   "cell_type": "code",
   "execution_count": 74,
   "id": "dac272f3-e289-4325-8d69-9efe97c511ba",
   "metadata": {},
   "outputs": [],
   "source": [
    "mv --backup=existing files5.txt files6.txt"
   ]
  },
  {
   "cell_type": "code",
   "execution_count": 75,
   "id": "f5995eaf-5150-4287-8043-b5f177644a5e",
   "metadata": {},
   "outputs": [
    {
     "name": "stdout",
     "output_type": "stream",
     "text": [
      "total 4.0K\n",
      "-rw-r--r-- 1 mubeen mubeen    0 Jun 12 01:40 files6.txt\n",
      "-rw-r--r-- 1 mubeen mubeen    0 Jun 12 00:48 files6.txt.~1~\n",
      "-rw-r--r-- 1 mubeen mubeen    0 Jun 12 01:37 files6.txt.~2~\n",
      "-rw-r--r-- 1 mubeen mubeen    0 Jun 12 01:37 files6.txt.~3~\n",
      "-rw-r--r-- 1 mubeen mubeen    0 Jun 12 00:48 files6.txt~\n",
      "drwxr-xr-x 2 mubeen mubeen 4.0K Jun 12 01:04 newdata\n"
     ]
    }
   ],
   "source": [
    "ls -lh"
   ]
  },
  {
   "cell_type": "markdown",
   "id": "70355add-b41b-4bab-b31f-6f14b1aadce1",
   "metadata": {},
   "source": [
    "<h1 style=\"text-align:center; color:#005bbd; font-size:20px; font-family:Sans-serif; font-style: oblique; text-shadow: 0 0 3px white, 0 0 1px Black;\">\n",
    "cp Command Mindmap</h1>"
   ]
  },
  {
   "attachments": {},
   "cell_type": "markdown",
   "id": "2e4fd185-47f5-4bf4-8305-714c83a0a9fd",
   "metadata": {},
   "source": [
    "<img src=\"./images/50.jpg\" style=\"display: block;margin-left: auto; margin-right: auto;width:80%\">\n"
   ]
  },
  {
   "cell_type": "markdown",
   "id": "64829b35-31e1-4088-8e26-7911eb18134d",
   "metadata": {},
   "source": [
    "<h1 style=\"text-align:center; color:#005bbd; font-size:20px; font-family:Sans-serif; font-style: oblique; text-shadow: 0 0 3px white, 0 0 1px Black;\">\n",
    "mv Command Mindmap</h1>"
   ]
  },
  {
   "attachments": {},
   "cell_type": "markdown",
   "id": "913cb808-98a6-44a1-bc26-e95d0c800be2",
   "metadata": {},
   "source": [
    "<img src=\"./images/51.jpg\" style=\"display: block;margin-left: auto; margin-right: auto;width:80%\">\n"
   ]
  }
 ],
 "metadata": {
  "kernelspec": {
   "display_name": "Python 3 (ipykernel)",
   "language": "python",
   "name": "python3"
  },
  "language_info": {
   "codemirror_mode": {
    "name": "ipython",
    "version": 3
   },
   "file_extension": ".py",
   "mimetype": "text/x-python",
   "name": "python",
   "nbconvert_exporter": "python",
   "pygments_lexer": "ipython3",
   "version": "3.13.4"
  }
 },
 "nbformat": 4,
 "nbformat_minor": 5
}
