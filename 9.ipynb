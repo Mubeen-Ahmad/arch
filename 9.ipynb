{
 "cells": [
  {
   "cell_type": "markdown",
   "id": "14619b7e-fef2-4dcd-868e-053cd6820515",
   "metadata": {},
   "source": [
    "<h1 style=\"text-align:center; color:#005bbd; font-size:20px; font-family:Sans-serif; font-style: oblique; text-shadow: 0 0 3px white, 0 0 1px Black;\">\n",
    "Permissions </h1>"
   ]
  },
  {
   "cell_type": "markdown",
   "id": "567a1bfb-76a0-4e97-baf5-395852d8358a",
   "metadata": {},
   "source": [
    "<body style=\"font-family: Sans-serif;\">\n",
    "    <div style=\"color: black; font-size: 15px; font-style: oblique; text-shadow: 0 0 3px white, 0 0 1px black; padding: 20px;\">\n",
    "\n",
    "Linux mein har file aur directory ke sath 3 types ke permissions hotay hain:\n",
    "\n",
    "| **Permission** | **Symbol** | **Meaning**                                     |\n",
    "| -------------- | ---------- | ----------------------------------------------- |\n",
    "| Read           | `r`        | File ko read kar sakta hai                      |\n",
    "| Write          | `w`        | File ko modify kar sakta hai                    |\n",
    "| Execute        | `x`        | File ko run kar sakta hai (ya directory access) |\n"
   ]
  },
  {
   "cell_type": "code",
   "execution_count": 5,
   "id": "c57e8af3-8581-4e80-8f4c-3ebea96ed33b",
   "metadata": {},
   "outputs": [
    {
     "name": "stdout",
     "output_type": "stream",
     "text": [
      "total 0\n",
      "-rw-r--r-- 1 mubeen mubeen 0 Jun 24 22:34 data.txt\n"
     ]
    }
   ],
   "source": [
    "ls -l"
   ]
  },
  {
   "cell_type": "markdown",
   "id": "55de0f0f-725d-46e8-aabc-cbed12c6a06d",
   "metadata": {},
   "source": [
    "<body style=\"font-family: Sans-serif;\">\n",
    "    <div style=\"color: black; font-size: 15px; font-style: oblique; text-shadow: 0 0 3px white, 0 0 1px black; padding: 20px;\">\n",
    "\n",
    "`-rw-r--r--`\n",
    "\n",
    "| Part  | Symbol     | Meaning                          |\n",
    "| ----- | ---------- | -------------------------------- |\n",
    "| `-`   | File type  | `-` = file, `d` = directory      |\n",
    "| `rw-` | **User**   | File ka Owner (read + write)     |\n",
    "| `r--` | **Group**  | Group members (read only)        |\n",
    "| `r--` | **Others** | Others users (read only) |\n",
    "\n",
    "\n",
    "Linux mein permissions is tarah divide hoti hain:\n",
    "\n",
    "```bash\n",
    "- rwx rwx rwx\n",
    "|  |   |   |\n",
    "|  |   |   └── Others ke liye (o)\n",
    "|  |   └────── Group ke liye (g)\n",
    "|  └────────── User/Owner ke liye (u)\n",
    "└───────────── Type (file/directory etc)\n",
    "```\n"
   ]
  },
  {
   "cell_type": "markdown",
   "id": "faebc90a-9d09-49bb-b74a-1ca9f300894a",
   "metadata": {},
   "source": [
    "<h1 style=\"text-align:center; color:#005bbd; font-size:20px; font-family:Sans-serif; font-style: oblique; text-shadow: 0 0 3px white, 0 0 1px Black;\">\n",
    "Chmod Commad</h1>"
   ]
  },
  {
   "cell_type": "markdown",
   "id": "29ceb196-c120-4983-948f-25c574712590",
   "metadata": {},
   "source": [
    "<body style=\"font-family: Sans-serif;\">\n",
    "    <div style=\"color: black; font-size: 15px; font-style: oblique; text-shadow: 0 0 3px white, 0 0 1px black; padding: 20px;\">\n",
    "\n",
    "chmod ka matlab hota hai Change Mode\n",
    "- Ye command file ya directory ki permissions ko change karti hai\n",
    "- yani read, write, execute rights assign ya remove karti hai user, group, others ke liye.\n",
    "\n",
    "#### Syntax : chmod [options] permissions file_or_directory"
   ]
  },
  {
   "cell_type": "markdown",
   "id": "1f73cdcf-4b9f-43d0-876d-60dc0a982f2b",
   "metadata": {},
   "source": [
    "<body style=\"font-family: Sans-serif;\">\n",
    "    <div style=\"color: black; font-size: 15px; font-style: oblique; text-shadow: 0 0 3px white, 0 0 1px black; padding: 20px;\">\n",
    "\n",
    "#### Permissions set karne ke 2 Tarike hotay hain :\n",
    "\n",
    "1. Symbolic Notation (letters se)\n",
    "2. Numeric Notation (numbers se)\n"
   ]
  },
  {
   "cell_type": "markdown",
   "id": "5cb25b04-c1c8-4e86-a913-27298ffce462",
   "metadata": {},
   "source": [
    "<body style=\"font-family: Sans-serif;\">\n",
    "    <div style=\"color: black; font-size: 15px; font-style: oblique; text-shadow: 0 0 3px white, 0 0 1px black; padding: 20px;\">\n",
    "\n",
    "### 1 Symbolic Notation \n",
    "\n",
    "| Symbol | Meaning           |\n",
    "| ------ | ----------------- |\n",
    "| `u`    | User (Owner)      |\n",
    "| `g`    | Group             |\n",
    "| `o`    | Others            |\n",
    "| `a`    | All (u + g + o)   |\n",
    "| `+`    | Add permission    |\n",
    "| `-`    | Remove permission |\n",
    "| `=`    | Exact overwrite   |\n"
   ]
  },
  {
   "cell_type": "markdown",
   "id": "9ae38256-b9dd-48a1-8a64-00e3284c4fc0",
   "metadata": {},
   "source": [
    "<body style=\"font-family: Sans-serif;\">\n",
    "    <div style=\"color: black; font-size: 15px; font-style: oblique; text-shadow: 0 0 3px white, 0 0 1px black; padding: 20px;\">\n",
    "\n",
    "Remove Permission (-)"
   ]
  },
  {
   "cell_type": "code",
   "execution_count": 6,
   "id": "74d338dc-b787-4357-8a90-4cd3ba467900",
   "metadata": {},
   "outputs": [
    {
     "name": "stdout",
     "output_type": "stream",
     "text": [
      "total 0\n",
      "-rw-r--r-- 1 mubeen mubeen 0 Jun 24 22:34 data.txt\n"
     ]
    }
   ],
   "source": [
    "ls -l"
   ]
  },
  {
   "cell_type": "markdown",
   "id": "5bf9e7c7-a319-4350-826a-0b5d58b9f423",
   "metadata": {},
   "source": [
    "<body style=\"font-family: Sans-serif;\">\n",
    "    <div style=\"color: black; font-size: 15px; font-style: oblique; text-shadow: 0 0 3px white, 0 0 1px black; padding: 20px;\">\n",
    "\n",
    "```bash\n",
    "- rwx rwx rwx\n",
    "|  |   |   |\n",
    "|  |   |   └── Others ke liye (o)\n",
    "|  |   └────── Group ke liye (g)\n",
    "|  └────────── User/Owner ke liye (u)\n",
    "└───────────── Type (file/directory etc)\n",
    "```\n",
    "\n",
    "- E.g remove read permission for Others"
   ]
  },
  {
   "cell_type": "code",
   "execution_count": 8,
   "id": "e1da49a7-112f-44b6-9bfc-dedfa62def8e",
   "metadata": {},
   "outputs": [],
   "source": [
    "chmod o-r data.txt "
   ]
  },
  {
   "cell_type": "code",
   "execution_count": 9,
   "id": "a2e2c7f5-beaf-4f7b-b50f-8296ebf1a4b6",
   "metadata": {},
   "outputs": [
    {
     "name": "stdout",
     "output_type": "stream",
     "text": [
      "total 0\n",
      "-rw-r----- 1 mubeen mubeen 0 Jun 24 22:34 data.txt\n"
     ]
    }
   ],
   "source": [
    "ls -l"
   ]
  },
  {
   "cell_type": "markdown",
   "id": "6e19ef9c-44b2-42e0-bcc4-fb7b08feabef",
   "metadata": {},
   "source": [
    "<body style=\"font-family: Sans-serif;\">\n",
    "    <div style=\"color: black; font-size: 15px; font-style: oblique; text-shadow: 0 0 3px white, 0 0 1px black; padding: 20px;\">\n",
    "        \n",
    "- remove read permission for Group"
   ]
  },
  {
   "cell_type": "code",
   "execution_count": 11,
   "id": "fdfc180c-580f-4bf9-9a2b-c1a20188ecfa",
   "metadata": {},
   "outputs": [
    {
     "name": "stdout",
     "output_type": "stream",
     "text": [
      "total 0\n",
      "-rw------- 1 mubeen mubeen 0 Jun 24 22:34 data.txt\n"
     ]
    }
   ],
   "source": [
    "chmod g-r data.txt\n",
    "ls -l"
   ]
  },
  {
   "cell_type": "markdown",
   "id": "bf9a00cb-1c7d-45da-b9e3-0322e03517ed",
   "metadata": {},
   "source": [
    "<body style=\"font-family: Sans-serif;\">\n",
    "    <div style=\"color: black; font-size: 15px; font-style: oblique; text-shadow: 0 0 3px white, 0 0 1px black; padding: 20px;\">\n",
    "        \n",
    "- remove read permission for user"
   ]
  },
  {
   "cell_type": "code",
   "execution_count": 16,
   "id": "8d75aff2-cab4-4bf5-a0b4-1865c4061adc",
   "metadata": {},
   "outputs": [
    {
     "name": "stdout",
     "output_type": "stream",
     "text": [
      "total 0\n",
      "--w------- 1 mubeen mubeen 0 Jun 24 22:34 data.txt\n"
     ]
    }
   ],
   "source": [
    "chmod u-r data.txt\n",
    "ls -l"
   ]
  },
  {
   "cell_type": "markdown",
   "id": "6d04c23e-3413-470a-b7d3-8935bce84780",
   "metadata": {},
   "source": [
    "<body style=\"font-family: Sans-serif;\">\n",
    "    <div style=\"color: black; font-size: 15px; font-style: oblique; text-shadow: 0 0 3px white, 0 0 1px black; padding: 20px;\">\n",
    "        \n",
    "- remove write permission for user"
   ]
  },
  {
   "cell_type": "code",
   "execution_count": 18,
   "id": "ada5c878-adbd-4bf1-8880-362b01e72e7f",
   "metadata": {},
   "outputs": [
    {
     "name": "stdout",
     "output_type": "stream",
     "text": [
      "total 0\n",
      "---------- 1 mubeen mubeen 0 Jun 24 22:34 data.txt\n"
     ]
    }
   ],
   "source": [
    "chmod u-w data.txt\n",
    "ls -l"
   ]
  },
  {
   "cell_type": "markdown",
   "id": "a8851ca4-c3d6-4fa6-827f-e68c93f111cd",
   "metadata": {},
   "source": [
    "<body style=\"font-family: Sans-serif;\">\n",
    "    <div style=\"color: black; font-size: 15px; font-style: oblique; text-shadow: 0 0 3px white, 0 0 1px black; padding: 20px;\">\n",
    "\n",
    "Yaha All permissions hata di gayi hain to ab write karty hn"
   ]
  },
  {
   "cell_type": "code",
   "execution_count": 20,
   "id": "5b70be60-b68e-4843-b1da-c6ead51b50a4",
   "metadata": {},
   "outputs": [
    {
     "name": "stderr",
     "output_type": "stream",
     "text": [
      "bash: line 2: data.txt: Permission denied\n"
     ]
    },
    {
     "name": "stdout",
     "output_type": "stream",
     "text": [
      "\n"
     ]
    }
   ],
   "source": [
    "cat <<< \"hello\" > data.txt"
   ]
  },
  {
   "cell_type": "markdown",
   "id": "cd300fed-edc8-4b33-8b61-f9061b0c37d5",
   "metadata": {},
   "source": [
    "<body style=\"font-family: Sans-serif;\">\n",
    "    <div style=\"color: black; font-size: 15px; font-style: oblique; text-shadow: 0 0 3px white, 0 0 1px black; padding: 20px;\">\n",
    "\n",
    "Write Permission (+)"
   ]
  },
  {
   "cell_type": "markdown",
   "id": "0214368d-23d2-44b1-8dac-6fd8af8f650d",
   "metadata": {},
   "source": [
    "<body style=\"font-family: Sans-serif;\">\n",
    "    <div style=\"color: black; font-size: 15px; font-style: oblique; text-shadow: 0 0 3px white, 0 0 1px black; padding: 20px;\">\n",
    "        \n",
    "- write permission for user"
   ]
  },
  {
   "cell_type": "code",
   "execution_count": 22,
   "id": "a80f1bf5-c363-4270-b141-0784ff51eade",
   "metadata": {},
   "outputs": [
    {
     "name": "stdout",
     "output_type": "stream",
     "text": [
      "total 0\n",
      "---------- 1 mubeen mubeen 0 Jun 24 22:34 data.txt\n"
     ]
    }
   ],
   "source": [
    "ls -l"
   ]
  },
  {
   "cell_type": "code",
   "execution_count": 23,
   "id": "cec35360-bc05-466d-8109-e0f72f0566bd",
   "metadata": {},
   "outputs": [
    {
     "name": "stdout",
     "output_type": "stream",
     "text": [
      "total 0\n",
      "--w------- 1 mubeen mubeen 0 Jun 24 22:34 data.txt\n"
     ]
    }
   ],
   "source": [
    "chmod  u+w data.txt\n",
    "ls -l"
   ]
  },
  {
   "cell_type": "markdown",
   "id": "6f3cd5bd-34cd-4775-8b2b-37ef1343992b",
   "metadata": {},
   "source": [
    "<body style=\"font-family: Sans-serif;\">\n",
    "    <div style=\"color: black; font-size: 15px; font-style: oblique; text-shadow: 0 0 3px white, 0 0 1px black; padding: 20px;\">\n",
    "\n",
    "Now try to write the file"
   ]
  },
  {
   "cell_type": "code",
   "execution_count": 24,
   "id": "b00e3519-9265-4459-b96d-ccb37acb535e",
   "metadata": {},
   "outputs": [],
   "source": [
    "cat <<< \"hello\" > data.txt"
   ]
  },
  {
   "cell_type": "markdown",
   "id": "a7360ea6-48cf-4ab2-9e8f-d265acf8e95c",
   "metadata": {},
   "source": [
    "<body style=\"font-family: Sans-serif;\">\n",
    "    <div style=\"color: black; font-size: 15px; font-style: oblique; text-shadow: 0 0 3px white, 0 0 1px black; padding: 20px;\">\n",
    "\n",
    "File write ho gai hn lakin read nahi kr sakhty"
   ]
  },
  {
   "cell_type": "code",
   "execution_count": 26,
   "id": "952033b0-e073-4009-94c1-6a181f151456",
   "metadata": {},
   "outputs": [
    {
     "name": "stderr",
     "output_type": "stream",
     "text": [
      "cat: data.txt: Permission denied\n"
     ]
    },
    {
     "name": "stdout",
     "output_type": "stream",
     "text": [
      "\n"
     ]
    }
   ],
   "source": [
    "cat data.txt"
   ]
  },
  {
   "cell_type": "markdown",
   "id": "73ef1a6a-701d-4c67-9344-e61a7cac2390",
   "metadata": {},
   "source": [
    "<body style=\"font-family: Sans-serif;\">\n",
    "    <div style=\"color: black; font-size: 15px; font-style: oblique; text-shadow: 0 0 3px white, 0 0 1px black; padding: 20px;\">\n",
    "\n",
    "Read Permission (+)"
   ]
  },
  {
   "cell_type": "markdown",
   "id": "2e54cdd7-e45d-48b5-863d-611bd01a404f",
   "metadata": {},
   "source": [
    "<body style=\"font-family: Sans-serif;\">\n",
    "    <div style=\"color: black; font-size: 15px; font-style: oblique; text-shadow: 0 0 3px white, 0 0 1px black; padding: 20px;\">\n",
    "        \n",
    "- Read permission for user"
   ]
  },
  {
   "cell_type": "code",
   "execution_count": 28,
   "id": "96a77e04-44b6-46b2-bb13-20c4eabd8055",
   "metadata": {},
   "outputs": [
    {
     "name": "stdout",
     "output_type": "stream",
     "text": [
      "total 4\n",
      "-rw------- 1 mubeen mubeen 6 Jun 24 23:03 data.txt\n"
     ]
    }
   ],
   "source": [
    "chmod u+r data.txt\n",
    "ls -l"
   ]
  },
  {
   "cell_type": "code",
   "execution_count": 29,
   "id": "2c560c2e-b1c7-45ee-8432-b22fb0f3c05a",
   "metadata": {},
   "outputs": [
    {
     "name": "stdout",
     "output_type": "stream",
     "text": [
      "hello\n"
     ]
    }
   ],
   "source": [
    "cat data.txt"
   ]
  },
  {
   "cell_type": "markdown",
   "id": "654807fa-66ab-4013-a9f3-a658fc2d4935",
   "metadata": {},
   "source": [
    "<body style=\"font-family: Sans-serif;\">\n",
    "    <div style=\"color: black; font-size: 15px; font-style: oblique; text-shadow: 0 0 3px white, 0 0 1px black; padding: 20px;\">\n",
    "\n",
    "Set Multiple Permissions"
   ]
  },
  {
   "cell_type": "code",
   "execution_count": 44,
   "id": "783bc43f-693b-42dc-b663-2ba4b74e69e7",
   "metadata": {},
   "outputs": [
    {
     "name": "stdout",
     "output_type": "stream",
     "text": [
      "total 4.0K\n",
      "-rwx------ 1 mubeen mubeen 6 Jun 24 23:03 data.txt\n"
     ]
    }
   ],
   "source": [
    "chmod u+rwx data.txt\n",
    "ls -lh"
   ]
  },
  {
   "cell_type": "markdown",
   "id": "23e72e6a-23c3-4f52-beaa-30c56661a92d",
   "metadata": {},
   "source": [
    "<body style=\"font-family: Sans-serif;\">\n",
    "    <div style=\"color: black; font-size: 15px; font-style: oblique; text-shadow: 0 0 3px white, 0 0 1px black; padding: 20px;\">\n",
    "Iska Matlab User ko read write aur Execute ki Permission + (Add ki hn)"
   ]
  },
  {
   "cell_type": "markdown",
   "id": "b3e244ff-a3f8-4c31-b586-9c8350465537",
   "metadata": {},
   "source": [
    "<body style=\"font-family: Sans-serif;\">\n",
    "    <div style=\"color: black; font-size: 15px; font-style: oblique; text-shadow: 0 0 3px white, 0 0 1px black; padding: 20px;\">\n",
    "\n",
    "- a\n",
    "-  \ta means All (user,group,others) sab k lye Permission Manage karna"
   ]
  },
  {
   "cell_type": "code",
   "execution_count": 45,
   "id": "e46b0462-b5be-4806-871a-56470da165e9",
   "metadata": {},
   "outputs": [
    {
     "name": "stdout",
     "output_type": "stream",
     "text": [
      "total 4.0K\n",
      "-rwxrwxrwx 1 mubeen mubeen 6 Jun 24 23:03 data.txt\n"
     ]
    }
   ],
   "source": [
    "chmod a+rwx data.txt\n",
    "ls -lh"
   ]
  },
  {
   "cell_type": "markdown",
   "id": "f4939ef7-4cfc-4083-9ac1-89da733b0643",
   "metadata": {},
   "source": [
    "<body style=\"font-family: Sans-serif;\">\n",
    "    <div style=\"color: black; font-size: 15px; font-style: oblique; text-shadow: 0 0 3px white, 0 0 1px black; padding: 20px;\">\n",
    "\n",
    "- Exact overwrite =\n",
    "- Exact Overwrite → Pehli sari permissions hat jaati hain, aur sirf wahi lagti hain jo tum chmod me specify karte ho."
   ]
  },
  {
   "cell_type": "code",
   "execution_count": 46,
   "id": "b1c4fb2e-e64b-4a03-93fe-584bde31beb5",
   "metadata": {},
   "outputs": [
    {
     "name": "stdout",
     "output_type": "stream",
     "text": [
      "total 4.0K\n",
      "----rwxrwx 1 mubeen mubeen 6 Jun 24 23:03 data.txt\n"
     ]
    }
   ],
   "source": [
    "chmod u=-r data.txt\n",
    "ls -lh"
   ]
  },
  {
   "cell_type": "markdown",
   "id": "51239b63-015d-4b8a-b811-15110a3b7fec",
   "metadata": {},
   "source": [
    "<body style=\"font-family: Sans-serif;\">\n",
    "    <div style=\"color: black; font-size: 15px; font-style: oblique; text-shadow: 0 0 3px white, 0 0 1px black; padding: 20px;\">\n",
    "\n",
    "- **Yahan pehle user ke liye `rwx` (teeno) permissions thi.**\n",
    "- **Lekin `=` ka use karne se user ke liye sirf ek permission bachi — aur wo hai: read permission ko hata dena.**\n",
    "- Ab thoda gaur karo\n",
    "- **`=` ka kaam yeh hai ke jitni bhi current permissions hain, wo sab hata kar sirf nayi wali set karta hai.**\n",
    "- **To humne user ke liye yeh set kiya ke \"read remove ho\"**\n",
    "- Matlab read to remove ho gayi, **lekin baaki write aur execute bhi hata diye gaye**,\n",
    "- **kyunki `=` overwrite karta hai — sirf wahi permission rakhta hai jo baad mein specify ki gayi ho.**\n"
   ]
  },
  {
   "cell_type": "code",
   "execution_count": 51,
   "id": "c38b9d73-44a9-4796-ad64-4262e279b3b3",
   "metadata": {},
   "outputs": [
    {
     "name": "stdout",
     "output_type": "stream",
     "text": [
      "total 4.0K\n",
      "-r--rwxrwx 1 mubeen mubeen 6 Jun 24 23:03 data.txt\n"
     ]
    }
   ],
   "source": [
    "chmod u=+r data.txt\n",
    "ls -lh"
   ]
  },
  {
   "cell_type": "markdown",
   "id": "8e3ba017-24ce-496d-8dfc-b8f6d3b173e9",
   "metadata": {},
   "source": [
    "<body style=\"font-family: Sans-serif;\">\n",
    "    <div style=\"color: black; font-size: 15px; font-style: oblique; text-shadow: 0 0 3px white, 0 0 1px black; padding: 20px;\">\n",
    "\n",
    "- Ab yahan user ke liye sirf read (r) permission + se di hn,\n",
    "- matlab user ke liye sirf read permission set hogi,\n",
    "- aur baaki (write aur execute) permissions hata di jayengi."
   ]
  },
  {
   "cell_type": "code",
   "execution_count": 52,
   "id": "f74a6336-a858-4760-a061-83b3ab5d0867",
   "metadata": {},
   "outputs": [
    {
     "name": "stdout",
     "output_type": "stream",
     "text": [
      "total 4.0K\n",
      "-rwxrwxrwx 1 mubeen mubeen 6 Jun 24 23:03 data.txt\n"
     ]
    }
   ],
   "source": [
    "chmod ugo=+rwx data.txt\n",
    "ls -lh"
   ]
  },
  {
   "cell_type": "markdown",
   "id": "1130e9c1-e78c-46cd-8ee6-d301fb1810a2",
   "metadata": {},
   "source": [
    "<body style=\"font-family: Sans-serif;\">\n",
    "    <div style=\"color: black; font-size: 15px; font-style: oblique; text-shadow: 0 0 3px white, 0 0 1px black; padding: 20px;\">\n",
    "\n",
    "- Yahan user, group, aur others — sab ke liye read, write, aur execute permissions di hn"
   ]
  },
  {
   "cell_type": "markdown",
   "id": "1a14fdde-bc65-4c48-977d-835964107b64",
   "metadata": {},
   "source": [
    "<body style=\"font-family: Sans-serif;\">\n",
    "    <div style=\"color: black; font-size: 15px; font-style: oblique; text-shadow: 0 0 3px white, 0 0 1px black; padding: 20px;\">\n",
    "\n",
    "- ## Short Overview\n",
    "<img src=\"./images/79.jpg\" style=\"display: block;margin-left: auto; margin-right: auto;width:80%\">"
   ]
  },
  {
   "cell_type": "markdown",
   "id": "a5dfc300-ffc5-4036-95a0-7fe86da69591",
   "metadata": {},
   "source": [
    "<body style=\"font-family: Sans-serif;\">\n",
    "    <div style=\"color: black; font-size: 15px; font-style: oblique; text-shadow: 0 0 3px white, 0 0 1px black; padding: 20px;\">\n",
    "\n",
    "### 2 Numeric Mode (Octal numbers)\n",
    "- Har permission ka number hota hai:\n",
    "\n",
    "| Permission | Value |\n",
    "| ---------- | ----- |\n",
    "| `r`        | 4     |\n",
    "| `w`        | 2     |\n",
    "| `x`        | 1     |\n",
    "\n",
    "Toh har entity ka total hota hai:\n",
    "\n",
    "| rwx   | Value     |\n",
    "| ----- | --------- |\n",
    "| `rwx` | 7 (4+2+1) |\n",
    "| `rw-` | 6         |\n",
    "| `r--` | 4         |\n",
    "| `r-x` | 5         |\n",
    "| `---` | 0         |\n",
    "\n",
    "\n",
    "For User, Group, Others\n",
    "\n",
    "| X        | Y         | Z          |\n",
    "| -------- | --------- | ---------- |\n",
    "| User (u) | Group (g) | Others (o) |\n"
   ]
  },
  {
   "cell_type": "code",
   "execution_count": 68,
   "id": "257c2c72-3f7f-4e4b-91dd-23e3f548fc80",
   "metadata": {},
   "outputs": [
    {
     "name": "stdout",
     "output_type": "stream",
     "text": [
      "total 4\n",
      "-rwxrwxrwx 1 mubeen mubeen 6 Jun 24 23:03 data.txt\n"
     ]
    }
   ],
   "source": [
    "ls -l"
   ]
  },
  {
   "cell_type": "markdown",
   "id": "ef74814e-8bb7-4a5f-81df-5b08c9f2c2d0",
   "metadata": {},
   "source": [
    "<body style=\"font-family: Sans-serif;\">\n",
    "    <div style=\"color: black; font-size: 15px; font-style: oblique; text-shadow: 0 0 3px white, 0 0 1px black; padding: 20px;\">\n",
    "\n",
    "- e.g remove user all permission"
   ]
  },
  {
   "cell_type": "code",
   "execution_count": 69,
   "id": "1f618f47-ceb8-4d54-9ba2-3beeafeed74b",
   "metadata": {},
   "outputs": [
    {
     "name": "stdout",
     "output_type": "stream",
     "text": [
      "total 4\n",
      "----rwxrwx 1 mubeen mubeen 6 Jun 24 23:03 data.txt\n"
     ]
    }
   ],
   "source": [
    "chmod 077 data.txt\n",
    "ls -l"
   ]
  },
  {
   "cell_type": "markdown",
   "id": "73c7c3da-fb99-43bd-95e0-2e9b48a44224",
   "metadata": {},
   "source": [
    "<body style=\"font-family: Sans-serif;\">\n",
    "    <div style=\"color: black; font-size: 15px; font-style: oblique; text-shadow: 0 0 3px white, 0 0 1px black; padding: 20px;\">\n",
    "\n",
    "- e.g remove user write permission only"
   ]
  },
  {
   "cell_type": "code",
   "execution_count": 71,
   "id": "98ea6d57-35fb-4a19-9491-f582e7b00b7f",
   "metadata": {},
   "outputs": [
    {
     "name": "stdout",
     "output_type": "stream",
     "text": [
      "total 4\n",
      "-r-xrwxrwx 1 mubeen mubeen 6 Jun 24 23:03 data.txt\n"
     ]
    }
   ],
   "source": [
    "chmod 577 data.txt\n",
    "ls -l"
   ]
  },
  {
   "cell_type": "markdown",
   "id": "3bf7a740-8782-4849-8dfb-0fdf1a3f53c9",
   "metadata": {},
   "source": [
    "<body style=\"font-family: Sans-serif;\">\n",
    "    <div style=\"color: black; font-size: 15px; font-style: oblique; text-shadow: 0 0 3px white, 0 0 1px black; padding: 20px;\">\n",
    "\n",
    "- e.g remove for user all permission"
   ]
  },
  {
   "cell_type": "code",
   "execution_count": 72,
   "id": "182f58b9-c14a-41bb-93d2-aa799c2ecbe9",
   "metadata": {},
   "outputs": [
    {
     "name": "stdout",
     "output_type": "stream",
     "text": [
      "total 4\n",
      "----rwxrwx 1 mubeen mubeen 6 Jun 24 23:03 data.txt\n"
     ]
    }
   ],
   "source": [
    "chmod 077 data.txt\n",
    "ls -l"
   ]
  },
  {
   "cell_type": "markdown",
   "id": "b95135e3-2f2e-4910-8125-099820f9c475",
   "metadata": {},
   "source": [
    "<body style=\"font-family: Sans-serif;\">\n",
    "    <div style=\"color: black; font-size: 15px; font-style: oblique; text-shadow: 0 0 3px white, 0 0 1px black; padding: 20px;\">\n",
    "\n",
    "- e.g remove all permissions for(user,group,others)"
   ]
  },
  {
   "cell_type": "code",
   "execution_count": 74,
   "id": "d5b10bbf-29d9-4e36-a8e3-0588068151bd",
   "metadata": {},
   "outputs": [
    {
     "name": "stdout",
     "output_type": "stream",
     "text": [
      "total 4\n",
      "---------- 1 mubeen mubeen 6 Jun 24 23:03 data.txt\n"
     ]
    }
   ],
   "source": [
    "chmod 000 data.txt\n",
    "ls -l"
   ]
  },
  {
   "cell_type": "markdown",
   "id": "940934e5-2289-434a-94a5-7e3fe498e177",
   "metadata": {},
   "source": [
    "<body style=\"font-family: Sans-serif;\">\n",
    "    <div style=\"color: black; font-size: 15px; font-style: oblique; text-shadow: 0 0 3px white, 0 0 1px black; padding: 20px;\">\n",
    "\n",
    "Jaisa ke Symbolic Mode mein hota hai ke hum specific user (user, group, others) ke liye specific permission (read/write/execute) ko set ya remove kar sakte hain — bina baaki permissions ko chhede,\n",
    "Lekin Numeric Mode mein hamesha puri permission overwrite hoti hai.\n",
    "Ismein specific bit change nahi ki ja sakti."
   ]
  },
  {
   "cell_type": "markdown",
   "id": "516b7cd6-fcda-40ae-806b-6532e59a782f",
   "metadata": {},
   "source": [
    "<body style=\"font-family: Sans-serif;\">\n",
    "    <div style=\"color: black; font-size: 15px; font-style: oblique; text-shadow: 0 0 3px white, 0 0 1px black; padding: 20px;\">\n",
    "\n",
    "- Symbolic Mode → Smart surgery  (sirf jahan zarurat ho wahan kaat)\n",
    "- Numeric Mode → Total transplant (puri permission replace)"
   ]
  },
  {
   "cell_type": "markdown",
   "id": "fe437897-e329-4a9e-9e9e-2ac2d263b3b1",
   "metadata": {},
   "source": [
    "<body style=\"font-family: Sans-serif;\">\n",
    "    <div style=\"color: black; font-size: 15px; font-style: oblique; text-shadow: 0 0 3px white, 0 0 1px black; padding: 20px;\">\n",
    "\n",
    "- ## Short Overview\n",
    "<img src=\"./images/80.jpg\" style=\"display: block;margin-left: auto; margin-right: auto;width:80%\">"
   ]
  },
  {
   "cell_type": "markdown",
   "id": "dce2499c-3a52-45a4-9072-e417be9f924e",
   "metadata": {},
   "source": [
    "<h1 style=\"text-align:center; color:#005bbd; font-size:20px; font-family:Sans-serif; font-style: oblique; text-shadow: 0 0 3px white, 0 0 1px Black;\">\n",
    "Parameters</h1>"
   ]
  },
  {
   "cell_type": "markdown",
   "id": "cf862994-1e37-4f15-98ed-64255636258d",
   "metadata": {},
   "source": [
    "<body style=\"font-family: Sans-serif;\">\n",
    "    <div style=\"color: black; font-size: 15px; font-style: oblique; text-shadow: 0 0 3px white, 0 0 1px black; padding: 20px;\">\n",
    "\n",
    "| Option            | Use / Meaning                                  | Example                                 |\n",
    "| ----------------- | ---------------------------------------------- | --------------------------------------- |\n",
    "| `-v`              | Verbose mode — har file pe output dikhata hai  | `chmod -v 755 file.txt`                 |\n",
    "| `-c`              | Changes only ko show karta hai                 | `chmod -c 755 file.txt`                 |\n",
    "| `-R`              | **Recursive** — folders aur andar ki sab files | `chmod -R 755 /var/www/`                |\n",
    "| `--reference=`    | Kisi file ki permission copy karna             | `chmod --reference=ref.txt target.txt`  |\n",
    "\n"
   ]
  },
  {
   "cell_type": "markdown",
   "id": "0fca88c1-2b12-44ef-9ee5-d583e60e9ade",
   "metadata": {},
   "source": [
    "<body style=\"font-family: Sans-serif;\">\n",
    "    <div style=\"color: black; font-size: 15px; font-style: oblique; text-shadow: 0 0 3px white, 0 0 1px black; padding: 20px;\">\n",
    "\n",
    "`-R Recursive`\n",
    "- folders aur andar ki sab files ki permission manage ho gi"
   ]
  },
  {
   "cell_type": "code",
   "execution_count": 86,
   "id": "5946cc36-f03a-42f5-a712-ed65ac768841",
   "metadata": {},
   "outputs": [
    {
     "name": "stdout",
     "output_type": "stream",
     "text": [
      "total 4\n",
      "drwxr-xr-x 2 mubeen mubeen 4096 Jun 25 01:25 data\n"
     ]
    }
   ],
   "source": [
    "ls -l"
   ]
  },
  {
   "cell_type": "code",
   "execution_count": 87,
   "id": "390fb411-f8ab-42e6-8452-9835a10710dd",
   "metadata": {},
   "outputs": [
    {
     "name": "stdout",
     "output_type": "stream",
     "text": [
      "total 0\n",
      "-rw-r--r-- 1 mubeen mubeen 0 Jun 25 01:24 file_1.txt\n",
      "-rw-r--r-- 1 mubeen mubeen 0 Jun 25 01:24 file_10.txt\n",
      "-rw-r--r-- 1 mubeen mubeen 0 Jun 25 01:24 file_2.txt\n",
      "-rw-r--r-- 1 mubeen mubeen 0 Jun 25 01:24 file_3.txt\n",
      "-rw-r--r-- 1 mubeen mubeen 0 Jun 25 01:24 file_4.txt\n",
      "-rw-r--r-- 1 mubeen mubeen 0 Jun 25 01:24 file_5.txt\n",
      "-rw-r--r-- 1 mubeen mubeen 0 Jun 25 01:24 file_6.txt\n",
      "-rw-r--r-- 1 mubeen mubeen 0 Jun 25 01:24 file_7.txt\n",
      "-rw-r--r-- 1 mubeen mubeen 0 Jun 25 01:24 file_8.txt\n",
      "-rw-r--r-- 1 mubeen mubeen 0 Jun 25 01:24 file_9.txt\n"
     ]
    }
   ],
   "source": [
    "ls -l data"
   ]
  },
  {
   "cell_type": "code",
   "execution_count": 88,
   "id": "7a1ebfc6-8655-42d8-b439-ceed3f835797",
   "metadata": {},
   "outputs": [],
   "source": [
    "chmod 777 -R data"
   ]
  },
  {
   "cell_type": "code",
   "execution_count": 89,
   "id": "0327f629-f95f-4651-aea6-1335b2f5fc0b",
   "metadata": {},
   "outputs": [
    {
     "name": "stdout",
     "output_type": "stream",
     "text": [
      "total 4\n",
      "drwxrwxrwx 2 mubeen mubeen 4096 Jun 25 01:25 data\n"
     ]
    }
   ],
   "source": [
    "ls -l"
   ]
  },
  {
   "cell_type": "code",
   "execution_count": 90,
   "id": "7314d819-aca6-418b-869a-2310d7cb34f9",
   "metadata": {},
   "outputs": [
    {
     "name": "stdout",
     "output_type": "stream",
     "text": [
      "total 0\n",
      "-rwxrwxrwx 1 mubeen mubeen 0 Jun 25 01:24 file_1.txt\n",
      "-rwxrwxrwx 1 mubeen mubeen 0 Jun 25 01:24 file_10.txt\n",
      "-rwxrwxrwx 1 mubeen mubeen 0 Jun 25 01:24 file_2.txt\n",
      "-rwxrwxrwx 1 mubeen mubeen 0 Jun 25 01:24 file_3.txt\n",
      "-rwxrwxrwx 1 mubeen mubeen 0 Jun 25 01:24 file_4.txt\n",
      "-rwxrwxrwx 1 mubeen mubeen 0 Jun 25 01:24 file_5.txt\n",
      "-rwxrwxrwx 1 mubeen mubeen 0 Jun 25 01:24 file_6.txt\n",
      "-rwxrwxrwx 1 mubeen mubeen 0 Jun 25 01:24 file_7.txt\n",
      "-rwxrwxrwx 1 mubeen mubeen 0 Jun 25 01:24 file_8.txt\n",
      "-rwxrwxrwx 1 mubeen mubeen 0 Jun 25 01:24 file_9.txt\n"
     ]
    }
   ],
   "source": [
    "ls -l data"
   ]
  },
  {
   "cell_type": "markdown",
   "id": "bad010a1-b5d3-4e1f-9160-0d5a1a9284d2",
   "metadata": {},
   "source": [
    "<body style=\"font-family: Sans-serif;\">\n",
    "    <div style=\"color: black; font-size: 15px; font-style: oblique; text-shadow: 0 0 3px white, 0 0 1px black; padding: 20px;\">\n",
    "\n",
    "`-v Verbose Output`\n",
    "- har file pe output dikhata hai"
   ]
  },
  {
   "cell_type": "code",
   "execution_count": 94,
   "id": "33408168-c193-4088-886e-96e02964cd13",
   "metadata": {},
   "outputs": [
    {
     "name": "stdout",
     "output_type": "stream",
     "text": [
      "total 4\n",
      "drwxrwxrwx 2 mubeen mubeen 4096 Jun 25 01:25 data\n",
      "-rw-r--r-- 1 mubeen mubeen    0 Jun 25 01:29 f1.txt\n",
      "-rw-r--r-- 1 mubeen mubeen    0 Jun 25 01:29 f2.txt\n"
     ]
    }
   ],
   "source": [
    "ls -l"
   ]
  },
  {
   "cell_type": "code",
   "execution_count": 98,
   "id": "4e30fae9-668c-4e45-86c7-99434abd141a",
   "metadata": {},
   "outputs": [
    {
     "name": "stdout",
     "output_type": "stream",
     "text": [
      "mode of 'f1.txt' changed from 0644 (rw-r--r--) to 0044 (---r--r--)\n",
      "mode of 'f2.txt' changed from 0644 (rw-r--r--) to 0044 (---r--r--)\n"
     ]
    }
   ],
   "source": [
    "chmod -v u=-rwx f1.txt f2.txt"
   ]
  },
  {
   "cell_type": "code",
   "execution_count": 99,
   "id": "1b7424c7-0aaf-4404-a3a2-515dd502d897",
   "metadata": {},
   "outputs": [
    {
     "name": "stdout",
     "output_type": "stream",
     "text": [
      "total 4\n",
      "drwxrwxrwx 2 mubeen mubeen 4096 Jun 25 01:25 data\n",
      "----r--r-- 1 mubeen mubeen    0 Jun 25 01:29 f1.txt\n",
      "----r--r-- 1 mubeen mubeen    0 Jun 25 01:29 f2.txt\n"
     ]
    }
   ],
   "source": [
    "ls -l"
   ]
  },
  {
   "cell_type": "markdown",
   "id": "96d028fa-4518-4154-ab93-6d2ade2cde8e",
   "metadata": {},
   "source": [
    "<body style=\"font-family: Sans-serif;\">\n",
    "    <div style=\"color: black; font-size: 15px; font-style: oblique; text-shadow: 0 0 3px white, 0 0 1px black; padding: 20px;\">\n",
    "\n",
    "`-c`\n",
    "- Sirf tab output aayega jab permission actually change ho."
   ]
  },
  {
   "cell_type": "markdown",
   "id": "d82f749b-4dc5-4755-94fd-3f1af3521b03",
   "metadata": {},
   "source": [
    "<body style=\"font-family: Sans-serif;\">\n",
    "    <div style=\"color: black; font-size: 15px; font-style: oblique; text-shadow: 0 0 3px white, 0 0 1px black; padding: 20px;\">\n",
    "e.g user ky lye already rwx permission - hy \n",
    "        \n",
    "So; command work nahi ho gi"
   ]
  },
  {
   "cell_type": "code",
   "execution_count": 102,
   "id": "2add809a-75ea-451f-95e1-8148cd0b7442",
   "metadata": {},
   "outputs": [],
   "source": [
    "chmod -c u=-rwx f1.txt f2.txt"
   ]
  },
  {
   "cell_type": "markdown",
   "id": "cbd66f11-446f-4f16-bd72-c7982844b169",
   "metadata": {},
   "source": [
    "<body style=\"font-family: Sans-serif;\">\n",
    "    <div style=\"color: black; font-size: 15px; font-style: oblique; text-shadow: 0 0 3px white, 0 0 1px black; padding: 20px;\">\n",
    "\n",
    "ab agr permission actual mein change ho gi to hu command work kary gi"
   ]
  },
  {
   "cell_type": "code",
   "execution_count": 103,
   "id": "d322fda0-799b-4bda-90ed-af19678a7f60",
   "metadata": {},
   "outputs": [
    {
     "name": "stdout",
     "output_type": "stream",
     "text": [
      "mode of 'f1.txt' changed from 0044 (---r--r--) to 0744 (rwxr--r--)\n",
      "mode of 'f2.txt' changed from 0044 (---r--r--) to 0744 (rwxr--r--)\n"
     ]
    }
   ],
   "source": [
    "chmod -c u=+rwx f1.txt f2.txt"
   ]
  },
  {
   "cell_type": "markdown",
   "id": "57544559-ac4c-42b7-8810-210bd538e217",
   "metadata": {},
   "source": [
    "<body style=\"font-family: Sans-serif;\">\n",
    "    <div style=\"color: black; font-size: 15px; font-style: oblique; text-shadow: 0 0 3px white, 0 0 1px black; padding: 20px;\">\n",
    "\n",
    "`--reference=`\n",
    "- Kisi file ki permission copy kary ga"
   ]
  },
  {
   "cell_type": "code",
   "execution_count": 108,
   "id": "180277a4-3cab-48ca-8e4b-59674519c9ce",
   "metadata": {},
   "outputs": [
    {
     "name": "stdout",
     "output_type": "stream",
     "text": [
      "total 0\n",
      "-rwxrwxrwx 1 mubeen mubeen 0 Jun 25 01:47 f1.txt\n",
      "-rw-r--r-- 1 mubeen mubeen 0 Jun 25 01:47 f2.txt\n"
     ]
    }
   ],
   "source": [
    "ls -l"
   ]
  },
  {
   "cell_type": "code",
   "execution_count": 109,
   "id": "e3069d87-d6c0-40a0-8ee9-cc971ff63798",
   "metadata": {},
   "outputs": [
    {
     "name": "stdout",
     "output_type": "stream",
     "text": [
      "total 0\n",
      "-rwxrwxrwx 1 mubeen mubeen 0 Jun 25 01:47 f1.txt\n",
      "-rwxrwxrwx 1 mubeen mubeen 0 Jun 25 01:47 f2.txt\n"
     ]
    }
   ],
   "source": [
    "chmod --reference=f1.txt f2.txt\n",
    "ls -l"
   ]
  },
  {
   "cell_type": "markdown",
   "id": "09a24135-2409-4a6c-beb6-382ab9f5b42f",
   "metadata": {},
   "source": [
    "<h1 style=\"text-align:center; color:#005bbd; font-size:20px; font-family:Sans-serif; font-style: oblique; text-shadow: 0 0 3px white, 0 0 1px Black;\">\n",
    "Permissions Types and Division Mindmap</h1>"
   ]
  },
  {
   "cell_type": "markdown",
   "id": "6d20a858-2483-4c33-9ba9-608f061b99c2",
   "metadata": {},
   "source": [
    "<img src=\"./images/81.jpg\" style=\"display: block;margin-left: auto; margin-right: auto;width:80%\">"
   ]
  },
  {
   "cell_type": "markdown",
   "id": "2a800099-9a2b-49b0-9abf-081ee0d80b14",
   "metadata": {},
   "source": [
    "<h1 style=\"text-align:center; color:#005bbd; font-size:20px; font-family:Sans-serif; font-style: oblique; text-shadow: 0 0 3px white, 0 0 1px Black;\">\n",
    "Symbolic Notion Mindmap</h1>"
   ]
  },
  {
   "cell_type": "markdown",
   "id": "8ee84544-4b77-4021-8967-bbb270a3b44c",
   "metadata": {},
   "source": [
    "<img src=\"./images/82.jpg\" style=\"display: block;margin-left: auto; margin-right: auto;width:80%\">"
   ]
  },
  {
   "cell_type": "markdown",
   "id": "7a3c927f-6932-4bd6-8fee-9df80d0a57ff",
   "metadata": {},
   "source": [
    "<h1 style=\"text-align:center; color:#005bbd; font-size:20px; font-family:Sans-serif; font-style: oblique; text-shadow: 0 0 3px white, 0 0 1px Black;\">\n",
    "Numeric Notion Mindmap</h1>"
   ]
  },
  {
   "attachments": {},
   "cell_type": "markdown",
   "id": "3d5f858f-27e1-4b4b-91b6-5057e6beec14",
   "metadata": {},
   "source": [
    "<img src=\"./images/83.jpg\" style=\"display: block;margin-left: auto; margin-right: auto;width:80%\">"
   ]
  },
  {
   "cell_type": "markdown",
   "id": "b2345a8e-f18f-4231-b662-5b697dab86ae",
   "metadata": {},
   "source": [
    "<h1 style=\"text-align:center; color:#005bbd; font-size:20px; font-family:Sans-serif; font-style: oblique; text-shadow: 0 0 3px white, 0 0 1px Black;\">\n",
    "Chmod Parameters Mindmap</h1>"
   ]
  },
  {
   "cell_type": "markdown",
   "id": "51f4c651-a8ea-4b55-ae7c-db172d3e3003",
   "metadata": {},
   "source": [
    "<img src=\"./images/83.jpg\" style=\"display: block;margin-left: auto; margin-right: auto;width:80%\">"
   ]
  }
 ],
 "metadata": {
  "kernelspec": {
   "display_name": "Python 3 (ipykernel)",
   "language": "python",
   "name": "python3"
  },
  "language_info": {
   "codemirror_mode": {
    "name": "ipython",
    "version": 3
   },
   "file_extension": ".py",
   "mimetype": "text/x-python",
   "name": "python",
   "nbconvert_exporter": "python",
   "pygments_lexer": "ipython3",
   "version": "3.13.4"
  }
 },
 "nbformat": 4,
 "nbformat_minor": 5
}
