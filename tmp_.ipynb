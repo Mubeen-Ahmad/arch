{
 "cells": [
  {
   "cell_type": "code",
   "execution_count": 5,
   "id": "569c1927-b190-47f3-bfb1-f029cf80c21b",
   "metadata": {
    "tags": []
   },
   "outputs": [
    {
     "name": "stdout",
     "output_type": "stream",
     "text": [
      "✅ Saved as 83.jpg\n"
     ]
    }
   ],
   "source": [
    "import json, base64\n",
    "from PIL import Image\n",
    "from io import BytesIO\n",
    "import os\n",
    "\n",
    "notebook_name = \"9.ipynb\"\n",
    "target_filename = \"d8369e1c-a6b9-4857-9942-feb14b22e3c2.png\"\n",
    "output_dir = \"./images\"\n",
    "\n",
    "os.makedirs(output_dir, exist_ok=True)\n",
    "\n",
    "with open(notebook_name, \"r\", encoding=\"utf-8\") as f:\n",
    "    notebook = json.load(f)\n",
    "\n",
    "found = False\n",
    "for cell in notebook.get(\"cells\", []):\n",
    "    attachments = cell.get(\"attachments\", {})\n",
    "    if target_filename in attachments:\n",
    "        for mime, data in attachments[target_filename].items():\n",
    "            try:\n",
    "                img_data = base64.b64decode(data)\n",
    "                img = Image.open(BytesIO(img_data))\n",
    "\n",
    "                # Handle alpha channel safely\n",
    "                if img.mode in (\"RGBA\", \"LA\") or (img.mode == \"P\" and \"transparency\" in img.info):\n",
    "                    background = Image.new(\"RGB\", img.size, (255, 255, 255))\n",
    "                    background.paste(img, mask=img.split()[-1])\n",
    "                    img = background\n",
    "                else:\n",
    "                    img = img.convert(\"RGB\")\n",
    "\n",
    "                # Show image before saving\n",
    "                # img.show()\n",
    "\n",
    "                    # Save to next number\n",
    "                existing = [int(f.split(\".\")[0]) for f in os.listdir(output_dir) if f.endswith(\".jpg\") and f.split(\".\")[0].isdigit()]\n",
    "                name = max(existing) + 1 if existing else 1\n",
    "                img.save(f\"{output_dir}/{name}.jpg\", \"JPEG\", quality=95)\n",
    "                print(f\"✅ Saved as {name}.jpg\")\n",
    "                found = True\n",
    "                break\n",
    "            except Exception as e:\n",
    "                print(\"❌ Error during image decode/save:\", e)\n",
    "                break\n",
    "    if found:\n",
    "        break\n",
    "\n",
    "if not found:\n",
    "    print(\"❌ Attachment not found.\")\n"
   ]
  },
  {
   "cell_type": "code",
   "execution_count": 2,
   "id": "e975d2a3-c0fd-4b19-a68d-a92727f79ac4",
   "metadata": {},
   "outputs": [
    {
     "name": "stdout",
     "output_type": "stream",
     "text": [
      "On branch main\n",
      "nothing to commit, working tree clean\n"
     ]
    }
   ],
   "source": [
    "%%bash\n",
    "git status"
   ]
  },
  {
   "cell_type": "code",
   "execution_count": null,
   "id": "928f7574-be16-4b55-9249-4df28aec5108",
   "metadata": {},
   "outputs": [],
   "source": []
  },
  {
   "cell_type": "code",
   "execution_count": null,
   "id": "777a45b5-08be-4bdd-ad75-ae30a59d0662",
   "metadata": {},
   "outputs": [],
   "source": [
    "\n"
   ]
  }
 ],
 "metadata": {
  "kernelspec": {
   "display_name": "Python 3 (ipykernel)",
   "language": "python",
   "name": "python3"
  },
  "language_info": {
   "codemirror_mode": {
    "name": "ipython",
    "version": 3
   },
   "file_extension": ".py",
   "mimetype": "text/x-python",
   "name": "python",
   "nbconvert_exporter": "python",
   "pygments_lexer": "ipython3",
   "version": "3.13.4"
  }
 },
 "nbformat": 4,
 "nbformat_minor": 5
}
