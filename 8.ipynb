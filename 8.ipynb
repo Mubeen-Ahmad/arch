{
 "cells": [
  {
   "cell_type": "markdown",
   "id": "f79b05e5-9402-4fd0-bd1e-d83add43eca4",
   "metadata": {},
   "source": [
    "<h1 style=\"text-align:center; color:#005bbd; font-size:20px; font-family:Sans-serif; font-style: oblique; text-shadow: 0 0 3px white, 0 0 1px Black;\">\n",
    "getent Command</h1>"
   ]
  },
  {
   "cell_type": "markdown",
   "id": "51dcbe5b-ce59-4d7d-b886-7b0aa41fb6ff",
   "metadata": {},
   "source": [
    "<body style=\"font-family: Sans-serif;\">\n",
    "    <div style=\"color: black; font-size: 15px; font-style: oblique; text-shadow: 0 0 3px white, 0 0 1px black; padding: 20px;\">\n",
    "        \n",
    "getent ka full form hota hai: Get Entries Ye command system databases jaise:\n",
    "- passwd (users)\n",
    "- group (groups)\n",
    "- hosts (DNS ya /etc/hosts)\n",
    "- services\n",
    "- protocols\n",
    "- networks\n",
    "- ...\n",
    "- waghera se data nikalne ke liye use hoti hai, jo ki glibc NSS (Name Service Switch) ke through access hoti hain.\n",
    "\n",
    "---\n",
    "#### Syntax: `getent <database> [key]`\n"
   ]
  },
  {
   "cell_type": "markdown",
   "id": "7b232c5f-0d4e-49da-976d-53d4fda618a1",
   "metadata": {},
   "source": [
    "<body style=\"font-family: Sans-serif;\">\n",
    "    <div style=\"color: black; font-size: 15px; font-style: oblique; text-shadow: 0 0 3px white, 0 0 1px black; padding: 20px;\">\n",
    "\n",
    "- ### 1 Users List (passwd)\n",
    "- `getent passwd`\n",
    "- Sabhi users ka data show karega (same as /etc/passwd)."
   ]
  },
  {
   "cell_type": "code",
   "execution_count": 4,
   "id": "1dda628e-1e82-4f22-a97f-fb50e6917686",
   "metadata": {},
   "outputs": [
    {
     "name": "stdout",
     "output_type": "stream",
     "text": [
      "root:x:0:0::/root:/usr/bin/bash\n",
      "bin:x:1:1::/:/usr/bin/nologin\n",
      "daemon:x:2:2::/:/usr/bin/nologin\n",
      "mail:x:8:12::/var/spool/mail:/usr/bin/nologin\n",
      "ftp:x:14:11::/srv/ftp:/usr/bin/nologin\n",
      "http:x:33:33::/srv/http:/usr/bin/nologin\n",
      "nobody:x:65534:65534:Kernel Overflow User:/:/usr/bin/nologin\n",
      "dbus:x:81:81:System Message Bus:/:/usr/bin/nologin\n",
      "systemd-coredump:x:980:980:systemd Core Dumper:/:/usr/bin/nologin\n",
      "systemd-network:x:979:979:systemd Network Management:/:/usr/bin/nologin\n",
      "systemd-oom:x:978:978:systemd Userspace OOM Killer:/:/usr/bin/nologin\n",
      "systemd-journal-remote:x:977:977:systemd Journal Remote:/:/usr/bin/nologin\n",
      "systemd-resolve:x:976:976:systemd Resolver:/:/usr/bin/nologin\n",
      "systemd-timesync:x:975:975:systemd Time Synchronization:/:/usr/bin/nologin\n",
      "tss:x:974:974:tss user for tpm2:/:/usr/bin/nologin\n",
      "uuidd:x:973:973:UUID generator helper daemon:/var/lib/libuuid:/usr/bin/nologin\n",
      "alpm:x:972:972:Arch Linux Package Management:/:/usr/bin/nologin\n",
      "mubeen:x:1000:1000::/home/mubeen:/usr/bin/bash\n",
      "git:x:971:971:git daemon user:/:/usr/bin/git-shell\n",
      "ali:x:1001:1004::/home/ali:/usr/bin/bash\n",
      "user2:x:1002:1002::/home/user2:/usr/bin/bash\n",
      "user5:x:1003:1005::/home/user5:/usr/bin/bash\n"
     ]
    }
   ],
   "source": [
    "getent passwd"
   ]
  },
  {
   "cell_type": "markdown",
   "id": "9a486234-5ad4-4485-9ff2-32b2b65e0870",
   "metadata": {},
   "source": [
    "<body style=\"font-family: Sans-serif;\">\n",
    "    <div style=\"color: black; font-size: 15px; font-style: oblique; text-shadow: 0 0 3px white, 0 0 1px black; padding: 20px;\">\n",
    "\n",
    "- ### 2 Only specfic user info\n",
    "- `getent passwd username`\n",
    "- Only Specfic user ka data show karega"
   ]
  },
  {
   "cell_type": "code",
   "execution_count": 9,
   "id": "d00d474e-73dd-475e-94ab-5e241179ac78",
   "metadata": {},
   "outputs": [
    {
     "name": "stdout",
     "output_type": "stream",
     "text": [
      "mubeen:x:1000:1000::/home/mubeen:/usr/bin/bash\n"
     ]
    }
   ],
   "source": [
    "getent passwd mubeen"
   ]
  },
  {
   "cell_type": "code",
   "execution_count": 10,
   "id": "59eca7a7-4ec5-4929-8802-f496afe665e6",
   "metadata": {},
   "outputs": [
    {
     "name": "stdout",
     "output_type": "stream",
     "text": [
      "git:x:971:971:git daemon user:/:/usr/bin/git-shell\n"
     ]
    }
   ],
   "source": [
    "getent passwd git"
   ]
  },
  {
   "cell_type": "markdown",
   "id": "a182a4ea-c81f-46dc-af96-b311e3d3f46e",
   "metadata": {},
   "source": [
    "<body style=\"font-family: Sans-serif;\">\n",
    "    <div style=\"color: black; font-size: 15px; font-style: oblique; text-shadow: 0 0 3px white, 0 0 1px black; padding: 20px;\">\n",
    "\n",
    "- ### 3 Group Info\n",
    "- `getent group`\n",
    "- Sab groups list honge."
   ]
  },
  {
   "cell_type": "code",
   "execution_count": 12,
   "id": "865737f3-2960-4536-a4ea-d4eb1fd5c072",
   "metadata": {},
   "outputs": [
    {
     "name": "stdout",
     "output_type": "stream",
     "text": [
      "root:x:0:root\n",
      "sys:x:3:bin\n",
      "mem:x:8:\n",
      "ftp:x:11:\n",
      "mail:x:12:\n",
      "log:x:19:\n",
      "smmsp:x:25:\n",
      "proc:x:26:\n",
      "games:x:50:\n",
      "lock:x:54:\n",
      "network:x:90:\n",
      "floppy:x:94:\n",
      "scanner:x:96:\n",
      "power:x:98:\n",
      "nobody:x:65534:\n",
      "adm:x:999:daemon\n",
      "wheel:x:998:mubeen,ali,user2\n",
      "utmp:x:997:\n",
      "audio:x:996:\n",
      "disk:x:995:\n",
      "input:x:994:\n",
      "kmem:x:993:\n",
      "kvm:x:992:\n",
      "lp:x:991:\n",
      "optical:x:990:\n",
      "render:x:989:\n",
      "sgx:x:988:\n",
      "storage:x:987:\n",
      "tty:x:5:\n",
      "uucp:x:986:\n",
      "video:x:985:\n",
      "users:x:984:\n",
      "groups:x:983:\n",
      "systemd-journal:x:982:\n",
      "rfkill:x:981:\n",
      "bin:x:1:daemon\n",
      "daemon:x:2:bin\n",
      "http:x:33:\n",
      "dbus:x:81:\n",
      "systemd-coredump:x:980:\n",
      "systemd-network:x:979:\n",
      "systemd-oom:x:978:\n",
      "systemd-journal-remote:x:977:\n",
      "systemd-resolve:x:976:\n",
      "systemd-timesync:x:975:\n",
      "tss:x:974:\n",
      "uuidd:x:973:\n",
      "alpm:x:972:\n",
      "mubeen:x:1000:\n",
      "vboxsf:x:109:\n",
      "git:x:971:\n",
      "ali:x:1001:\n",
      "user2:x:1002:\n",
      "team:x:1003:\n",
      "developers:x:1004:\n",
      "user5:x:1005:\n"
     ]
    }
   ],
   "source": [
    "getent group"
   ]
  },
  {
   "cell_type": "markdown",
   "id": "5c9456df-2569-447e-a702-b7521faa182f",
   "metadata": {},
   "source": [
    "<body style=\"font-family: Sans-serif;\">\n",
    "    <div style=\"color: black; font-size: 15px; font-style: oblique; text-shadow: 0 0 3px white, 0 0 1px black; padding: 20px;\">\n",
    "\n",
    "- ### 4 Only Specfic Group Info\n",
    "- `getent group groupname`\n"
   ]
  },
  {
   "cell_type": "code",
   "execution_count": 15,
   "id": "f1d9d896-bf1f-4cc8-aedc-29ea8610d3dc",
   "metadata": {},
   "outputs": [
    {
     "name": "stdout",
     "output_type": "stream",
     "text": [
      "wheel:x:998:mubeen,ali,user2\n"
     ]
    }
   ],
   "source": [
    "getent group wheel"
   ]
  },
  {
   "cell_type": "markdown",
   "id": "193c4978-f468-4d28-bb9f-8141a74836de",
   "metadata": {},
   "source": [
    "<body style=\"font-family: Sans-serif;\">\n",
    "    <div style=\"color: black; font-size: 15px; font-style: oblique; text-shadow: 0 0 3px white, 0 0 1px black; padding: 20px;\">\n",
    "\n",
    "- ### 5 Hosts\n",
    "- `getent Hosts`\n"
   ]
  },
  {
   "cell_type": "code",
   "execution_count": 16,
   "id": "27ce2bc6-f15e-488a-b497-0fd6d4a4f15a",
   "metadata": {},
   "outputs": [
    {
     "name": "stdout",
     "output_type": "stream",
     "text": [
      "127.0.0.1       localhost\n",
      "127.0.0.1       localhost\n",
      "127.0.1.1       arch.localdomain arch\n"
     ]
    }
   ],
   "source": [
    "getent hosts"
   ]
  },
  {
   "cell_type": "markdown",
   "id": "275aa7cb-9d27-4af0-9b10-ab3935c4d970",
   "metadata": {},
   "source": [
    "<body style=\"font-family: Sans-serif;\">\n",
    "    <div style=\"color: black; font-size: 15px; font-style: oblique; text-shadow: 0 0 3px white, 0 0 1px black; padding: 20px;\">\n",
    "\n",
    "- ### 6 Only Specifc Hosts\n",
    "- `getent <hostname> Hosts`\n"
   ]
  },
  {
   "cell_type": "code",
   "execution_count": 20,
   "id": "5daad471-94a4-46c2-a37c-409a4e5fa223",
   "metadata": {},
   "outputs": [
    {
     "name": "stdout",
     "output_type": "stream",
     "text": [
      "127.0.1.1       arch.localdomain\n"
     ]
    }
   ],
   "source": [
    "getent hosts arch"
   ]
  },
  {
   "cell_type": "markdown",
   "id": "c718ec6c-4188-4b0e-b46f-53a70498b04e",
   "metadata": {},
   "source": [
    "<body style=\"font-family: Sans-serif;\">\n",
    "    <div style=\"color: black; font-size: 15px; font-style: oblique; text-shadow: 0 0 3px white, 0 0 1px black; padding: 20px;\">\n",
    "\n",
    "- ### 7 Services \n",
    "- `getent services`\n"
   ]
  },
  {
   "cell_type": "code",
   "execution_count": 27,
   "id": "9aa6fb3c-1345-4777-97b8-ad9eb662bf54",
   "metadata": {},
   "outputs": [
    {
     "name": "stdout",
     "output_type": "stream",
     "text": [
      "tcpmux                1/tcp\n",
      "tcpmux                1/udp\n",
      "rje                   5/tcp\n",
      "rje                   5/udp\n",
      "echo                  7/tcp\n",
      "echo                  7/udp\n",
      "discard               9/tcp\n",
      "discard               9/udp\n",
      "discard               9/sctp\n",
      "discard               9/dccp\n",
      "systat                11/tcp\n",
      "systat                11/udp\n",
      "daytime               13/tcp\n",
      "daytime               13/udp\n",
      "qotd                  17/tcp\n"
     ]
    }
   ],
   "source": [
    "getent services"
   ]
  },
  {
   "cell_type": "markdown",
   "id": "c009785b-0e03-4c79-87b0-8bfb5392f7ab",
   "metadata": {},
   "source": [
    "<body style=\"font-family: Sans-serif;\">\n",
    "    <div style=\"color: black; font-size: 15px; font-style: oblique; text-shadow: 0 0 3px white, 0 0 1px black; padding: 20px;\">\n",
    "\n",
    "- ### 8 Only Specfic Services \n",
    "- `getent services servicename`\n"
   ]
  },
  {
   "cell_type": "code",
   "execution_count": 36,
   "id": "103c2e40-60c0-46e3-82e6-02f67a9cc864",
   "metadata": {},
   "outputs": [
    {
     "name": "stdout",
     "output_type": "stream",
     "text": [
      "ssh                   22/tcp\n"
     ]
    }
   ],
   "source": [
    "getent services ssh"
   ]
  },
  {
   "cell_type": "markdown",
   "id": "6688c863-1bec-4f2f-a510-4ca8abea54d2",
   "metadata": {},
   "source": [
    "<body style=\"font-family: Sans-serif;\">\n",
    "    <div style=\"color: black; font-size: 15px; font-style: oblique; text-shadow: 0 0 3px white, 0 0 1px black; padding: 20px;\">\n",
    "\n",
    "- ### 9 Networks  \n",
    "- `getent networks`\n"
   ]
  },
  {
   "cell_type": "code",
   "execution_count": 59,
   "id": "ec98beb4-1827-4cd6-b035-b2fbfda3521c",
   "metadata": {},
   "outputs": [
    {
     "name": "stdout",
     "output_type": "stream",
     "text": [
      "office                192.168.0.0\n",
      "vpnnet                10.8.0.0\n",
      "ikso                  192.168.100.0\n",
      "iotlan                172.16.20.0\n"
     ]
    }
   ],
   "source": [
    "getent networks"
   ]
  },
  {
   "cell_type": "markdown",
   "id": "73053cf7-8fb7-4d93-abfb-5c6e3b70db52",
   "metadata": {},
   "source": [
    "<body style=\"font-family: Sans-serif;\">\n",
    "    <div style=\"color: black; font-size: 15px; font-style: oblique; text-shadow: 0 0 3px white, 0 0 1px black; padding: 20px;\">\n",
    "\n",
    "- ### 10 only Specfic Networks  \n",
    "- `getent networks <name>`\n"
   ]
  },
  {
   "cell_type": "code",
   "execution_count": 60,
   "id": "0759d41d-49e1-4515-b96d-f150827db144",
   "metadata": {},
   "outputs": [
    {
     "name": "stdout",
     "output_type": "stream",
     "text": [
      "office                192.168.0.0\n"
     ]
    }
   ],
   "source": [
    "getent networks office"
   ]
  },
  {
   "cell_type": "markdown",
   "id": "791137e3-013c-4cfd-8067-c43e4aa525e5",
   "metadata": {},
   "source": [
    "<body style=\"font-family: Sans-serif;\">\n",
    "    <div style=\"color: black; font-size: 15px; font-style: oblique; text-shadow: 0 0 3px white, 0 0 1px black; padding: 20px;\">\n",
    "\n",
    "- ### 11 Protocols \n",
    "- `getent protocols`\n"
   ]
  },
  {
   "cell_type": "code",
   "execution_count": 63,
   "id": "13f2808e-484a-42c5-a2b0-92bce764af99",
   "metadata": {},
   "outputs": [
    {
     "name": "stdout",
     "output_type": "stream",
     "text": [
      "hopopt                0 HOPOPT\n",
      "icmp                  1 ICMP\n",
      "igmp                  2 IGMP\n",
      "ggp                   3 GGP\n",
      "ipv4                  4 IPv4\n",
      "st                    5 ST\n",
      "tcp                   6 TCP\n",
      "cbt                   7 CBT\n",
      "egp                   8 EGP\n",
      "igp                   9 IGP\n"
     ]
    }
   ],
   "source": [
    "getent protocols"
   ]
  },
  {
   "cell_type": "markdown",
   "id": "087eebb9-a0c7-4c3b-b4b6-8a9ca7233614",
   "metadata": {},
   "source": [
    "<body style=\"font-family: Sans-serif;\">\n",
    "    <div style=\"color: black; font-size: 15px; font-style: oblique; text-shadow: 0 0 3px white, 0 0 1px black; padding: 20px;\">\n",
    "\n",
    "- ### 12 Only Specfic Protocols \n",
    "- `getent protocols <name>`\n"
   ]
  },
  {
   "cell_type": "code",
   "execution_count": 64,
   "id": "d75e3b5d-3129-44f7-bea5-402509bcc515",
   "metadata": {},
   "outputs": [
    {
     "name": "stdout",
     "output_type": "stream",
     "text": [
      "tcp                   6 TCP\n"
     ]
    }
   ],
   "source": [
    "getent protocols tcp"
   ]
  },
  {
   "cell_type": "markdown",
   "id": "49ec8ad5-0d36-4fdb-a400-3fb8f581b5a2",
   "metadata": {},
   "source": [
    "<body style=\"font-family: Sans-serif;\">\n",
    "    <div style=\"color: black; font-size: 15px; font-style: oblique; text-shadow: 0 0 3px white, 0 0 1px black; padding: 20px;\">\n",
    "\n",
    "- ### 13 Shadow File \n",
    "- `sudo getent shadow`\n",
    "- Root required: User passwords info (mostly encrypted).\n"
   ]
  },
  {
   "cell_type": "code",
   "execution_count": 69,
   "id": "d5e91a59-4b9e-404b-ae57-f65c808479a8",
   "metadata": {},
   "outputs": [
    {
     "name": "stdout",
     "output_type": "stream",
     "text": [
      "root:$y$j9T$c0e4qWl/u9S7dKtVEQ/Xc1$EPuXJncB6QpI2kQpHxBiIf2UmTojf4P70iq/vNYA622:20244::::::\n",
      "bin:!*:20244::::::\n",
      "daemon:!*:20244::::::\n",
      "mail:!*:20244::::::\n",
      "ftp:!*:20244::::::\n",
      "http:!*:20244::::::\n",
      "nobody:!*:20244:::::1:\n",
      "dbus:!*:20244::::::\n",
      "systemd-coredump:!*:20244:::::1:\n",
      "systemd-network:!*:20244:::::1:\n",
      "systemd-oom:!*:20244:::::1:\n",
      "systemd-journal-remote:!*:20244:::::1:\n",
      "systemd-resolve:!*:20244:::::1:\n",
      "systemd-timesync:!*:20244:::::1:\n",
      "tss:!*:20244::::::\n",
      "uuidd:!*:20244:::::1:\n",
      "alpm:!*:20244::::::\n",
      "mubeen:$y$j9T$irh3xj7VMGn/i9huLUw/C.$527876WKrzrRrRRlXHaM.AcTH0BbOHZ9iR6cI5YBXuA:20244:0:99999:7:::\n",
      "git:!*:20247::::::\n",
      "ali:$y$j9T$iaw5/HQiK92rNyWIZFAHm.$4m3QKJxUgsFuZTLcPB4i6lMmnBQXPlyHFBqPdAlXek5:20249:0:99999:7:::\n",
      "user2:$y$j9T$gLowAwXCvgMlYn2xdW77q0$E3ac1quLA15xBf5hAsUj5U3xU/f7/gOWlzunMm7NT7/:20261:0:99999:7:::\n",
      "user5:!:20261:0:99999:7:::\n"
     ]
    }
   ],
   "source": [
    "sudo getent shadow"
   ]
  },
  {
   "cell_type": "markdown",
   "id": "b15961b7-3e59-4423-b2b8-cca4c80a0064",
   "metadata": {},
   "source": [
    "<body style=\"font-family: Sans-serif;\">\n",
    "    <div style=\"color: black; font-size: 15px; font-style: oblique; text-shadow: 0 0 3px white, 0 0 1px black; padding: 20px;\">\n",
    "\n",
    "- ### 14 Only Show Specfic name in Shadow File \n",
    "- `sudo getent shadow <name>`\n"
   ]
  },
  {
   "cell_type": "code",
   "execution_count": 71,
   "id": "f2b7f194-6c6e-4206-a50b-58a431ae38c2",
   "metadata": {},
   "outputs": [
    {
     "name": "stdout",
     "output_type": "stream",
     "text": [
      "ali:$y$j9T$iaw5/HQiK92rNyWIZFAHm.$4m3QKJxUgsFuZTLcPB4i6lMmnBQXPlyHFBqPdAlXek5:20249:0:99999:7:::\n"
     ]
    }
   ],
   "source": [
    "sudo getent shadow ali"
   ]
  },
  {
   "cell_type": "markdown",
   "id": "a6ed5a84-1f78-40c9-8b6a-3e277e962683",
   "metadata": {},
   "source": [
    "<body style=\"font-family: Sans-serif;\">\n",
    "    <div style=\"color: black; font-size: 15px; font-style: oblique; text-shadow: 0 0 3px white, 0 0 1px black; padding: 20px;\">\n",
    "\n",
    "#### List of Common getent Databases:\n",
    "\n",
    "| Database     | Description                              |\n",
    "| ------------ | ---------------------------------------- |\n",
    "| `aliases`    | Mail aliases (from `/etc/aliases`)       |\n",
    "| `ethers`     | Ethernet addresses (`/etc/ethers`)       |\n",
    "| `group`      | Groups info (`/etc/group`)               |\n",
    "| `gshadow`    | Secure group passwords                   |\n",
    "| `hosts`      | Hostname/IP map (`/etc/hosts`, DNS)      |\n",
    "| `initgroups` | Group memberships for a user             |\n",
    "| `netgroup`   | Network group entries                    |\n",
    "| `networks`   | Network names (`/etc/networks`)          |\n",
    "| `passwd`     | User accounts (`/etc/passwd`)            |\n",
    "| `protocols`  | Network protocols (`/etc/protocols`)     |\n",
    "| `rpc`        | Remote procedure call names (`/etc/rpc`) |\n",
    "| `services`   | Port/services info (`/etc/services`)     |\n",
    "| `shadow`     | Encrypted user passwords (`/etc/shadow`) |\n"
   ]
  },
  {
   "cell_type": "markdown",
   "id": "844db39c-ad88-4d22-8ab1-e1988ff9ecc5",
   "metadata": {},
   "source": [
    "<h1 style=\"text-align:center; color:#005bbd; font-size:20px; font-family:Sans-serif; font-style: oblique; text-shadow: 0 0 3px white, 0 0 1px Black;\">\n",
    "head Command</h1>"
   ]
  },
  {
   "cell_type": "markdown",
   "id": "415ce729-ceee-47fa-ac5e-038cbc43a588",
   "metadata": {},
   "source": [
    "<body style=\"font-family: Sans-serif;\">\n",
    "    <div style=\"color: black; font-size: 15px; font-style: oblique; text-shadow: 0 0 3px white, 0 0 1px black; padding: 20px;\">\n",
    "\n",
    "head – File ke start (top) se lines ya bytes dikhata hai\n",
    "\n",
    "| Option | Use                                            | Example                                |\n",
    "| ------ | ---------------------------------------------- | -------------------------------------- |\n",
    "| `-n N` | N lines show kare                              | `head -n 5 file.txt` → first 5 lines   |\n",
    "| `-c N` | N **bytes/characters** show kare               | `head -c 20 file.txt` → first 20 bytes |\n",
    "| `-v`   | File name show kare (multiple files me useful) | `head -v file1.txt file2.txt`          |\n",
    "| `-q`   | Quiet mode (file name na dikhaye)              | `head -q file1 file2`                  |\n"
   ]
  },
  {
   "cell_type": "markdown",
   "id": "cc871d40-2ab8-45ec-8666-f15961d346bb",
   "metadata": {},
   "source": [
    "<body style=\"font-family: Sans-serif;\">\n",
    "    <div style=\"color: black; font-size: 15px; font-style: oblique; text-shadow: 0 0 3px white, 0 0 1px black; padding: 20px;\">\n",
    "        \n",
    "1 `head file`\n",
    "- Default show 10 lines"
   ]
  },
  {
   "cell_type": "code",
   "execution_count": 100,
   "id": "988ef06a-d076-4792-bd73-1efc77d24a4b",
   "metadata": {},
   "outputs": [
    {
     "name": "stdout",
     "output_type": "stream",
     "text": [
      "root:x:0:0::/root:/usr/bin/bash\n",
      "bin:x:1:1::/:/usr/bin/nologin\n",
      "daemon:x:2:2::/:/usr/bin/nologin\n",
      "mail:x:8:12::/var/spool/mail:/usr/bin/nologin\n",
      "ftp:x:14:11::/srv/ftp:/usr/bin/nologin\n",
      "http:x:33:33::/srv/http:/usr/bin/nologin\n",
      "nobody:x:65534:65534:Kernel Overflow User:/:/usr/bin/nologin\n",
      "dbus:x:81:81:System Message Bus:/:/usr/bin/nologin\n",
      "systemd-coredump:x:980:980:systemd Core Dumper:/:/usr/bin/nologin\n",
      "systemd-network:x:979:979:systemd Network Management:/:/usr/bin/nologin\n"
     ]
    }
   ],
   "source": [
    "head /etc/passwd"
   ]
  },
  {
   "cell_type": "markdown",
   "id": "ec05f767-9bd1-46fd-8c68-75e55e88f2b6",
   "metadata": {},
   "source": [
    "<body style=\"font-family: Sans-serif;\">\n",
    "    <div style=\"color: black; font-size: 15px; font-style: oblique; text-shadow: 0 0 3px white, 0 0 1px black; padding: 20px;\">\n",
    "        \n",
    "2 `-n`\n",
    "- `head file -n 5`\n",
    "- Show 5 lines"
   ]
  },
  {
   "cell_type": "code",
   "execution_count": 2,
   "id": "b79a48ae-feff-4d23-96a5-b18700323a24",
   "metadata": {},
   "outputs": [
    {
     "name": "stdout",
     "output_type": "stream",
     "text": [
      "root:x:0:0::/root:/usr/bin/bash\n",
      "bin:x:1:1::/:/usr/bin/nologin\n",
      "daemon:x:2:2::/:/usr/bin/nologin\n",
      "mail:x:8:12::/var/spool/mail:/usr/bin/nologin\n",
      "ftp:x:14:11::/srv/ftp:/usr/bin/nologin\n"
     ]
    }
   ],
   "source": [
    "head /etc/passwd -n 5"
   ]
  },
  {
   "cell_type": "markdown",
   "id": "79e8859b-d076-46dc-a4a4-a92f31c66427",
   "metadata": {},
   "source": [
    "<body style=\"font-family: Sans-serif;\">\n",
    "    <div style=\"color: black; font-size: 15px; font-style: oblique; text-shadow: 0 0 3px white, 0 0 1px black; padding: 20px;\">\n",
    "        \n",
    "3 `-c`\n",
    "- `head file -c 50`\n",
    "- Show 50 bytes"
   ]
  },
  {
   "cell_type": "code",
   "execution_count": 7,
   "id": "e562533c-4a6f-4c98-9e8b-5bb93450aebb",
   "metadata": {},
   "outputs": [
    {
     "name": "stdout",
     "output_type": "stream",
     "text": [
      "root:x:0:0::/root:/usr/bin/bash\n",
      "bin:x:1:1::/:/usr/"
     ]
    }
   ],
   "source": [
    "!head /etc/passwd -c 50"
   ]
  },
  {
   "cell_type": "markdown",
   "id": "2068ef04-89e1-4026-8a0a-319edf6307c9",
   "metadata": {},
   "source": [
    "<body style=\"font-family: Sans-serif;\">\n",
    "    <div style=\"color: black; font-size: 15px; font-style: oblique; text-shadow: 0 0 3px white, 0 0 1px black; padding: 20px;\">\n",
    "        \n",
    "4 `-v`\n",
    "- `head -v file1 file2`\n",
    "- Read Multiple Files"
   ]
  },
  {
   "cell_type": "code",
   "execution_count": 10,
   "id": "781f89a8-6597-4cbd-9984-d830fcae9b1e",
   "metadata": {},
   "outputs": [
    {
     "name": "stdout",
     "output_type": "stream",
     "text": [
      "file1.txt\n",
      "file2.txt\n"
     ]
    }
   ],
   "source": [
    "cat <<< \"this is file 1\" > file1.txt\n",
    "cat <<< \"this is file 2\" > file2.txt\n",
    "ls"
   ]
  },
  {
   "cell_type": "code",
   "execution_count": 11,
   "id": "5d7284dc-a22a-4410-a009-8c7c0b65f45f",
   "metadata": {},
   "outputs": [
    {
     "name": "stdout",
     "output_type": "stream",
     "text": [
      "==> file1.txt <==\n",
      "this is file 1\n",
      "\n",
      "==> file2.txt <==\n",
      "this is file 2\n"
     ]
    }
   ],
   "source": [
    "head -v file1.txt file2.txt"
   ]
  },
  {
   "cell_type": "markdown",
   "id": "cade5cff-ea79-45bd-be8f-f1da1c2040a0",
   "metadata": {},
   "source": [
    "<body style=\"font-family: Sans-serif;\">\n",
    "    <div style=\"color: black; font-size: 15px; font-style: oblique; text-shadow: 0 0 3px white, 0 0 1px black; padding: 20px;\">\n",
    "        \n",
    "5 `-q`\n",
    "- `head -q file1 file2`\n",
    "- Read Multiple Files Quiet mode (file name show nahi ho ga)"
   ]
  },
  {
   "cell_type": "code",
   "execution_count": 14,
   "id": "e6bb2e8d-6a62-487a-ac76-7b99392ecf6a",
   "metadata": {},
   "outputs": [
    {
     "name": "stdout",
     "output_type": "stream",
     "text": [
      "this is file 1\n",
      "this is file 2\n"
     ]
    }
   ],
   "source": [
    "head -q file1.txt file2.txt"
   ]
  },
  {
   "cell_type": "markdown",
   "id": "cb26a37f-bec0-4442-8af5-9afb2e4d2129",
   "metadata": {},
   "source": [
    "<body style=\"font-family: Sans-serif;\">\n",
    "    <div style=\"color: black; font-size: 15px; font-style: oblique; text-shadow: 0 0 3px white, 0 0 1px black; padding: 20px;\">\n",
    "        \n",
    "5 `Show All files Sata `\n",
    "- `head -q -c 3 *.txt`\n",
    "- Read 3 bytes on Multiple Files "
   ]
  },
  {
   "cell_type": "code",
   "execution_count": 21,
   "id": "4b7bd907-1095-4e5c-8c49-07ad17ebfdb2",
   "metadata": {},
   "outputs": [
    {
     "name": "stdout",
     "output_type": "stream",
     "text": [
      "thithi"
     ]
    }
   ],
   "source": [
    "head -q -c 3 *.txt"
   ]
  },
  {
   "cell_type": "markdown",
   "id": "040ec235-1261-404e-9796-8d57c2bc5db4",
   "metadata": {},
   "source": [
    "<body style=\"font-family: Sans-serif;\">\n",
    "    <div style=\"color: black; font-size: 15px; font-style: oblique; text-shadow: 0 0 3px white, 0 0 1px black; padding: 20px;\">\n",
    "        \n",
    "Also use with -c"
   ]
  },
  {
   "cell_type": "code",
   "execution_count": 23,
   "id": "336c64fd-af49-4712-9cc2-0e0f8dac28ad",
   "metadata": {},
   "outputs": [
    {
     "name": "stdout",
     "output_type": "stream",
     "text": [
      "==> file1.txt <==\n",
      "thi\n",
      "==> file2.txt <==\n",
      "thi"
     ]
    }
   ],
   "source": [
    "head -c 3 *.txt"
   ]
  },
  {
   "cell_type": "markdown",
   "id": "286e49ab-761d-44a3-ad7e-8e1108350753",
   "metadata": {},
   "source": [
    "<h1 style=\"text-align:center; color:#005bbd; font-size:20px; font-family:Sans-serif; font-style: oblique; text-shadow: 0 0 3px white, 0 0 1px Black;\">\n",
    "tail Command</h1>"
   ]
  },
  {
   "cell_type": "markdown",
   "id": "c9f3c2a6-d4ca-4d01-b852-8daca888e838",
   "metadata": {},
   "source": [
    "<body style=\"font-family: Sans-serif;\">\n",
    "    <div style=\"color: black; font-size: 15px; font-style: oblique; text-shadow: 0 0 3px white, 0 0 1px black; padding: 20px;\">\n",
    "\n",
    "tail Command – File ke end ka hissa Show kary ga\n",
    "\n",
    "| Option      | Use                                                    | Example                             |\n",
    "| ----------- | ------------------------------------------------------ | ----------------------------------- |\n",
    "| `-n N`      | N lines show kare                                      | `tail -n 5 file.txt` → last 5 lines |\n",
    "| `-c N`      | N bytes show kare                                      | `tail -c 30 file.txt`               |\n",
    "| `-f`        | **Live follow** mode (new data auto show hota hai)     | `tail -f /var/log/syslog`           |\n",
    "| `-F`        | Like `-f` + file recreate hone pe bhi follow karta hai | `tail -F logfile.log`               |\n",
    "| `--pid=PID` | Follow tab tak kare jab tak specific process zinda ho  | `tail -f --pid=1234 file.log`       |\n"
   ]
  },
  {
   "cell_type": "markdown",
   "id": "5d411dad-c084-41d9-80af-6d75a1bb4a4b",
   "metadata": {},
   "source": [
    "<body style=\"font-family: Sans-serif;\">\n",
    "    <div style=\"color: black; font-size: 15px; font-style: oblique; text-shadow: 0 0 3px white, 0 0 1px black; padding: 20px;\">\n",
    "        \n",
    "1 `tail file`\n",
    "- Default show 10 lines"
   ]
  },
  {
   "cell_type": "code",
   "execution_count": 29,
   "id": "cad93494-6ea7-401f-b631-63c337d1cae0",
   "metadata": {},
   "outputs": [
    {
     "name": "stdout",
     "output_type": "stream",
     "text": [
      "systemd-resolve:x:976:976:systemd Resolver:/:/usr/bin/nologin\n",
      "systemd-timesync:x:975:975:systemd Time Synchronization:/:/usr/bin/nologin\n",
      "tss:x:974:974:tss user for tpm2:/:/usr/bin/nologin\n",
      "uuidd:x:973:973:UUID generator helper daemon:/var/lib/libuuid:/usr/bin/nologin\n",
      "alpm:x:972:972:Arch Linux Package Management:/:/usr/bin/nologin\n",
      "mubeen:x:1000:1000::/home/mubeen:/usr/bin/bash\n",
      "git:x:971:971:git daemon user:/:/usr/bin/git-shell\n",
      "ali:x:1001:1004::/home/ali:/usr/bin/bash\n",
      "user2:x:1002:1002::/home/user2:/usr/bin/bash\n",
      "user5:x:1003:1005::/home/user5:/usr/bin/bash\n"
     ]
    }
   ],
   "source": [
    "tail /etc/passwd "
   ]
  },
  {
   "cell_type": "markdown",
   "id": "293c8600-7f01-49f5-ac3a-6eab2ae1d265",
   "metadata": {},
   "source": [
    "<body style=\"font-family: Sans-serif;\">\n",
    "    <div style=\"color: black; font-size: 15px; font-style: oblique; text-shadow: 0 0 3px white, 0 0 1px black; padding: 20px;\">\n",
    "        \n",
    "2 `-n`\n",
    "- `tail file -n 5`\n",
    "- Show 5 lines"
   ]
  },
  {
   "cell_type": "code",
   "execution_count": 30,
   "id": "93eff9fd-c246-4be5-99d2-62369e4a359b",
   "metadata": {},
   "outputs": [
    {
     "name": "stdout",
     "output_type": "stream",
     "text": [
      "mubeen:x:1000:1000::/home/mubeen:/usr/bin/bash\n",
      "git:x:971:971:git daemon user:/:/usr/bin/git-shell\n",
      "ali:x:1001:1004::/home/ali:/usr/bin/bash\n",
      "user2:x:1002:1002::/home/user2:/usr/bin/bash\n",
      "user5:x:1003:1005::/home/user5:/usr/bin/bash\n"
     ]
    }
   ],
   "source": [
    "tail /etc/passwd -n 5"
   ]
  },
  {
   "cell_type": "markdown",
   "id": "5ff5bcb8-2eed-4aca-9cb1-26233645aaf2",
   "metadata": {},
   "source": [
    "<body style=\"font-family: Sans-serif;\">\n",
    "    <div style=\"color: black; font-size: 15px; font-style: oblique; text-shadow: 0 0 3px white, 0 0 1px black; padding: 20px;\">\n",
    "        \n",
    "3 `-c`\n",
    "- `tail file -c 50`\n",
    "- Show 50 bytes"
   ]
  },
  {
   "cell_type": "code",
   "execution_count": 34,
   "id": "b67f850d-809e-432a-966e-34430d4b264b",
   "metadata": {},
   "outputs": [
    {
     "name": "stdout",
     "output_type": "stream",
     "text": [
      "bash\n",
      "user5:x:1003:1005::/home/user5:/usr/bin/bash\n"
     ]
    }
   ],
   "source": [
    "tail /etc/passwd -c 50"
   ]
  },
  {
   "cell_type": "markdown",
   "id": "05224121-3d31-481a-aefa-376dd90f8dbe",
   "metadata": {},
   "source": [
    "<body style=\"font-family: Sans-serif;\">\n",
    "    <div style=\"color: black; font-size: 15px; font-style: oblique; text-shadow: 0 0 3px white, 0 0 1px black; padding: 20px;\">\n",
    "        \n",
    "4 `-f`\n",
    "- `tail -f file`\n",
    "- Show Live data"
   ]
  },
  {
   "cell_type": "code",
   "execution_count": 38,
   "id": "5a009409-f7ae-4638-a5be-ea9f37e2d3ab",
   "metadata": {},
   "outputs": [
    {
     "name": "stdout",
     "output_type": "stream",
     "text": [
      "[2025-06-24T00:49:41+0500] [PACMAN] Running 'pacman -S less'\n",
      "[2025-06-24T00:49:48+0500] [PACMAN] Running 'pacman -uS less'\n",
      "[2025-06-24T00:49:48+0500] [PACMAN] starting full system upgrade\n",
      "[2025-06-24T00:49:53+0500] [PACMAN] Running 'pacman -yS less'\n",
      "[2025-06-24T00:49:53+0500] [PACMAN] synchronizing package lists\n",
      "[2025-06-24T00:50:02+0500] [PACMAN] Running 'pacman -S less'\n",
      "[2025-06-24T00:50:07+0500] [ALPM] transaction started\n",
      "[2025-06-24T00:50:07+0500] [ALPM] installed less (1:668-1)\n",
      "[2025-06-24T00:50:07+0500] [ALPM] transaction completed\n",
      "[2025-06-24T00:50:07+0500] [ALPM] running '30-systemd-update.hook'...\n",
      "[2025-06-24T02:01:05+0500] [PACMAN] Running 'pacman -S'\n",
      "[2025-06-24T02:01:32+0500] [PACMAN] Running 'pacman -S'\n",
      "[2025-06-24T02:01:41+0500] [PACMAN] Running 'pacman -S'\n",
      "[2025-06-24T02:01:43+0500] [PACMAN] Running 'pacman -Su'\n",
      "[2025-06-24T02:01:43+0500] [PACMAN] starting full system upgrade\n",
      "^C\n"
     ]
    }
   ],
   "source": [
    "tail -f /var/log/pacman.log"
   ]
  },
  {
   "cell_type": "markdown",
   "id": "250bac4c-b272-4702-be06-5b006d0519c6",
   "metadata": {},
   "source": [
    "<body style=\"font-family: Sans-serif;\">\n",
    "    <div style=\"color: black; font-size: 15px; font-style: oblique; text-shadow: 0 0 3px white, 0 0 1px black; padding: 20px;\">\n",
    "        \n",
    "4 `-F`\n",
    "- `tail -F file`\n",
    "- file recreate hone pe bhi follow karta hai"
   ]
  },
  {
   "cell_type": "code",
   "execution_count": 39,
   "id": "b9e8389f-3499-4e80-a3be-bf3731670f97",
   "metadata": {},
   "outputs": [
    {
     "name": "stdout",
     "output_type": "stream",
     "text": [
      "[2025-06-24T00:50:02+0500] [PACMAN] Running 'pacman -S less'\n",
      "[2025-06-24T00:50:07+0500] [ALPM] transaction started\n",
      "[2025-06-24T00:50:07+0500] [ALPM] installed less (1:668-1)\n",
      "[2025-06-24T00:50:07+0500] [ALPM] transaction completed\n",
      "[2025-06-24T00:50:07+0500] [ALPM] running '30-systemd-update.hook'...\n",
      "[2025-06-24T02:01:05+0500] [PACMAN] Running 'pacman -S'\n",
      "[2025-06-24T02:01:32+0500] [PACMAN] Running 'pacman -S'\n",
      "[2025-06-24T02:01:41+0500] [PACMAN] Running 'pacman -S'\n",
      "[2025-06-24T02:01:43+0500] [PACMAN] Running 'pacman -Su'\n",
      "[2025-06-24T02:01:43+0500] [PACMAN] starting full system upgrade\n",
      "^C\n"
     ]
    }
   ],
   "source": [
    "tail -F /var/log/pacman.log"
   ]
  },
  {
   "cell_type": "markdown",
   "id": "e3ff0f0d-1f30-4c74-aa25-e00953a118e4",
   "metadata": {},
   "source": [
    "<body style=\"font-family: Sans-serif;\">\n",
    "    <div style=\"color: black; font-size: 15px; font-style: oblique; text-shadow: 0 0 3px white, 0 0 1px black; padding: 20px;\">\n",
    "        \n",
    "5 `--pid=PID`\n",
    "- `tail -f --pid=PID file`\n",
    "- Follow tab tak kare jab tak specific process zinda ho"
   ]
  },
  {
   "cell_type": "markdown",
   "id": "41675322-bb9d-4a0b-b6d1-dbbbe7ab3914",
   "metadata": {},
   "source": [
    "<body style=\"font-family: Sans-serif;\">\n",
    "    <div style=\"color: black; font-size: 15px; font-style: oblique; text-shadow: 0 0 3px white, 0 0 1px black; padding: 20px;\">\n",
    "\n",
    "- first check psid"
   ]
  },
  {
   "cell_type": "code",
   "execution_count": 59,
   "id": "b02c6afa-f2eb-4d86-b865-2784daaa2e21",
   "metadata": {},
   "outputs": [
    {
     "name": "stdout",
     "output_type": "stream",
     "text": [
      "1199\n"
     ]
    }
   ],
   "source": [
    "pidof nano"
   ]
  },
  {
   "cell_type": "code",
   "execution_count": 66,
   "id": "66cb3eaf-26e7-4685-bce3-44e7094b7cd0",
   "metadata": {},
   "outputs": [
    {
     "name": "stdout",
     "output_type": "stream",
     "text": [
      "hello\n",
      "this is data.txt file\n"
     ]
    }
   ],
   "source": [
    "tail -f --pid=1199 data.txt"
   ]
  },
  {
   "cell_type": "markdown",
   "id": "afe9ecac-678b-4c27-b1b9-44fa75646ffc",
   "metadata": {},
   "source": [
    "<body style=\"font-family: Sans-serif;\">\n",
    "    <div style=\"color: black; font-size: 15px; font-style: oblique; text-shadow: 0 0 3px white, 0 0 1px black; padding: 20px;\">\n",
    "        \n",
    "- Combine Example:"
   ]
  },
  {
   "cell_type": "code",
   "execution_count": 69,
   "id": "c2b258dd-dcac-4541-9527-3ce41c602ba6",
   "metadata": {},
   "outputs": [
    {
     "name": "stdout",
     "output_type": "stream",
     "text": [
      "root:x:0:0::/root:/usr/bin/bash\n",
      "bin:x:1:1::/:/usr/bin/nologin\n",
      "daemon:x:2:2::/:/usr/bin/nologin\n",
      "mail:x:8:12::/var/spool/mail:/usr/bin/nologin\n",
      "ftp:x:14:11::/srv/ftp:/usr/bin/nologin\n",
      "-----\n",
      "mubeen:x:1000:1000::/home/mubeen:/usr/bin/bash\n",
      "git:x:971:971:git daemon user:/:/usr/bin/git-shell\n",
      "ali:x:1001:1004::/home/ali:/usr/bin/bash\n",
      "user2:x:1002:1002::/home/user2:/usr/bin/bash\n",
      "user5:x:1003:1005::/home/user5:/usr/bin/bash\n"
     ]
    }
   ],
   "source": [
    "head -n 5 /etc/passwd\n",
    "echo \"-----\"\n",
    "tail -n 5 /etc/passwd"
   ]
  },
  {
   "cell_type": "markdown",
   "id": "0602ecf5-51e9-4a94-abcd-2963610322a9",
   "metadata": {},
   "source": [
    "<h1 style=\"text-align:center; color:#005bbd; font-size:20px; font-family:Sans-serif; font-style: oblique; text-shadow: 0 0 3px white, 0 0 1px Black;\">\n",
    "getent Command Mindmap</h1>"
   ]
  },
  {
   "cell_type": "markdown",
   "id": "37a0ef56-f3d4-448c-8ec5-d28ad3ccffd3",
   "metadata": {},
   "source": [
    "<img src=\"./images/76.jpg\" style=\"display: block;margin-left: auto; margin-right: auto;width:100%\">"
   ]
  },
  {
   "cell_type": "markdown",
   "id": "cf77421d-86b1-4739-a16c-b4d99774c425",
   "metadata": {},
   "source": [
    "<h1 style=\"text-align:center; color:#005bbd; font-size:20px; font-family:Sans-serif; font-style: oblique; text-shadow: 0 0 3px white, 0 0 1px Black;\">\n",
    "head Command Mindmap</h1>"
   ]
  },
  {
   "attachments": {},
   "cell_type": "markdown",
   "id": "d6ccc038-7fd3-4e70-ae5f-7830fed68652",
   "metadata": {},
   "source": [
    "<img src=\"./images/77.jpg\" style=\"display: block;margin-left: auto; margin-right: auto;width:100%\">"
   ]
  },
  {
   "cell_type": "markdown",
   "id": "9071a3a2-d8e5-4b5b-adab-acb4d034fe9d",
   "metadata": {},
   "source": [
    "<h1 style=\"text-align:center; color:#005bbd; font-size:20px; font-family:Sans-serif; font-style: oblique; text-shadow: 0 0 3px white, 0 0 1px Black;\">\n",
    "tail Command Mindmap</h1>"
   ]
  },
  {
   "attachments": {},
   "cell_type": "markdown",
   "id": "6b4f87e4-108b-462e-8dec-566d86191b71",
   "metadata": {},
   "source": [
    "<img src=\"./images/78.jpg\" style=\"display: block;margin-left: auto; margin-right: auto;width:100%\">"
   ]
  }
 ],
 "metadata": {
  "kernelspec": {
   "display_name": "Python 3 (ipykernel)",
   "language": "python",
   "name": "python3"
  },
  "language_info": {
   "codemirror_mode": {
    "name": "ipython",
    "version": 3
   },
   "file_extension": ".py",
   "mimetype": "text/x-python",
   "name": "python",
   "nbconvert_exporter": "python",
   "pygments_lexer": "ipython3",
   "version": "3.13.4"
  }
 },
 "nbformat": 4,
 "nbformat_minor": 5
}
